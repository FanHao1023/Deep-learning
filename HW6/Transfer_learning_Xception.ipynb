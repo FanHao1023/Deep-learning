{
 "cells": [
  {
   "cell_type": "code",
   "execution_count": 1,
   "id": "743a1042",
   "metadata": {},
   "outputs": [],
   "source": [
    "import matplotlib.pyplot as plt\n",
    "import seaborn as sns\n",
    "%matplotlib inline\n",
    "\n",
    "import numpy as np # linear algebra\n",
    "import pandas as pd # data processing, CSV file I/O (e.g. pd.read_csv)\n",
    "\n",
    "import warnings\n",
    "warnings.filterwarnings(\"ignore\")"
   ]
  },
  {
   "cell_type": "code",
   "execution_count": 2,
   "id": "f120c50e",
   "metadata": {},
   "outputs": [
    {
     "name": "stdout",
     "output_type": "stream",
     "text": [
      "WARNING:tensorflow:From C:\\Users\\User\\anaconda3\\Lib\\site-packages\\keras\\src\\losses.py:2976: The name tf.losses.sparse_softmax_cross_entropy is deprecated. Please use tf.compat.v1.losses.sparse_softmax_cross_entropy instead.\n",
      "\n",
      "2.15.0\n"
     ]
    }
   ],
   "source": [
    "#Import keras functions\n",
    "\n",
    "import tensorflow as tf\n",
    "print(tf.__version__)\n",
    "\n",
    "from keras import Sequential\n",
    "from tensorflow.keras.utils import to_categorical\n",
    "from tensorflow.keras.optimizers import SGD,Adam\n",
    "from keras.callbacks import ReduceLROnPlateau\n",
    "from tensorflow.keras.applications import VGG19,Xception\n",
    "from tensorflow.keras.layers import Input,Flatten,Dense,BatchNormalization,Activation,Dropout,GlobalAveragePooling2D,MaxPooling2D,RandomFlip,RandomZoom,RandomRotation"
   ]
  },
  {
   "cell_type": "code",
   "execution_count": 3,
   "id": "102e6188",
   "metadata": {},
   "outputs": [],
   "source": [
    "#Import the dataset\n",
    "\n",
    "from keras.datasets import cifar10"
   ]
  },
  {
   "cell_type": "code",
   "execution_count": 4,
   "id": "785b2eb1",
   "metadata": {},
   "outputs": [
    {
     "name": "stdout",
     "output_type": "stream",
     "text": [
      "((50000, 32, 32, 3), (50000, 10))\n",
      "((10000, 32, 32, 3), (10000, 10))\n"
     ]
    }
   ],
   "source": [
    "(x_train, y_train), (x_val, y_val) = cifar10.load_data()\n",
    "\n",
    "# xception.preprocess_input(): the inputs pixel values are scaled between -1 and 1\n",
    "#x_train = tf.keras.applications.xception.preprocess_input(x_train)\n",
    "#x_val = tf.keras.applications.xception.preprocess_input(x_val)\n",
    "\n",
    "y_train=to_categorical(y_train)\n",
    "y_val=to_categorical(y_val)\n",
    "\n",
    "print((x_train.shape, y_train.shape))\n",
    "print((x_val.shape, y_val.shape))\n"
   ]
  },
  {
   "cell_type": "code",
   "execution_count": 5,
   "id": "a6cc7125",
   "metadata": {},
   "outputs": [
    {
     "name": "stdout",
     "output_type": "stream",
     "text": [
      "WARNING:tensorflow:From C:\\Users\\User\\anaconda3\\Lib\\site-packages\\keras\\src\\backend.py:1398: The name tf.executing_eagerly_outside_functions is deprecated. Please use tf.compat.v1.executing_eagerly_outside_functions instead.\n",
      "\n",
      "WARNING:tensorflow:From C:\\Users\\User\\anaconda3\\Lib\\site-packages\\keras\\src\\layers\\normalization\\batch_normalization.py:979: The name tf.nn.fused_batch_norm is deprecated. Please use tf.compat.v1.nn.fused_batch_norm instead.\n",
      "\n"
     ]
    }
   ],
   "source": [
    "base_model = Xception(include_top=False, weights='imagenet', input_shape=(224,224,3), classes=y_train.shape[1])"
   ]
  },
  {
   "cell_type": "code",
   "execution_count": 6,
   "id": "42e3853c",
   "metadata": {},
   "outputs": [],
   "source": [
    "# freeze all layers\n",
    "base_model.trainable = False\n",
    "\n",
    "# to freeze only some of the layers\n",
    "# index 0 is the input layer\n",
    "#for layer in base_model.layers[:12]:\n",
    "#    layer.trainable = False"
   ]
  },
  {
   "cell_type": "code",
   "execution_count": 7,
   "id": "09042d34",
   "metadata": {},
   "outputs": [],
   "source": [
    "data_augmentation = Sequential(\n",
    "    [RandomFlip(\"horizontal\"), \n",
    "     RandomRotation(0.1),\n",
    "     RandomZoom(0.1)]\n",
    ")"
   ]
  },
  {
   "cell_type": "code",
   "execution_count": 8,
   "id": "7b85bc36",
   "metadata": {},
   "outputs": [],
   "source": [
    "inputs = tf.keras.Input(shape=(32, 32, 3))\n",
    "x = tf.keras.layers.Lambda(lambda image: tf.image.resize(image, (224,224)))(inputs)\n",
    "x = data_augmentation(x)\n",
    "x = tf.keras.applications.xception.preprocess_input(x)\n",
    "x = base_model(x, training=False)\n",
    "x = tf.keras.layers.GlobalAveragePooling2D()(x)\n",
    "x = tf.keras.layers.Dropout(0.3)(x)\n",
    "outputs = tf.keras.layers.Dense(10, activation=('softmax'))(x)\n",
    "model = tf.keras.Model(inputs, outputs)"
   ]
  },
  {
   "cell_type": "code",
   "execution_count": 9,
   "id": "f7640760",
   "metadata": {},
   "outputs": [
    {
     "name": "stdout",
     "output_type": "stream",
     "text": [
      "Model: \"model\"\n",
      "_________________________________________________________________\n",
      " Layer (type)                Output Shape              Param #   \n",
      "=================================================================\n",
      " input_2 (InputLayer)        [(None, 32, 32, 3)]       0         \n",
      "                                                                 \n",
      " lambda (Lambda)             (None, 224, 224, 3)       0         \n",
      "                                                                 \n",
      " sequential (Sequential)     (None, 224, 224, 3)       0         \n",
      "                                                                 \n",
      " tf.math.truediv (TFOpLambd  (None, 224, 224, 3)       0         \n",
      " a)                                                              \n",
      "                                                                 \n",
      " tf.math.subtract (TFOpLamb  (None, 224, 224, 3)       0         \n",
      " da)                                                             \n",
      "                                                                 \n",
      " xception (Functional)       (None, 7, 7, 2048)        20861480  \n",
      "                                                                 \n",
      " global_average_pooling2d (  (None, 2048)              0         \n",
      " GlobalAveragePooling2D)                                         \n",
      "                                                                 \n",
      " dropout (Dropout)           (None, 2048)              0         \n",
      "                                                                 \n",
      " dense (Dense)               (None, 10)                20490     \n",
      "                                                                 \n",
      "=================================================================\n",
      "Total params: 20881970 (79.66 MB)\n",
      "Trainable params: 20490 (80.04 KB)\n",
      "Non-trainable params: 20861480 (79.58 MB)\n",
      "_________________________________________________________________\n"
     ]
    }
   ],
   "source": [
    "model.summary()"
   ]
  },
  {
   "cell_type": "code",
   "execution_count": 10,
   "id": "84590157",
   "metadata": {},
   "outputs": [
    {
     "name": "stdout",
     "output_type": "stream",
     "text": [
      "WARNING:tensorflow:From C:\\Users\\User\\anaconda3\\Lib\\site-packages\\keras\\src\\optimizers\\__init__.py:309: The name tf.train.Optimizer is deprecated. Please use tf.compat.v1.train.Optimizer instead.\n",
      "\n"
     ]
    }
   ],
   "source": [
    "model.compile(optimizer='adam', loss='categorical_crossentropy', metrics=['accuracy'])"
   ]
  },
  {
   "cell_type": "code",
   "execution_count": 11,
   "id": "e44cbeba",
   "metadata": {
    "scrolled": false
   },
   "outputs": [
    {
     "name": "stdout",
     "output_type": "stream",
     "text": [
      "Epoch 1/20\n",
      "WARNING:tensorflow:From C:\\Users\\User\\anaconda3\\Lib\\site-packages\\keras\\src\\utils\\tf_utils.py:492: The name tf.ragged.RaggedTensorValue is deprecated. Please use tf.compat.v1.ragged.RaggedTensorValue instead.\n",
      "\n",
      "WARNING:tensorflow:From C:\\Users\\User\\anaconda3\\Lib\\site-packages\\keras\\src\\engine\\base_layer_utils.py:384: The name tf.executing_eagerly_outside_functions is deprecated. Please use tf.compat.v1.executing_eagerly_outside_functions instead.\n",
      "\n",
      "1563/1563 [==============================] - 1236s 787ms/step - loss: 0.7506 - accuracy: 0.7457 - val_loss: 0.4289 - val_accuracy: 0.8576\n",
      "Epoch 2/20\n",
      "1563/1563 [==============================] - 1192s 763ms/step - loss: 0.6375 - accuracy: 0.7799 - val_loss: 0.4154 - val_accuracy: 0.8603\n",
      "Epoch 3/20\n",
      "1563/1563 [==============================] - 1192s 763ms/step - loss: 0.6219 - accuracy: 0.7857 - val_loss: 0.3962 - val_accuracy: 0.8643\n",
      "Epoch 4/20\n",
      "1563/1563 [==============================] - 1152s 737ms/step - loss: 0.6166 - accuracy: 0.7886 - val_loss: 0.3877 - val_accuracy: 0.8663\n",
      "Epoch 5/20\n",
      "1563/1563 [==============================] - 890s 570ms/step - loss: 0.6159 - accuracy: 0.7898 - val_loss: 0.3901 - val_accuracy: 0.8688\n",
      "Epoch 6/20\n",
      "1563/1563 [==============================] - 890s 569ms/step - loss: 0.6081 - accuracy: 0.7915 - val_loss: 0.3988 - val_accuracy: 0.8682\n",
      "Epoch 7/20\n",
      "1563/1563 [==============================] - 889s 569ms/step - loss: 0.6047 - accuracy: 0.7938 - val_loss: 0.4049 - val_accuracy: 0.8634\n",
      "Epoch 8/20\n",
      "1563/1563 [==============================] - 888s 568ms/step - loss: 0.6163 - accuracy: 0.7883 - val_loss: 0.3886 - val_accuracy: 0.8709\n",
      "Epoch 9/20\n",
      "1563/1563 [==============================] - 887s 568ms/step - loss: 0.6133 - accuracy: 0.7904 - val_loss: 0.3828 - val_accuracy: 0.8710\n",
      "Epoch 10/20\n",
      "1563/1563 [==============================] - 892s 571ms/step - loss: 0.6085 - accuracy: 0.7915 - val_loss: 0.3905 - val_accuracy: 0.8680\n",
      "Epoch 11/20\n",
      "1563/1563 [==============================] - 891s 570ms/step - loss: 0.5991 - accuracy: 0.7951 - val_loss: 0.3878 - val_accuracy: 0.8697\n",
      "Epoch 12/20\n",
      "1563/1563 [==============================] - 891s 570ms/step - loss: 0.6049 - accuracy: 0.7920 - val_loss: 0.3876 - val_accuracy: 0.8711\n",
      "Epoch 13/20\n",
      "1563/1563 [==============================] - 889s 569ms/step - loss: 0.6048 - accuracy: 0.7931 - val_loss: 0.3917 - val_accuracy: 0.8661\n",
      "Epoch 14/20\n",
      "1563/1563 [==============================] - 888s 568ms/step - loss: 0.6080 - accuracy: 0.7929 - val_loss: 0.3806 - val_accuracy: 0.8706\n",
      "Epoch 15/20\n",
      "1563/1563 [==============================] - 6252s 4s/step - loss: 0.6047 - accuracy: 0.7939 - val_loss: 0.3855 - val_accuracy: 0.8693\n",
      "Epoch 16/20\n",
      "1260/1563 [=======================>......] - ETA: 30:49 - loss: 0.6068 - accuracy: 0.7922"
     ]
    },
    {
     "name": "stderr",
     "output_type": "stream",
     "text": [
      "\n",
      "KeyboardInterrupt\n",
      "\n"
     ]
    }
   ],
   "source": [
    "epochs = 20\n",
    "history = model.fit(x_train, y_train, validation_data=(x_val, y_val), epochs=epochs, verbose=1)"
   ]
  },
  {
   "cell_type": "code",
   "execution_count": null,
   "id": "e53e11ba",
   "metadata": {},
   "outputs": [],
   "source": [
    "def plot_history(history):\n",
    "    history_frame = pd.DataFrame(history.history)\n",
    "    history_frame.loc[:, ['loss', 'val_loss']].plot()\n",
    "    history_frame.loc[:, ['accuracy', 'val_accuracy']].plot()\n",
    "    \n",
    "    return\n",
    "    \n",
    "plot_history(history)"
   ]
  },
  {
   "cell_type": "code",
   "execution_count": null,
   "id": "5eb5f188",
   "metadata": {},
   "outputs": [],
   "source": [
    "# unfreeze the layers of the pre-trained model\n",
    "\n",
    "base_model.trainable = True"
   ]
  },
  {
   "cell_type": "code",
   "execution_count": null,
   "id": "7802faaf",
   "metadata": {},
   "outputs": [],
   "source": [
    "# Use a small learning rate\n",
    "\n",
    "model.compile(optimizer=tf.keras.optimizers.Adam(1e-5), loss='categorical_crossentropy', metrics=['accuracy'])"
   ]
  },
  {
   "cell_type": "code",
   "execution_count": null,
   "id": "a29b6f7b",
   "metadata": {},
   "outputs": [],
   "source": [
    "epochs = 10\n",
    "history = model.fit(x_train, y_train, validation_data=(x_val, y_val), epochs=epochs, verbose=1)"
   ]
  },
  {
   "cell_type": "code",
   "execution_count": null,
   "id": "61b26104",
   "metadata": {},
   "outputs": [],
   "source": [
    "plot_history(history)"
   ]
  },
  {
   "cell_type": "code",
   "execution_count": null,
   "id": "f7a90cbe",
   "metadata": {},
   "outputs": [],
   "source": [
    "class_names=['airplane', 'automobile', 'bird', 'cat', 'deer', 'dog', 'frog', 'horse', 'ship', 'truck']\n",
    "\n",
    "predictions=model.predict(x_val)\n",
    "\n",
    "y_pred_classes = np.argmax(predictions, axis=1)\n",
    "y_true = np.argmax(y_val, axis=1)\n",
    "\n",
    "confusion_mtx = tf.math.confusion_matrix(y_true, y_pred_classes)\n",
    "\n",
    "plt.figure(figsize=(12, 9))\n",
    "c = sns.heatmap(confusion_mtx, annot=True, fmt='g')\n",
    "c.set(xticklabels=class_names, yticklabels=class_names)"
   ]
  },
  {
   "cell_type": "code",
   "execution_count": null,
   "id": "4e0abd82",
   "metadata": {},
   "outputs": [],
   "source": []
  }
 ],
 "metadata": {
  "kernelspec": {
   "display_name": "Python 3 (ipykernel)",
   "language": "python",
   "name": "python3"
  },
  "language_info": {
   "codemirror_mode": {
    "name": "ipython",
    "version": 3
   },
   "file_extension": ".py",
   "mimetype": "text/x-python",
   "name": "python",
   "nbconvert_exporter": "python",
   "pygments_lexer": "ipython3",
   "version": "3.11.5"
  },
  "toc": {
   "base_numbering": 1,
   "nav_menu": {},
   "number_sections": true,
   "sideBar": true,
   "skip_h1_title": false,
   "title_cell": "Table of Contents",
   "title_sidebar": "Contents",
   "toc_cell": false,
   "toc_position": {},
   "toc_section_display": true,
   "toc_window_display": false
  },
  "varInspector": {
   "cols": {
    "lenName": 16,
    "lenType": 16,
    "lenVar": 40
   },
   "kernels_config": {
    "python": {
     "delete_cmd_postfix": "",
     "delete_cmd_prefix": "del ",
     "library": "var_list.py",
     "varRefreshCmd": "print(var_dic_list())"
    },
    "r": {
     "delete_cmd_postfix": ") ",
     "delete_cmd_prefix": "rm(",
     "library": "var_list.r",
     "varRefreshCmd": "cat(var_dic_list()) "
    }
   },
   "types_to_exclude": [
    "module",
    "function",
    "builtin_function_or_method",
    "instance",
    "_Feature"
   ],
   "window_display": false
  }
 },
 "nbformat": 4,
 "nbformat_minor": 5
}
