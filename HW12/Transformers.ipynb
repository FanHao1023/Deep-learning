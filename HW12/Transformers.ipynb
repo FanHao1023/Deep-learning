{
 "cells": [
  {
   "cell_type": "markdown",
   "id": "0e2e14c4",
   "metadata": {
    "id": "0e2e14c4"
   },
   "source": [
    "# Homework 12: Transformers"
   ]
  },
  {
   "cell_type": "markdown",
   "id": "819e7379",
   "metadata": {
    "id": "819e7379"
   },
   "source": [
    "### Transformers ([Attention is all you need](https://arxiv.org/pdf/1706.03762.pdf))\n",
    "\n",
    "To this point we have seen RNNs, which excel at sequence to sequence task but have two major drawbacks.\n",
    "First, they can suffer from vanishing gradients for long sequences.\n",
    "Second, they can take a long time to train due to sequential dependencies between hidden states which does not take advantage of the massively parallel architecture of modern GPUs.\n",
    "The first issue is largely addressed by alternate RNN architectures (LSTMs, GRUs) but not the second.\n",
    "\n",
    "Transformers solve these problems up to a certain extent by enabling to process the input parallely during training with long sequences. Though the computation is quadratic with respect to the input sequence length, it still managable with modern GPUs.\n",
    "\n",
    "In this notebook, we will implement Transformers model step-by-step by referencing the original paper, [Attention is all you need](https://arxiv.org/pdf/1706.03762.pdf). We will also use a toy dataset to solve a vector-to-vector problem which is a subset of sequence-to-sequence problem."
   ]
  },
  {
   "cell_type": "markdown",
   "id": "e8848024",
   "metadata": {
    "id": "e8848024"
   },
   "source": [
    "## Table of Contents\n",
    "\n",
    "This assignment has 4 parts. In the class we learned about Encoder based Transformers but often we use an Encoder and a Decoder for sequence to sequence task. In this notebook, you will learn how to implement an Encoder-Decoder based Transformers in a step-by-step manner. We will implement a simpler version here, where the simplicity arise from the task that we are solving, which is a vector-to-vector task. This essentially means that the length of input and output sequence is **fixed** and we dont have to worry about variable length of sequences. This makes the implementation simpler.\n",
    "\n",
    "1. **Part I (Preparation)**: We will preprocess a toy dataset that consists of input arithmetic expression and an output result of the expression\n",
    "1. **Part II (Implement Transformer blocks)**: we will look how to implement building blocks of a Transformer. It will consist of following blocks\n",
    "   1. MultiHeadAttention\n",
    "   2. FeedForward\n",
    "   3. LayerNorm\n",
    "   4. Encoder Block\n",
    "   5. Decoder Block\n",
    "1. **Part III (Data Loading)**: We will use the preprocessing functions in part I and the positional encoding module to construct the Dataloader.\n",
    "1. **Part IV (Train a model)**: In the last part we will look at how to fit the implemented Transformer model to the toy dataset."
   ]
  },
  {
   "cell_type": "markdown",
   "id": "3e1c7486",
   "metadata": {
    "id": "3e1c7486"
   },
   "source": [
    "# Part I. Preparation"
   ]
  },
  {
   "cell_type": "markdown",
   "id": "0bdbbed0",
   "metadata": {
    "id": "0bdbbed0"
   },
   "source": [
    "Before getting started we need to run some boilerplate code to set up our environment. You\"ll need to rerun this setup code each time you start the notebook.\n",
    "\n",
    "First, run this cell load the [autoreload](https://ipython.readthedocs.io/en/stable/config/extensions/autoreload.html?highlight=autoreload) extension. This allows us to edit `.py` source files, and re-import them into the notebook for a seamless editing and debugging experience."
   ]
  },
  {
   "cell_type": "code",
   "execution_count": 1,
   "id": "f7dede27",
   "metadata": {
    "executionInfo": {
     "elapsed": 2,
     "status": "ok",
     "timestamp": 1651800467896,
     "user": {
      "displayName": "Chao-Kai Wen",
      "userId": "03615602679925463409"
     },
     "user_tz": -480
    },
    "id": "f7dede27",
    "outputId": "8f826410-b27c-41ca-ba8b-455a101cb6b6"
   },
   "outputs": [],
   "source": [
    "%load_ext autoreload\n",
    "%autoreload 2"
   ]
  },
  {
   "cell_type": "markdown",
   "id": "6c1523c0",
   "metadata": {
    "id": "6c1523c0"
   },
   "source": [
    "### Google Colab Setup\n",
    "\n",
    "Next we need to run a few commands to set up our environment on Google Colab. If you are running this notebook on a local machine you can skip this section.\n",
    "\n",
    "Run the following cell to mount your Google Drive. Follow the link, sign in to your Google account (the same account you used to store this notebook!) and copy the authorization code into the text box that appears below."
   ]
  },
  {
   "cell_type": "code",
   "execution_count": null,
   "id": "ff4169c8",
   "metadata": {
    "colab": {
     "base_uri": "https://localhost:8080/"
    },
    "executionInfo": {
     "elapsed": 19283,
     "status": "ok",
     "timestamp": 1651800488623,
     "user": {
      "displayName": "Chao-Kai Wen",
      "userId": "03615602679925463409"
     },
     "user_tz": -480
    },
    "id": "ff4169c8",
    "outputId": "a2f02108-20aa-44d1-a6a7-e98dfa731307"
   },
   "outputs": [
    {
     "name": "stdout",
     "output_type": "stream",
     "text": [
      "Mounted at /content/drive\n"
     ]
    }
   ],
   "source": [
    "from google.colab import drive\n",
    "\n",
    "drive.mount(\"/content/drive\")"
   ]
  },
  {
   "cell_type": "markdown",
   "id": "6979e52e",
   "metadata": {
    "id": "6979e52e"
   },
   "source": [
    "Now recall the path in your Google Drive where you uploaded this notebook, fill it in below. If everything is working correctly then running the folowing cell should print the filenames from the assignment:\n",
    "\n",
    "```\n",
    "[\"two_digit_op.json\", \"Transformers.py\", \"Transformers.ipynb\"]\n",
    "```"
   ]
  },
  {
   "cell_type": "code",
   "execution_count": null,
   "id": "1e1beb7a",
   "metadata": {
    "colab": {
     "base_uri": "https://localhost:8080/"
    },
    "executionInfo": {
     "elapsed": 254,
     "status": "ok",
     "timestamp": 1651800501472,
     "user": {
      "displayName": "Chao-Kai Wen",
      "userId": "03615602679925463409"
     },
     "user_tz": -480
    },
    "id": "1e1beb7a",
    "outputId": "a826e68f-5e50-4370-b091-81059262feb0"
   },
   "outputs": [
    {
     "ename": "FileNotFoundError",
     "evalue": "[WinError 3] 系統找不到指定的路徑。: 'drive\\\\My Drive\\\\Colab Notebooks/A5'",
     "output_type": "error",
     "traceback": [
      "\u001b[1;31m---------------------------------------------------------------------------\u001b[0m",
      "\u001b[1;31mFileNotFoundError\u001b[0m                         Traceback (most recent call last)",
      "Input \u001b[1;32mIn [81]\u001b[0m, in \u001b[0;36m<cell line: 8>\u001b[1;34m()\u001b[0m\n\u001b[0;32m      6\u001b[0m GOOGLE_DRIVE_PATH_AFTER_MYDRIVE \u001b[38;5;241m=\u001b[39m \u001b[38;5;124m'\u001b[39m\u001b[38;5;124mColab Notebooks/A5\u001b[39m\u001b[38;5;124m'\u001b[39m \n\u001b[0;32m      7\u001b[0m GOOGLE_DRIVE_PATH \u001b[38;5;241m=\u001b[39m os\u001b[38;5;241m.\u001b[39mpath\u001b[38;5;241m.\u001b[39mjoin(\u001b[38;5;124m\"\u001b[39m\u001b[38;5;124mdrive\u001b[39m\u001b[38;5;124m\"\u001b[39m, \u001b[38;5;124m\"\u001b[39m\u001b[38;5;124mMy Drive\u001b[39m\u001b[38;5;124m\"\u001b[39m, GOOGLE_DRIVE_PATH_AFTER_MYDRIVE)\n\u001b[1;32m----> 8\u001b[0m \u001b[38;5;28mprint\u001b[39m(\u001b[43mos\u001b[49m\u001b[38;5;241;43m.\u001b[39;49m\u001b[43mlistdir\u001b[49m\u001b[43m(\u001b[49m\u001b[43mGOOGLE_DRIVE_PATH\u001b[49m\u001b[43m)\u001b[49m)\n\u001b[0;32m     11\u001b[0m \u001b[38;5;66;03m# Add to sys so we can import .py files.\u001b[39;00m\n\u001b[0;32m     12\u001b[0m sys\u001b[38;5;241m.\u001b[39mpath\u001b[38;5;241m.\u001b[39mappend(GOOGLE_DRIVE_PATH)\n",
      "\u001b[1;31mFileNotFoundError\u001b[0m: [WinError 3] 系統找不到指定的路徑。: 'drive\\\\My Drive\\\\Colab Notebooks/A5'"
     ]
    }
   ],
   "source": [
    "import os\n",
    "import sys\n",
    "\n",
    "# TODO: Fill in the Google Drive path where you uploaded the assignment\n",
    "# Example: If you create a 2021DL folder and put all the files under A0 folder, then '2021DL/A0'\n",
    "GOOGLE_DRIVE_PATH_AFTER_MYDRIVE = 'Colab Notebooks/A5' \n",
    "GOOGLE_DRIVE_PATH = os.path.join(\"drive\", \"My Drive\", GOOGLE_DRIVE_PATH_AFTER_MYDRIVE)\n",
    "print(os.listdir(GOOGLE_DRIVE_PATH))\n",
    "\n",
    "\n",
    "# Add to sys so we can import .py files.\n",
    "sys.path.append(GOOGLE_DRIVE_PATH)"
   ]
  },
  {
   "cell_type": "markdown",
   "id": "c0ea3c66",
   "metadata": {
    "id": "c0ea3c66"
   },
   "source": [
    "Once you have successfully mounted your Google Drive and located the path to this assignment, run th following cell to allow us to import from the `.py` files of this assignment. If it works correctly, it should print the message:\n",
    "\n",
    "```\n",
    "Hello from Transformers.py!\n",
    "```\n",
    "\n",
    "as well as the last edit time for the file `Transformers.py`."
   ]
  },
  {
   "cell_type": "code",
   "execution_count": 2,
   "id": "ac76ec4e",
   "metadata": {
    "colab": {
     "base_uri": "https://localhost:8080/"
    },
    "executionInfo": {
     "elapsed": 249,
     "status": "ok",
     "timestamp": 1651800519104,
     "user": {
      "displayName": "Chao-Kai Wen",
      "userId": "03615602679925463409"
     },
     "user_tz": -480
    },
    "id": "ac76ec4e",
    "outputId": "be97bf51-29a1-4dd9-b8ce-8e1d22ef0870"
   },
   "outputs": [
    {
     "ename": "AttributeError",
     "evalue": "module 'time' has no attribute 'tzset'",
     "output_type": "error",
     "traceback": [
      "\u001b[1;31m---------------------------------------------------------------------------\u001b[0m",
      "\u001b[1;31mAttributeError\u001b[0m                            Traceback (most recent call last)",
      "Cell \u001b[1;32mIn[2], line 7\u001b[0m\n\u001b[0;32m      3\u001b[0m \u001b[38;5;28;01mfrom\u001b[39;00m \u001b[38;5;21;01mtransformers\u001b[39;00m \u001b[38;5;28;01mimport\u001b[39;00m hello_transformers\n\u001b[0;32m      6\u001b[0m os\u001b[38;5;241m.\u001b[39menviron[\u001b[38;5;124m\"\u001b[39m\u001b[38;5;124mTZ\u001b[39m\u001b[38;5;124m\"\u001b[39m] \u001b[38;5;241m=\u001b[39m \u001b[38;5;124m\"\u001b[39m\u001b[38;5;124mUTC\u001b[39m\u001b[38;5;124m\"\u001b[39m\n\u001b[1;32m----> 7\u001b[0m time\u001b[38;5;241m.\u001b[39mtzset()\n\u001b[0;32m      8\u001b[0m hello_transformers()\n\u001b[0;32m     10\u001b[0m transformers_path \u001b[38;5;241m=\u001b[39m os\u001b[38;5;241m.\u001b[39mpath\u001b[38;5;241m.\u001b[39mjoin(GOOGLE_DRIVE_PATH, \u001b[38;5;124m\"\u001b[39m\u001b[38;5;124mtransformers.py\u001b[39m\u001b[38;5;124m\"\u001b[39m)\n",
      "\u001b[1;31mAttributeError\u001b[0m: module 'time' has no attribute 'tzset'"
     ]
    }
   ],
   "source": [
    "import os\n",
    "import time\n",
    "from transformers import hello_transformers\n",
    "\n",
    "\n",
    "os.environ[\"TZ\"] = \"UTC\"\n",
    "time.tzset()\n",
    "hello_transformers()\n",
    "\n",
    "transformers_path = os.path.join(GOOGLE_DRIVE_PATH, \"transformers.py\")\n",
    "transformers_edit_time = time.ctime(os.path.getmtime(transformers_path))\n",
    "print(\"transformers.py last edited on %s\" % transformers_edit_time)"
   ]
  },
  {
   "cell_type": "code",
   "execution_count": 2,
   "id": "319dda25",
   "metadata": {
    "id": "319dda25",
    "outputId": "31d4a7d8-0f79-4ccc-e7e7-d9c3e043baa7"
   },
   "outputs": [
    {
     "name": "stdout",
     "output_type": "stream",
     "text": [
      "Hello from transformers.py!\n"
     ]
    }
   ],
   "source": [
    "from transformers import hello_transformers\n",
    "hello_transformers()"
   ]
  },
  {
   "cell_type": "code",
   "execution_count": 3,
   "id": "2cbf5f86",
   "metadata": {
    "id": "2cbf5f86"
   },
   "outputs": [],
   "source": [
    "import torch\n",
    "import torch.nn.functional as F\n",
    "from torch import Tensor\n",
    "from torch import nn\n",
    "\n",
    "import torch\n",
    "\n",
    "from torch import nn\n",
    "import torch.nn.functional as F\n",
    "\n",
    "from usefuns.utils import (\n",
    "    reset_seed,\n",
    "    tensor_to_image,\n",
    "    attention_visualizer,\n",
    ")\n",
    "from usefuns.grad import rel_error, compute_numeric_gradient\n",
    "import matplotlib.pyplot as plt\n",
    "import time\n",
    "from IPython.display import Image\n",
    "\n",
    "\n",
    "# for plotting\n",
    "%matplotlib inline\n",
    "plt.rcParams[\"figure.figsize\"] = (10.0, 8.0)  # set default size of plots\n",
    "plt.rcParams[\"image.interpolation\"] = \"nearest\"\n",
    "plt.rcParams[\"image.cmap\"] = \"gray\""
   ]
  },
  {
   "cell_type": "markdown",
   "id": "b807888a",
   "metadata": {
    "id": "b807888a"
   },
   "source": [
    "We will use the GPU to accelerate our computation. Run this cell to make sure you are using a GPU.\n",
    "\n",
    "We will be using `torch.float = torch.float32` for data and `torch.long = torch.int64` for labels.\n",
    "\n",
    "Please refer to https://pytorch.org/docs/stable/tensor_attributes.html#torch-dtype for more details about data types."
   ]
  },
  {
   "cell_type": "code",
   "execution_count": 4,
   "id": "0150e9a5",
   "metadata": {
    "colab": {
     "base_uri": "https://localhost:8080/"
    },
    "executionInfo": {
     "elapsed": 1168,
     "status": "ok",
     "timestamp": 1651800611765,
     "user": {
      "displayName": "Chao-Kai Wen",
      "userId": "03615602679925463409"
     },
     "user_tz": -480
    },
    "id": "0150e9a5",
    "outputId": "1d06612a-aad1-408d-f446-ba1b81120468"
   },
   "outputs": [
    {
     "name": "stdout",
     "output_type": "stream",
     "text": [
      "Good to go!\n"
     ]
    }
   ],
   "source": [
    "to_float = torch.float\n",
    "to_long = torch.long\n",
    "\n",
    "if torch.cuda.is_available():\n",
    "    print(\"Good to go!\")\n",
    "    DEVICE = torch.device(\"cuda\")\n",
    "else:\n",
    "    print(\"Please set GPU via Edit -> Notebook Settings.\")\n",
    "    DEVICE = torch.device(\"cpu\")"
   ]
  },
  {
   "cell_type": "markdown",
   "id": "5c2bcf33",
   "metadata": {
    "id": "5c2bcf33"
   },
   "source": [
    "### Load the toy data"
   ]
  },
  {
   "cell_type": "markdown",
   "id": "16bf6435",
   "metadata": {
    "id": "16bf6435"
   },
   "source": [
    "As Transformers perform very well on sequence to sequence task, we will implement it on a toy task of Arithmetic operations. We will use transformer models to perform addition and subraction of two integers, where the absolute value of an integer is at most 50. A simple example is to perform the computation `-5 + 2` using a Transformer model and getting the corect result as `-3`. As there can be multiple ways to solve this problem, we will see how we can pose this as a sequence to sequence problem and solve it using Transformers model. Note that we had to reduce the complexity of the problem to make the Transformer work within the constrainted resources of Colab.\n",
    "\n",
    "Lets take a look at the data first:"
   ]
  },
  {
   "cell_type": "code",
   "execution_count": 5,
   "id": "3634d982",
   "metadata": {
    "id": "3634d982"
   },
   "outputs": [],
   "source": [
    "from a5_helper import get_toy_data\n",
    "\n",
    "# load the data using helper function\n",
    "data = get_toy_data(\"two_digit_op.json\")"
   ]
  },
  {
   "cell_type": "markdown",
   "id": "3f0c8b22",
   "metadata": {
    "id": "3f0c8b22"
   },
   "source": [
    "### Looking at the first four examples\n",
    "\n",
    "Below are the first four samples in the data"
   ]
  },
  {
   "cell_type": "code",
   "execution_count": 6,
   "id": "d0f9a602",
   "metadata": {
    "colab": {
     "base_uri": "https://localhost:8080/"
    },
    "executionInfo": {
     "elapsed": 252,
     "status": "ok",
     "timestamp": 1651800659502,
     "user": {
      "displayName": "Chao-Kai Wen",
      "userId": "03615602679925463409"
     },
     "user_tz": -480
    },
    "id": "d0f9a602",
    "outputId": "0f687d48-ff92-4229-cd5e-a24ab5111ca2"
   },
   "outputs": [
    {
     "name": "stdout",
     "output_type": "stream",
     "text": [
      "Expression: BOS NEGATIVE 30 subtract NEGATIVE 34 EOS Output: BOS POSITIVE 04 EOS\n",
      "Expression: BOS NEGATIVE 34 add NEGATIVE 15 EOS Output: BOS NEGATIVE 49 EOS\n",
      "Expression: BOS NEGATIVE 28 add NEGATIVE 36 EOS Output: BOS NEGATIVE 64 EOS\n",
      "Expression: BOS POSITIVE 00 subtract POSITIVE 17 EOS Output: BOS NEGATIVE 17 EOS\n"
     ]
    }
   ],
   "source": [
    "num_examples = 4\n",
    "for q, a in zip(\n",
    "    data[\"inp_expression\"][:num_examples], \n",
    "    data[\"out_expression\"][:num_examples]\n",
    "    ):\n",
    "  print(\"Expression: \" + q + \" Output: \" + a)"
   ]
  },
  {
   "cell_type": "markdown",
   "id": "bc93f275",
   "metadata": {
    "id": "bc93f275"
   },
   "source": [
    "## What do these examples mean:\n",
    "\n",
    "Lets look at first and third examples here and understand what they represent:\n",
    "\n",
    "- Expression: `BOS NEGATIVE 30 subtract NEGATIVE 34 EOS` Output: `BOS POSITIVE 04 EOS`: The expression here is $(-30) - (-34)$. There are two notions of the symbol `+` here: one is to denote the sign of the number and other is the operation of addition between two integers. To simplify the problem for the neural network, we have denoted them with different text tokens. The ouput of $(-30) - (-34)$ is $+4$. Here `BOS` and `EOS` refer to begining of sequence and end of sequence\n",
    "- Similarly, the second expression, `BOS NEGATIVE 34 add NEGATIVE 15 EOS` Output: `BOS NEGATIVE 49 EOS` means that we are doing the computation as $(-34) + (-15)$. As above, the symbol `-` here represents two things: first is the sign of an integer and second is the operation between two integers. Again, we have represented with different tokens to simplify the problem for the neural network. The output here is -49. Here `BOS` and `EOS` refer to begining of sequence and end of sequence\n",
    "\n",
    "Now that we have a grasp on what is the data, lets head to preprocess the data, as the neural networks don't really understand strings, we need to represent them as numbers.\n",
    "\n",
    "## Pre-processing the data\n",
    "We need to convert the raw input sequence into a format that can be processed with a neural network.\n",
    "Concretely, we need to convert a human-readable string (e.g. `BOS NEGATIVE 30 subtract NEGATIVE 34 EOS`) into a sequence of **tokens**, each of which will be an integer.\n",
    "The process of converting an input string into a sequence of tokens is known as **tokenization**.\n",
    "\n",
    "Before we can tokenize any particular sequence, we first need to build a **vocabulary**;\n",
    "this is an exhaustive list of all tokens that appear in our dataset, and a mapping from each token to a unique integer value.\n",
    "In our case, our vocabulary with consist of 16 elements: one entry for each digit `0` to `9`, two tokens to represent the sign of a number (`POSITIVE` and `NEGATIVE`), two tokens representing the addition and subtraction operations (`add`, and `subtract`), and finally two special tokens representing the start and end of the sequence (`BOS`, `EOS`).\n",
    "\n",
    "We typically represent the vocabulary with a pair of data structures.\n",
    "First is a list of all the string tokens (`vocab` below), such that `vocab[i] = s` means that the string `s` has been assigned the integer value `i`. This allows us to look up the string associated with any numeric index `i`.\n",
    "We also need a data structure that enables us to map in the other direction: given a string `s`, find the index `i` to which it has been assigned. This is typically represented as a hash map (`dict` object in Python) whose keys are strings and whose values are the indices assigned to those strings.\n",
    "You will implement the function `generate_token_dict` that inputs the list `vocab` and returns a dict `convert_str_to_token` giving this mapping.\n",
    "\n",
    "Once you have built the vocab, then you can implement the function `preprocess_input_sequence` which uses the vocab data structures to convert an input string into a list of integer tokens."
   ]
  },
  {
   "cell_type": "code",
   "execution_count": 7,
   "id": "e87a7b85",
   "metadata": {
    "id": "e87a7b85"
   },
   "outputs": [],
   "source": [
    "# Create vocab\n",
    "SPECIAL_TOKENS = [\"POSITIVE\", \"NEGATIVE\", \"add\", \"subtract\", \"BOS\", \"EOS\"]\n",
    "vocab = [\"0\", \"1\", \"2\", \"3\", \"4\", \"5\", \"6\", \"7\", \"8\", \"9\"] + SPECIAL_TOKENS"
   ]
  },
  {
   "cell_type": "markdown",
   "id": "066cd35e",
   "metadata": {
    "id": "066cd35e"
   },
   "source": [
    "To generate the hash map and then process the input string using them, complete the `generate_token_dict`, `prepocess_input_sequence` functions in the python files for this exercise:\n",
    "\n",
    "You should see exact zero errors here"
   ]
  },
  {
   "cell_type": "code",
   "execution_count": 8,
   "id": "7beaeebe-76ac-4e59-a244-250c5a18637b",
   "metadata": {
    "colab": {
     "base_uri": "https://localhost:8080/"
    },
    "executionInfo": {
     "elapsed": 243,
     "status": "ok",
     "timestamp": 1651800690882,
     "user": {
      "displayName": "Chao-Kai Wen",
      "userId": "03615602679925463409"
     },
     "user_tz": -480
    },
    "id": "7beaeebe-76ac-4e59-a244-250c5a18637b",
    "outputId": "035540d8-1349-4292-c563-28c962213067"
   },
   "outputs": [
    {
     "name": "stdout",
     "output_type": "stream",
     "text": [
      "Dictionary created successfully!\n"
     ]
    }
   ],
   "source": [
    "from transformers import generate_token_dict\n",
    "\n",
    "convert_str_to_tokens = generate_token_dict(vocab)\n",
    "\n",
    "try:\n",
    "    assert convert_str_to_tokens[\"0\"] == 0\n",
    "except:\n",
    "    print(\"The first element does not map to 0. Please check the implementation\")\n",
    "\n",
    "try:\n",
    "    assert convert_str_to_tokens[\"EOS\"] == 15\n",
    "except:\n",
    "    print(\"The last element does not map to 2004. Please check the implementation\")\n",
    "\n",
    "print(\"Dictionary created successfully!\")"
   ]
  },
  {
   "cell_type": "code",
   "execution_count": 9,
   "id": "5b6e4fca",
   "metadata": {
    "colab": {
     "base_uri": "https://localhost:8080/",
     "height": 358
    },
    "executionInfo": {
     "elapsed": 690,
     "status": "error",
     "timestamp": 1651800696584,
     "user": {
      "displayName": "Chao-Kai Wen",
      "userId": "03615602679925463409"
     },
     "user_tz": -480
    },
    "id": "5b6e4fca",
    "outputId": "4d9aa38d-b238-401c-8d52-02b41a9833ce"
   },
   "outputs": [
    {
     "name": "stdout",
     "output_type": "stream",
     "text": [
      "preprocess input token error 1:  0.0\n",
      "preprocess input token error 2:  0.0\n",
      "preprocess input token error 3:  0.0\n",
      "preprocess input token error 4:  0.0\n",
      "\n",
      "\n",
      "preprocess output token error 1:  0.0\n",
      "preprocess output token error 2:  0.0\n",
      "preprocess output token error 3:  0.0\n",
      "preprocess output token error 4:  0.0\n"
     ]
    }
   ],
   "source": [
    "from transformers import prepocess_input_sequence\n",
    "\n",
    "convert_str_to_tokens = generate_token_dict(vocab)\n",
    "\n",
    "ex1_in = \"BOS POSITIVE 0333 add POSITIVE 0696 EOS\"\n",
    "ex2_in = \"BOS POSITIVE 0673 add POSITIVE 0675 EOS\"\n",
    "ex3_in = \"BOS NEGATIVE 0286 subtract NEGATIVE 0044 EOS\"\n",
    "ex4_in = \"BOS NEGATIVE 0420 add POSITIVE 0342 EOS\"\n",
    "\n",
    "ex1_out = \"BOS POSITIVE 1029 EOS\"\n",
    "ex2_out = \"BOS POSITIVE 1348 EOS\"\n",
    "ex3_out = \"BOS NEGATIVE 0242 EOS\"\n",
    "ex4_out = \"BOS NEGATIVE 0078 EOS\"\n",
    "\n",
    "ex1_inp_preprocessed = torch.tensor(\n",
    "    prepocess_input_sequence(ex1_in, convert_str_to_tokens, SPECIAL_TOKENS)\n",
    ")\n",
    "ex2_inp_preprocessed = torch.tensor(\n",
    "    prepocess_input_sequence(ex2_in, convert_str_to_tokens, SPECIAL_TOKENS)\n",
    ")\n",
    "ex3_inp_preprocessed = torch.tensor(\n",
    "    prepocess_input_sequence(ex3_in, convert_str_to_tokens, SPECIAL_TOKENS)\n",
    ")\n",
    "ex4_inp_preprocessed = torch.tensor(\n",
    "    prepocess_input_sequence(ex4_in, convert_str_to_tokens, SPECIAL_TOKENS)\n",
    ")\n",
    "\n",
    "ex1_processed_expected = torch.tensor([14, 10, 0, 3, 3, 3, 12, 10, 0, 6, 9, 6, 15])\n",
    "ex2_processed_expected = torch.tensor([14, 10, 0, 6, 7, 3, 12, 10, 0, 6, 7, 5, 15])\n",
    "ex3_processed_expected = torch.tensor([14, 11, 0, 2, 8, 6, 13, 11, 0, 0, 4, 4, 15])\n",
    "ex4_processed_expected = torch.tensor([14, 11, 0, 4, 2, 0, 12, 10, 0, 3, 4, 2, 15])\n",
    "\n",
    "ex1_out = torch.tensor(\n",
    "    prepocess_input_sequence(ex1_out, convert_str_to_tokens, SPECIAL_TOKENS)\n",
    ")\n",
    "ex2_out = torch.tensor(\n",
    "    prepocess_input_sequence(ex2_out, convert_str_to_tokens, SPECIAL_TOKENS)\n",
    ")\n",
    "ex3_out = torch.tensor(\n",
    "    prepocess_input_sequence(ex3_out, convert_str_to_tokens, SPECIAL_TOKENS)\n",
    ")\n",
    "ex4_out = torch.tensor(\n",
    "    prepocess_input_sequence(ex4_out, convert_str_to_tokens, SPECIAL_TOKENS)\n",
    ")\n",
    "\n",
    "ex1_out_expected = torch.tensor([14, 10, 1, 0, 2, 9, 15])\n",
    "ex2_out_expected = torch.tensor([14, 10, 1, 3, 4, 8, 15])\n",
    "ex3_out_expected = torch.tensor([14, 11, 0, 2, 4, 2, 15])\n",
    "ex4_out_expected = torch.tensor([14, 11, 0, 0, 7, 8, 15])\n",
    "\n",
    "print(\n",
    "    \"preprocess input token error 1: \",\n",
    "    rel_error(ex1_processed_expected, ex1_inp_preprocessed),\n",
    ")\n",
    "print(\n",
    "    \"preprocess input token error 2: \",\n",
    "    rel_error(ex2_processed_expected, ex2_inp_preprocessed),\n",
    ")\n",
    "print(\n",
    "    \"preprocess input token error 3: \",\n",
    "    rel_error(ex3_processed_expected, ex3_inp_preprocessed),\n",
    ")\n",
    "print(\n",
    "    \"preprocess input token error 4: \",\n",
    "    rel_error(ex4_processed_expected, ex4_inp_preprocessed),\n",
    ")\n",
    "print(\"\\n\")\n",
    "print(\"preprocess output token error 1: \", rel_error(ex1_out_expected, ex1_out))\n",
    "print(\"preprocess output token error 2: \", rel_error(ex2_out_expected, ex2_out))\n",
    "print(\"preprocess output token error 3: \", rel_error(ex3_out_expected, ex3_out))\n",
    "print(\"preprocess output token error 4: \", rel_error(ex4_out_expected, ex4_out))"
   ]
  },
  {
   "cell_type": "markdown",
   "id": "58aed0ae",
   "metadata": {
    "id": "58aed0ae"
   },
   "source": [
    "# Part II.  Implementing Transformer building blocks\n",
    "\n",
    "Now that we have looked at the data, the task is to predict the output sequence (final result), something like `NEGATIVE 42` given the input sequence (of the arthmetic expression), something like `NEGATIVE 48 subtract NEGATIVE 6`.\n",
    "\n",
    "In this section, we will look at implementing various building blocks used for implementing Transformer model. This will then be used to make Transformer encoder and decoder, which will ultimately lead us to implementing the complete Transfromer model.\n",
    "Each block will be implemented as a subclass of `nn.Module`; we will use PyTorch autograd to compute gradients, so we don't need to implement backward passes manually.\n",
    "\n",
    "We will implement the following blocks, by referencing the original paper:\n",
    "\n",
    "1. MultHeadAttention Block\n",
    "2. FeedForward Block\n",
    "3. Layer Normalization\n",
    "4. Positional Encoding block\n",
    "\n",
    "We will then use these building blocks, combined with the input embedding layer to construct the Transformer Encoder and Decoder. We will start with MultiHeadAttention block, FeedForward Block, and Layer Normalization and look at Position encoding and input embedding later.\n",
    "\n",
    "**Note:** One thing to keep in mind while implementing these blocks is that the shape of input and output Tensor from all these blocks we will be same. It always helps by checking the shapes of inputp and output tensors."
   ]
  },
  {
   "cell_type": "markdown",
   "id": "823cc3b9-d483-4d42-a495-eb432d1417e1",
   "metadata": {
    "id": "823cc3b9-d483-4d42-a495-eb432d1417e1"
   },
   "source": [
    "### MultiHeadAttention Block"
   ]
  },
  {
   "cell_type": "markdown",
   "id": "34036573-905d-44f0-8094-71539563ae24",
   "metadata": {
    "id": "34036573-905d-44f0-8094-71539563ae24"
   },
   "source": [
    "The image below highlights the MultiHead Attention block inside the Transformer model.\n",
    "<img src=\"https://drive.google.com/uc?export=view&id=1DwU3BJsA0mUWTWlXNtNolB4oc5K4Z9PE\" alt=\"multihead_attention\" width=\"80%\">"
   ]
  },
  {
   "cell_type": "markdown",
   "id": "5c56e134",
   "metadata": {
    "id": "5c56e134"
   },
   "source": [
    "Transformers are sequence to sequence networks i.e., we get a sequence (for example a sentence in English) and get output a sequence (for example a sentence in Spanish). The input sequence are first transformed into embeddings as discussed in the RNN section and these embeddings are then passed through a Positional Encoding block. The resultant Embeddings are then transformed into three vectors, *query*, *key*, and *value* using learnable weights and we then use a Transformer Encoder and Decoder to get the final output sequence. For this section, we will assume that we have the *query*, *key*, and the *value* vector and work on them.\n",
    "\n",
    "In the above figure, you can see that the Encoder has multihead attention block is right after these blocks. There is also a masked multihead attention in the deocoder but we will see that it's easy to implement the masked attention when we have implemented the basic MultiHeadAttention block.\n",
    "To implement the basic MultiheadAttention block, we will first implement the Self Attention block and see that MultiHeadAttention can be implemented as a direct extension of the Self Attention block.\n",
    "\n",
    "## Self Attention Block\n",
    "\n",
    "Taking inspiration from information retreival paradigm, Transformers have this notion of *query*, *key*, and *value* where given a *query* we try extract information from *key*-*value* pairs. Moving along those lines, we perform this mathematically by taking the weighted sum of *values* for each *query*, where weight is computed by dot product of *query* and the *key*. More precisely, for each query we compute the dot product with all the keys and then use the scalar output of those dot products as weights to find the weighted sum of *values*. Note that before finding the weighted sum, we also apply softmax function to the weights vector. Lets start with implementing of Attention Block that takes input as *query*, *key*, and *value* vectors and returns a Tensor, that is weighted sum of the *values*.\n",
    "\n",
    "For this section, you need to implement three functions, `scaled_dot_product_two_loop_single`, `scaled_dot_product_two_loop_batch`, and `scaled_dot_product_no_loop_batch` inside the transformers.py file. This might look very similar to the `dot_product_attention` in the RNN notebook but there is a subtle difference in the inputs. You should see the errors of the order less than 1e-5"
   ]
  },
  {
   "cell_type": "code",
   "execution_count": 10,
   "id": "747894ed",
   "metadata": {
    "id": "747894ed"
   },
   "outputs": [],
   "source": [
    "from transformers import (\n",
    "    scaled_dot_product_two_loop_single,\n",
    "    scaled_dot_product_two_loop_batch,\n",
    "    scaled_dot_product_no_loop_batch,\n",
    ")"
   ]
  },
  {
   "cell_type": "code",
   "execution_count": 11,
   "id": "7341f6ff",
   "metadata": {
    "id": "7341f6ff",
    "outputId": "ec2fc1d8-b6cd-471e-c099-66dee13e15b7"
   },
   "outputs": [
    {
     "name": "stdout",
     "output_type": "stream",
     "text": [
      "sacled_dot_product_two_loop_single error:  5.204997002435008e-06\n"
     ]
    }
   ],
   "source": [
    "N = 2  # Number of sentences\n",
    "K = 5  # Number of words in a sentence\n",
    "M = 4  # feature dimension of each word embedding\n",
    "\n",
    "query = torch.linspace(-0.4, 0.6, steps=K * M).reshape(K, M)  # **to_double_cuda\n",
    "key = torch.linspace(-0.8, 0.5, steps=K * M).reshape(K, M)  # **to_double_cuda\n",
    "value = torch.linspace(-0.3, 0.8, steps=K * M).reshape(K, M)  # *to_double_cuda\n",
    "\n",
    "y = scaled_dot_product_two_loop_single(query, key, value)\n",
    "y_expected = torch.tensor(\n",
    "    [\n",
    "        [0.08283, 0.14073, 0.19862, 0.25652],\n",
    "        [0.13518, 0.19308, 0.25097, 0.30887],\n",
    "        [0.18848, 0.24637, 0.30427, 0.36216],\n",
    "        [0.24091, 0.29881, 0.35670, 0.41460],\n",
    "        [0.29081, 0.34871, 0.40660, 0.46450],\n",
    "    ]\n",
    ").to(torch.float32)\n",
    "print(\"sacled_dot_product_two_loop_single error: \", rel_error(y_expected, y))"
   ]
  },
  {
   "cell_type": "code",
   "execution_count": 12,
   "id": "79b11340",
   "metadata": {
    "id": "79b11340",
    "outputId": "0cb612d8-3b4c-41ea-8c7e-7755286d8d1a"
   },
   "outputs": [
    {
     "name": "stdout",
     "output_type": "stream",
     "text": [
      "scaled_dot_product_two_loop_batch error:  4.020571992067902e-06\n"
     ]
    }
   ],
   "source": [
    "N = 2  # Number of sentences\n",
    "K = 5  # Number of words in a sentence\n",
    "M = 4  # feature dimension of each word embedding\n",
    "\n",
    "query = torch.linspace(-0.4, 0.6, steps=N * K * M).reshape(N, K, M)  # **to_double_cuda\n",
    "key = torch.linspace(-0.8, 0.5, steps=N * K * M).reshape(N, K, M)  # **to_double_cuda\n",
    "value = torch.linspace(-0.3, 0.8, steps=N * K * M).reshape(N, K, M)  # *to_double_cuda\n",
    "\n",
    "y = scaled_dot_product_two_loop_batch(query, key, value)\n",
    "y_expected = torch.tensor(\n",
    "    [\n",
    "        [\n",
    "            [-0.09603, -0.06782, -0.03962, -0.01141],\n",
    "            [-0.08991, -0.06170, -0.03350, -0.00529],\n",
    "            [-0.08376, -0.05556, -0.02735, 0.00085],\n",
    "            [-0.07760, -0.04939, -0.02119, 0.00702],\n",
    "            [-0.07143, -0.04322, -0.01502, 0.01319],\n",
    "        ],\n",
    "        [\n",
    "            [0.49884, 0.52705, 0.55525, 0.58346],\n",
    "            [0.50499, 0.53319, 0.56140, 0.58960],\n",
    "            [0.51111, 0.53931, 0.56752, 0.59572],\n",
    "            [0.51718, 0.54539, 0.57359, 0.60180],\n",
    "            [0.52321, 0.55141, 0.57962, 0.60782],\n",
    "        ],\n",
    "    ]\n",
    ").to(torch.float32)\n",
    "print(\"scaled_dot_product_two_loop_batch error: \", rel_error(y_expected, y))"
   ]
  },
  {
   "cell_type": "code",
   "execution_count": 13,
   "id": "b13b2d96",
   "metadata": {
    "id": "b13b2d96",
    "outputId": "e1f840ba-b0bc-4dbc-d845-da89af19c984"
   },
   "outputs": [
    {
     "name": "stdout",
     "output_type": "stream",
     "text": [
      "scaled_dot_product_no_loop_batch error:  4.020571992067902e-06\n"
     ]
    }
   ],
   "source": [
    "N = 2  # Number of sentences\n",
    "K = 5  # Number of words in a sentence\n",
    "M = 4  # feature dimension of each word embedding\n",
    "\n",
    "query = torch.linspace(-0.4, 0.6, steps=N * K * M).reshape(N, K, M)  # **to_double_cuda\n",
    "key = torch.linspace(-0.8, 0.5, steps=N * K * M).reshape(N, K, M)  # **to_double_cuda\n",
    "value = torch.linspace(-0.3, 0.8, steps=N * K * M).reshape(N, K, M)  # *to_double_cuda\n",
    "\n",
    "\n",
    "y, _ = scaled_dot_product_no_loop_batch(query, key, value)\n",
    "\n",
    "y_expected = torch.tensor(\n",
    "    [\n",
    "        [\n",
    "            [-0.09603, -0.06782, -0.03962, -0.01141],\n",
    "            [-0.08991, -0.06170, -0.03350, -0.00529],\n",
    "            [-0.08376, -0.05556, -0.02735, 0.00085],\n",
    "            [-0.07760, -0.04939, -0.02119, 0.00702],\n",
    "            [-0.07143, -0.04322, -0.01502, 0.01319],\n",
    "        ],\n",
    "        [\n",
    "            [0.49884, 0.52705, 0.55525, 0.58346],\n",
    "            [0.50499, 0.53319, 0.56140, 0.58960],\n",
    "            [0.51111, 0.53931, 0.56752, 0.59572],\n",
    "            [0.51718, 0.54539, 0.57359, 0.60180],\n",
    "            [0.52321, 0.55141, 0.57962, 0.60782],\n",
    "        ],\n",
    "    ]\n",
    ").to(torch.float32)\n",
    "\n",
    "print(\"scaled_dot_product_no_loop_batch error: \", rel_error(y_expected, y))"
   ]
  },
  {
   "cell_type": "markdown",
   "id": "56e21e2d",
   "metadata": {
    "id": "56e21e2d"
   },
   "source": [
    "## Observing time complexity:\n",
    "\n",
    "As Transformers are infamous for their time complexity that depends on the size of the input sequence.\n",
    "We can verify this now that we have implemented `self_attention_no_loop`.\n",
    "Run the cells below: the first has a sequence length of 256 and the second one has a sequence length of 512. You should roughly be 4 times slower with sequence length 512, hence showing that compleixity of the transformers increase quadratically with resprect to increase in the in sequence length.\n",
    "The `%timeit` lines may take several seconds to run."
   ]
  },
  {
   "cell_type": "code",
   "execution_count": 14,
   "id": "e7d58596",
   "metadata": {
    "id": "e7d58596",
    "outputId": "fa253163-b947-4b94-b348-82ff0206ef2d"
   },
   "outputs": [
    {
     "name": "stdout",
     "output_type": "stream",
     "text": [
      "63.1 ms ± 8.07 ms per loop (mean ± std. dev. of 2 runs, 5 loops each)\n"
     ]
    }
   ],
   "source": [
    "N = 64\n",
    "K = 256  # defines the input sequence length\n",
    "M = emb_size = 2048\n",
    "dim_q = dim_k = 2048\n",
    "query = torch.linspace(-0.4, 0.6, steps=N * K * M).reshape(N, K, M)  # **to_double_cuda\n",
    "key = torch.linspace(-0.8, 0.5, steps=N * K * M).reshape(N, K, M)  # **to_double_cuda\n",
    "value = torch.linspace(-0.3, 0.8, steps=N * K * M).reshape(N, K, M)  # *to_double_cuda\n",
    "\n",
    "%timeit -n 5 -r 2  y = scaled_dot_product_no_loop_batch(query, key, value)"
   ]
  },
  {
   "cell_type": "code",
   "execution_count": 15,
   "id": "a85adf69",
   "metadata": {
    "id": "a85adf69",
    "outputId": "9ff027c9-f8a0-460a-cde9-1791722edfa8"
   },
   "outputs": [
    {
     "name": "stdout",
     "output_type": "stream",
     "text": [
      "254 ms ± 16.5 ms per loop (mean ± std. dev. of 2 runs, 5 loops each)\n"
     ]
    }
   ],
   "source": [
    "N = 64\n",
    "K = 512  # defines the input requence length\n",
    "M = emb_size = 2048\n",
    "dim_q = dim_k = 2048\n",
    "query = torch.linspace(-0.4, 0.6, steps=N * K * M).reshape(N, K, M)  # **to_double_cuda\n",
    "key = torch.linspace(-0.8, 0.5, steps=N * K * M).reshape(N, K, M)  # **to_double_cuda\n",
    "value = torch.linspace(-0.3, 0.8, steps=N * K * M).reshape(N, K, M)  # *to_double_cuda\n",
    "\n",
    "%timeit -n 5 -r 2  y = scaled_dot_product_no_loop_batch(query, key, value)"
   ]
  },
  {
   "cell_type": "markdown",
   "id": "9d6e92b0",
   "metadata": {
    "id": "9d6e92b0"
   },
   "source": [
    "Now that we have implemented `scaled_dot_product_no_loop_batch`, lets implement `SingleHeadAttention`, that will serve as a building block for the `MultiHeadAttention` block. For this exercise, we have made a `SingleHeadAttention` class that inherits from `nn.module` class of Pytorch. You need to implement the `__init__` and the `forward` functions inside `Transformers.py`"
   ]
  },
  {
   "cell_type": "markdown",
   "id": "d5af8c01-dc3a-4cca-a479-e07580914e4c",
   "metadata": {
    "id": "d5af8c01-dc3a-4cca-a479-e07580914e4c"
   },
   "source": [
    "Run the following cells to test your implementation of `SelfAttention` layer. We have also written code to check the backward pass using pytorch autograd API in the following cell. You should expect the error to be less than 1e-5"
   ]
  },
  {
   "cell_type": "code",
   "execution_count": 16,
   "id": "113b3bf5",
   "metadata": {
    "id": "113b3bf5"
   },
   "outputs": [],
   "source": [
    "from transformers import SelfAttention"
   ]
  },
  {
   "cell_type": "code",
   "execution_count": 52,
   "id": "dc3669f2",
   "metadata": {
    "id": "dc3669f2",
    "outputId": "d673e417-9696-4490-8160-6b55780a0056"
   },
   "outputs": [
    {
     "name": "stdout",
     "output_type": "stream",
     "text": [
      "SelfAttention error:  5.282987963847609e-07\n",
      "SelfAttention error:  3.0810741803438454e-06\n"
     ]
    }
   ],
   "source": [
    "reset_seed(0)\n",
    "N = 2\n",
    "K = 4\n",
    "M = emb_size = 4\n",
    "dim_q = dim_k = 4\n",
    "atten_single = SelfAttention(emb_size, dim_q, dim_k)\n",
    "\n",
    "for k, v in atten_single.named_parameters():\n",
    "    # print(k, v.shape) # uncomment this to see the weight shape\n",
    "    v.data.copy_(torch.linspace(-1.4, 1.3, steps=v.numel()).reshape(*v.shape))\n",
    "\n",
    "query = torch.linspace(-0.4, 0.6, steps=N * K * M, requires_grad=True).reshape(\n",
    "    N, K, M\n",
    ")  # **to_double_cuda\n",
    "key = torch.linspace(-0.8, 0.5, steps=N * K * M, requires_grad=True).reshape(\n",
    "    N, K, M\n",
    ")  # **to_double_cuda\n",
    "value = torch.linspace(-0.3, 0.8, steps=N * K * M, requires_grad=True).reshape(\n",
    "    N, K, M\n",
    ")  # *to_double_cuda\n",
    "\n",
    "query.retain_grad()\n",
    "key.retain_grad()\n",
    "value.retain_grad()\n",
    "\n",
    "y_expected = torch.tensor(\n",
    "    [\n",
    "        [\n",
    "            [-1.10382, -0.37219, 0.35944, 1.09108],\n",
    "            [-1.45792, -0.50067, 0.45658, 1.41384],\n",
    "            [-1.74349, -0.60428, 0.53493, 1.67414],\n",
    "            [-1.92584, -0.67044, 0.58495, 1.84035],\n",
    "        ],\n",
    "        [\n",
    "            [-4.59671, -1.63952, 1.31767, 4.27486],\n",
    "            [-4.65586, -1.66098, 1.33390, 4.32877],\n",
    "            [-4.69005, -1.67339, 1.34328, 4.35994],\n",
    "            [-4.71039, -1.68077, 1.34886, 4.37848],\n",
    "        ],\n",
    "    ]\n",
    ")\n",
    "\n",
    "dy_expected = torch.tensor(\n",
    "    [\n",
    "        [\n",
    "            [-0.09084, -0.08961, -0.08838, -0.08715],\n",
    "            [0.69305, 0.68366, 0.67426, 0.66487],\n",
    "            [-0.88989, -0.87783, -0.86576, -0.85370],\n",
    "            [0.25859, 0.25509, 0.25158, 0.24808],\n",
    "        ],\n",
    "        [\n",
    "            [-0.05360, -0.05287, -0.05214, -0.05142],\n",
    "            [0.11627, 0.11470, 0.11312, 0.11154],\n",
    "            [-0.01048, -0.01034, -0.01019, -0.01005],\n",
    "            [-0.03908, -0.03855, -0.03802, -0.03749],\n",
    "        ],\n",
    "    ]\n",
    ")\n",
    "\n",
    "y = atten_single(query, key, value)\n",
    "dy = torch.randn(*y.shape)  # , **to_double_cuda\n",
    "\n",
    "y.backward(dy)\n",
    "query_grad = query.grad\n",
    "\n",
    "print(\"SelfAttention error: \", rel_error(y_expected, y))\n",
    "print(\"SelfAttention error: \", rel_error(dy_expected, query_grad))"
   ]
  },
  {
   "cell_type": "markdown",
   "id": "f4b80b79",
   "metadata": {
    "id": "f4b80b79"
   },
   "source": [
    "We have implemented the `SingleHeadAttention` block which brings use very close to implementing `MultiHeadAttention`. We will now see that this can be achieved by manipulating the shapes of input tensors based on number of heads in the Multi-Attention block. We design a network that uses multiple SingleHeadAttention blocks in parellel to compute the output tensors and finally concatenate them to generate a single output. This is not the implementation used in practice as it forces you to initialize multiple layers but we use it here for simplicity. Implement MultiHeadAttention block in the `transformers.py` file by using the SingleHeadAttention block."
   ]
  },
  {
   "cell_type": "markdown",
   "id": "3d530dc6-cf5d-41b9-b62e-71a1095a0f01",
   "metadata": {
    "id": "3d530dc6-cf5d-41b9-b62e-71a1095a0f01"
   },
   "source": [
    "Run the following cells to test your `MultiHeadAttention` layer. Again, as `SelfAttention`, we have used pytorch autograd API to test the backward pass. You should expect error values below 1e-5."
   ]
  },
  {
   "cell_type": "code",
   "execution_count": 53,
   "id": "6da2558e",
   "metadata": {
    "id": "6da2558e"
   },
   "outputs": [],
   "source": [
    "from transformers import MultiHeadAttention"
   ]
  },
  {
   "cell_type": "code",
   "execution_count": 54,
   "id": "87bf04ff",
   "metadata": {
    "id": "87bf04ff",
    "outputId": "2a46f0d9-cd41-4ea6-8909-fdd6329a5dcb"
   },
   "outputs": [
    {
     "name": "stdout",
     "output_type": "stream",
     "text": [
      "MultiHeadAttention error:  5.366163452092416e-07\n",
      "MultiHeadAttention error:  1.2122403342308667e-06\n"
     ]
    }
   ],
   "source": [
    "reset_seed(0)\n",
    "N = 2\n",
    "num_heads = 2\n",
    "K = 4\n",
    "M = inp_emb_size = 4\n",
    "out_emb_size = 8\n",
    "atten_multihead = MultiHeadAttention(num_heads, inp_emb_size, out_emb_size)\n",
    "\n",
    "for k, v in atten_multihead.named_parameters():\n",
    "    # print(k, v.shape) # uncomment this to see the weight shape\n",
    "    v.data.copy_(torch.linspace(-1.4, 1.3, steps=v.numel()).reshape(*v.shape))\n",
    "\n",
    "query = torch.linspace(-0.4, 0.6, steps=N * K * M, requires_grad=True).reshape(\n",
    "    N, K, M\n",
    ")  # **to_double_cuda\n",
    "key = torch.linspace(-0.8, 0.5, steps=N * K * M, requires_grad=True).reshape(\n",
    "    N, K, M\n",
    ")  # **to_double_cuda\n",
    "value = torch.linspace(-0.3, 0.8, steps=N * K * M, requires_grad=True).reshape(\n",
    "    N, K, M\n",
    ")  # *to_double_cuda\n",
    "\n",
    "query.retain_grad()\n",
    "key.retain_grad()\n",
    "value.retain_grad()\n",
    "\n",
    "y_expected = torch.tensor(\n",
    "    [\n",
    "        [\n",
    "            [-0.23104, 0.50132, 1.23367, 1.96603],\n",
    "            [0.68324, 1.17869, 1.67413, 2.16958],\n",
    "            [1.40236, 1.71147, 2.02058, 2.32969],\n",
    "            [1.77330, 1.98629, 2.19928, 2.41227],\n",
    "        ],\n",
    "        [\n",
    "            [6.74946, 5.67302, 4.59659, 3.52015],\n",
    "            [6.82813, 5.73131, 4.63449, 3.53767],\n",
    "            [6.86686, 5.76001, 4.65315, 3.54630],\n",
    "            [6.88665, 5.77466, 4.66268, 3.55070],\n",
    "        ],\n",
    "    ]\n",
    ")\n",
    "dy_expected = torch.tensor(\n",
    "    [\n",
    "        [\n",
    "         [ 0.56268,  0.55889,  0.55510,  0.55131],\n",
    "         [ 0.43286,  0.42994,  0.42702,  0.42411],\n",
    "         [ 2.29865,  2.28316,  2.26767,  2.25218],\n",
    "         [ 0.49172,  0.48841,  0.48509,  0.48178],\n",
    "        ],\n",
    "        [\n",
    "         [ 0.25083,  0.24914,  0.24745,  0.24576],\n",
    "         [ 0.14949,  0.14849,  0.14748,  0.14647],\n",
    "         [-0.03105, -0.03084, -0.03063, -0.03043],\n",
    "         [-0.02082, -0.02068, -0.02054, -0.02040],\n",
    "        ],\n",
    "    ]\n",
    ")\n",
    "\n",
    "y = atten_multihead(query, key, value)\n",
    "dy = torch.randn(*y.shape)  # , **to_double_cuda\n",
    "\n",
    "y.backward(dy)\n",
    "query_grad = query.grad\n",
    "print(\"MultiHeadAttention error: \", rel_error(y_expected, y))\n",
    "print(\"MultiHeadAttention error: \", rel_error(dy_expected, query_grad))"
   ]
  },
  {
   "cell_type": "markdown",
   "id": "9be6374e-a968-4b56-a1e4-31d745330b62",
   "metadata": {
    "id": "9be6374e-a968-4b56-a1e4-31d745330b62"
   },
   "source": [
    "### LayerNormalization"
   ]
  },
  {
   "cell_type": "markdown",
   "id": "1a71878d-f75b-4412-ad89-5cde3100f669",
   "metadata": {
    "id": "1a71878d-f75b-4412-ad89-5cde3100f669"
   },
   "source": [
    "In the follwing image we have highlighted the portion where LayerNorm has been used in the Transformer model. Note that in the architecture diagram it's written Add & Norm but we will implement The Norm layer for now and implement the Add part in a different manner.\n",
    "<img src=\"https://drive.google.com/uc?export=view&id=1baDniYuRzsEGnDegAFiARMhoxJjKSF2r\" alt=\"Layer_norm\" width=\"80%\">"
   ]
  },
  {
   "cell_type": "markdown",
   "id": "524ff12e",
   "metadata": {
    "id": "524ff12e"
   },
   "source": [
    "We implemented BatchNorm while working with CNNs. One of the problems of BatchNorm is its dependency on the the complete batch which might not give good results when the batch size is small. Ba et al proposed `LayerNormalization` that takes into account these problems and has become a standard in sequence-to-sequence tasks. In this section, we will implement `LayerNormalization`. Another nice quality of `LayerNormalization` is that as it depends on individual time steps or each element of the sequence, it can be parallelized and the test time runs in a similar manner hence making it better implementation wise. Again, you have to only implement the forward pass and the backward pass will be taken care by Pytorch autograd. Implement the `LayerNormalization` class in `transformers.py`, you should expect the error below 1e-5"
   ]
  },
  {
   "cell_type": "code",
   "execution_count": 55,
   "id": "cdbc1bf9",
   "metadata": {
    "id": "cdbc1bf9"
   },
   "outputs": [],
   "source": [
    "from transformers import LayerNormalization"
   ]
  },
  {
   "cell_type": "code",
   "execution_count": 56,
   "id": "cdf95ed8",
   "metadata": {
    "id": "cdf95ed8"
   },
   "outputs": [
    {
     "name": "stdout",
     "output_type": "stream",
     "text": [
      "LayerNormalization error:  1.3772273765080196e-06\n",
      "LayerNormalization error:  2.6788768499705324e-07\n"
     ]
    }
   ],
   "source": [
    "reset_seed(0)\n",
    "N = 2\n",
    "K = 4\n",
    "norm = LayerNormalization(K)\n",
    "inp = torch.linspace(-0.4, 0.6, steps=N * K, requires_grad=True).reshape(N, K)\n",
    "\n",
    "inp.retain_grad()\n",
    "y = norm(inp)\n",
    "\n",
    "y_expected = torch.tensor(\n",
    "    [[-1.34164, -0.44721, 0.44721, 1.34164], [-1.34164, -0.44721, 0.44721, 1.34164]]\n",
    ")\n",
    "\n",
    "dy_expected = torch.tensor(\n",
    "    [[5.70524, -2.77289, -11.56993, 8.63758], [2.26242, -4.44330, 2.09933, 0.08155]]\n",
    ")\n",
    "\n",
    "dy = torch.randn(*y.shape)\n",
    "y.backward(dy)\n",
    "inp_grad = inp.grad\n",
    "\n",
    "print(\"LayerNormalization error: \", rel_error(y_expected, y))\n",
    "print(\"LayerNormalization error: \", rel_error(dy_expected, inp_grad))"
   ]
  },
  {
   "cell_type": "markdown",
   "id": "5e86954f-f7df-4d7f-ab6c-2fe1dcb1f5b0",
   "metadata": {
    "id": "5e86954f-f7df-4d7f-ab6c-2fe1dcb1f5b0"
   },
   "source": [
    "### FeedForward Block"
   ]
  },
  {
   "cell_type": "markdown",
   "id": "3404d48c-95ce-47d6-ae27-93590552e221",
   "metadata": {
    "id": "3404d48c-95ce-47d6-ae27-93590552e221"
   },
   "source": [
    "In the image below we have highlighted the parts where FeedForward Block is used.\n",
    "<img src=\"https://drive.google.com/uc?export=view&id=1WCNACnI-Q6OfU3ngjIMCbNzb1sbFnCgP\" alt=\"Layer_norm\" width=\"80%\">"
   ]
  },
  {
   "cell_type": "markdown",
   "id": "5d49a145",
   "metadata": {
    "id": "5d49a145"
   },
   "source": [
    "Next, we will implement the `Feedforward` block. These are used in both the Encoder and Decoder network of the Transformer and they consist of stacked MLP and ReLU layers. In the overall architecture, the output of `MultiHeadAttention` is fed into the `FeedForward` block. Implement the `FeedForwardBlock` inside `transformers.py` and execute the following cells to check your implementation. You should expect the errors below 1e-5"
   ]
  },
  {
   "cell_type": "code",
   "execution_count": 57,
   "id": "cc2118cc",
   "metadata": {
    "id": "cc2118cc"
   },
   "outputs": [],
   "source": [
    "from transformers import FeedForwardBlock"
   ]
  },
  {
   "cell_type": "code",
   "execution_count": 60,
   "id": "764da0f7",
   "metadata": {
    "id": "764da0f7"
   },
   "outputs": [
    {
     "name": "stdout",
     "output_type": "stream",
     "text": [
      "FeedForwardBlock error:  2.1976864847460601e-07\n",
      "FeedForwardBlock error:  2.302209744348415e-06\n"
     ]
    }
   ],
   "source": [
    "reset_seed(0)\n",
    "N = 2\n",
    "K = 4\n",
    "M = emb_size = 4\n",
    "\n",
    "ff_block = FeedForwardBlock(emb_size, 2 * emb_size)\n",
    "\n",
    "for k, v in ff_block.named_parameters():\n",
    "    v.data.copy_(torch.linspace(-1.4, 1.3, steps=v.numel()).reshape(*v.shape))\n",
    "\n",
    "inp = torch.linspace(-0.4, 0.6, steps=N * K, requires_grad=True).reshape(\n",
    "    N, K\n",
    ") \n",
    "inp.retain_grad()\n",
    "y = ff_block(inp)\n",
    "\n",
    "y_expected = torch.tensor(\n",
    "    [[-2.46161, -0.71662, 1.02838, 2.77337], [-7.56084, -1.69557, 4.16970, 10.03497]]\n",
    ")\n",
    "\n",
    "dy_expected = torch.tensor(\n",
    "    [[0.55105, 0.68884, 0.82662, 0.96441], [0.30734, 0.31821, 0.32908, 0.33996]]\n",
    ")\n",
    "\n",
    "dy = torch.randn(*y.shape)\n",
    "y.backward(dy)\n",
    "inp_grad = inp.grad\n",
    "\n",
    "print(\"FeedForwardBlock error: \", rel_error(y_expected, y))\n",
    "print(\"FeedForwardBlock error: \", rel_error(dy_expected, inp_grad))"
   ]
  },
  {
   "cell_type": "markdown",
   "id": "09489f50",
   "metadata": {
    "id": "09489f50"
   },
   "source": [
    "Now, if you look back to the original paper, Attention is all you Need, then, we are almost done with the building blocks of a transformer. What's left is:\n",
    "\n",
    "- Encapsulating the building blocks into Encoder Block\n",
    "- Encapsulating the building blocks into Decoder Block\n",
    "- Handling the input data preprocessing and positional encoding.\n",
    "\n",
    "We will first look at implementing the Encoder Block and Decoder block. The positional encoding is a non learnable embedding and we can treat it as a preprocessing step in our DataLoader."
   ]
  },
  {
   "cell_type": "markdown",
   "id": "ccaf4c99-49ba-49d0-970a-a8ee0ce3656e",
   "metadata": {
    "id": "ccaf4c99-49ba-49d0-970a-a8ee0ce3656e"
   },
   "source": [
    "In the figure below we have highlighted the encoder block in a Transformer. Notice that it is build using all the components we already implemented before. We just have to be careful about \n",
    "the residual connections in various blocks.\n",
    "<img src=\"https://drive.google.com/uc?export=view&id=1LsTN1BapktFzSo0smWV881kKeeJRfAa_\" alt=\"Layer_norm\" width=\"80%\">"
   ]
  },
  {
   "cell_type": "markdown",
   "id": "c1364689-db62-44f4-85ca-ed005a357f54",
   "metadata": {
    "id": "c1364689-db62-44f4-85ca-ed005a357f54"
   },
   "source": [
    "As shown in the figure above, the encoder block takes it inputs three tensors. We will assume that we have those three tensors, query, key, and value. Run the cell below to check your implementation of the EncoderBlock. You should expect the errors below 1e-5"
   ]
  },
  {
   "cell_type": "code",
   "execution_count": 27,
   "id": "b9fa5fea",
   "metadata": {
    "id": "b9fa5fea"
   },
   "outputs": [],
   "source": [
    "from transformers import EncoderBlock"
   ]
  },
  {
   "cell_type": "code",
   "execution_count": 63,
   "id": "76e8ccb0",
   "metadata": {
    "id": "76e8ccb0"
   },
   "outputs": [
    {
     "name": "stdout",
     "output_type": "stream",
     "text": [
      "EncoderBlock error 1:  0.08512793741417692\n",
      "EncoderBlock error 2:  0.5019787982258388\n"
     ]
    }
   ],
   "source": [
    "reset_seed(0)\n",
    "N = 2\n",
    "num_heads = 2\n",
    "emb_dim = K = 4\n",
    "feedforward_dim = 8\n",
    "M = inp_emb_size = 4\n",
    "out_emb_size = 8\n",
    "dropout = 0.2\n",
    "\n",
    "enc_seq_inp = torch.linspace(-0.4, 0.6, steps=N * K * M, requires_grad=True).reshape(\n",
    "    N, K, M\n",
    ")  # **to_double_cuda\n",
    "\n",
    "enc_block = EncoderBlock(num_heads, emb_dim, feedforward_dim, dropout)\n",
    "\n",
    "for k, v in enc_block.named_parameters():\n",
    "    # print(k, v.shape) # uncomment this to see the weight shape\n",
    "    v.data.copy_(torch.linspace(-1.4, 1.3, steps=v.numel()).reshape(*v.shape))\n",
    "\n",
    "encoder_out1_expected = torch.tensor(\n",
    "    [\n",
    "        [\n",
    "            [0.50462, -0.26921, 0.77377, 3.75386],\n",
    "            [0.45371, -0.00000, 0.66855, 3.94784],\n",
    "            [0.49614, -0.31357, 0.69126, 3.89884],\n",
    "            [0.47986, -0.30568, 0.69082, 3.90563],\n",
    "        ],\n",
    "        [\n",
    "            [0.45371, -0.30795, 0.66855, 3.94784],\n",
    "            [0.00000, -0.00000, 0.69082, 3.90563],\n",
    "            [0.45371, -0.30795, 0.66855, 3.94784],\n",
    "            [0.47986, -0.30568, 0.69082, 3.90563],\n",
    "        ],\n",
    "    ]\n",
    ")\n",
    "encoder_out1 = enc_block(enc_seq_inp)\n",
    "print(\"EncoderBlock error 1: \", rel_error(encoder_out1, encoder_out1_expected))\n",
    "\n",
    "\n",
    "N = 2\n",
    "num_heads = 1\n",
    "emb_dim = K = 4\n",
    "feedforward_dim = 8\n",
    "M = inp_emb_size = 4\n",
    "out_emb_size = 8\n",
    "dropout = 0.2\n",
    "\n",
    "enc_seq_inp = torch.linspace(-0.4, 0.6, steps=N * K * M, requires_grad=True).reshape(\n",
    "    N, K, M\n",
    ")  # **to_double_cuda\n",
    "\n",
    "enc_block = EncoderBlock(num_heads, emb_dim, feedforward_dim, dropout)\n",
    "\n",
    "for k, v in enc_block.named_parameters():\n",
    "    # print(k, v.shape) # uncomment this to see the weight shape\n",
    "    v.data.copy_(torch.linspace(-1.4, 1.3, steps=v.numel()).reshape(*v.shape))\n",
    "\n",
    "encoder_out2_expected = torch.tensor(\n",
    "    [\n",
    "        [\n",
    "            [0.47056, -0.00000, 0.00000, 0.00000],\n",
    "            [0.47986, -0.30568, 0.69082, 3.90563],\n",
    "            [0.47986, -0.30568, 0.69082, 0.00000],\n",
    "            [0.49614, -0.31357, 0.69126, 3.89884],\n",
    "        ],\n",
    "        [\n",
    "            [0.47986, -0.00000, 0.69082, 0.00000],\n",
    "            [0.50462, -0.26921, 0.77377, 0.00000],\n",
    "            [0.47986, -0.00000, 0.69082, 3.90563],\n",
    "            [0.45371, -0.00000, 0.66855, 3.94784],\n",
    "        ],\n",
    "    ]\n",
    ")\n",
    "encoder_out2 = enc_block(enc_seq_inp)\n",
    "print(\"EncoderBlock error 2: \", rel_error(encoder_out2, encoder_out2_expected))"
   ]
  },
  {
   "cell_type": "code",
   "execution_count": 128,
   "id": "bf923bfd",
   "metadata": {},
   "outputs": [],
   "source": [
    "%reload_ext autoreload"
   ]
  },
  {
   "cell_type": "markdown",
   "id": "cc029c5b-ca52-454a-b8a4-b07cea708b5e",
   "metadata": {
    "id": "cc029c5b-ca52-454a-b8a4-b07cea708b5e"
   },
   "source": [
    "Great! You're almost done with the implementation of the Transformer model."
   ]
  },
  {
   "cell_type": "markdown",
   "id": "4b2616ef-5934-4a50-8f51-642ef635e2cb",
   "metadata": {
    "id": "4b2616ef-5934-4a50-8f51-642ef635e2cb"
   },
   "source": [
    "### Decoder Block\n",
    "\n",
    "The image below shows the highlighted Decoder block. Notice how it takes the input from the encoder and the target sequence.\n",
    "\n",
    "<img src=\"https://drive.google.com/uc?export=view&id=1DwU3BJsA0mUWTWlXNtNolB4oc5K4Z9PE\" alt=\"Layer_norm\" width=\"80%\">"
   ]
  },
  {
   "cell_type": "markdown",
   "id": "19e2d5d7-6918-4ea8-a369-0d53304ff1a7",
   "metadata": {
    "id": "19e2d5d7-6918-4ea8-a369-0d53304ff1a7"
   },
   "source": [
    "Now, we will look at the implementation of the decoder. In the  class we learned about encoder only model that can be used for tasks like sequence classification but for more complicated tasks like sequence to sequence we need a decoder network that can transform the output of the encoder to a target sequence. This kind of architecture is important in tasks like language translation where we have a sequence as input and a sequence as output. This decoder takes the input from the encoder and the previous generated value to generate the next value. During training, we use a Mask on the input so that the decoder network can't look ahead in the future and during inference we sequentially process the data.\n",
    "\n",
    "Before moving to implementing the Decoder Block, we should pay attention to the figure above. It says a \"Masked MultiHead Attention\" which actually prevents the decoder from looking ahead into the future. Lets understand with an example here. We have an expression as `BOS POSITIVE 01 add POSITIVE 00 EOS`, i.e. `1+0` that gives output as `BOS POSITIVE 01 EOS`, i.e. `+1`. Lets focus on the output sequence here. This is a sequence of length 5 (after applying our preprocessing code) and will will get transformed into *key*, *query*, and *value* matrix of dimension $5\\times128$, $5\\times128$ and $5\\times128$ respectively, where 128 is the embedding dimension of the Transformer. Now, while training, we input these vectors in the `self_attention_no_loop_batch` without mask. It will compute the dot product between *query* and *key* to generate a $5\\times5$ matrix where the first row (shape $1\\times5$) of that matrix tells us how much the word `EOS` is related with `EOS`, `POSITIVE`, `0`, `1`, and `EOS`. This means that it will use the weights of all these tokens to learn the final sequence that is to be predicted. This is okay when we are training the model but what happens when we perform inference? We start with a brand new expression, input this expression in the encoder but this time we only have the first starting token `EOS` for decoder and we don't know about the rest of the tokens in the sequence. Hence, a solution to this problem is to mask the weights inside the function `self_attention_no_loop_batch` for only the decoder part. This masking should prevent the decoder from accessing the future or next elements.\n",
    "\n",
    "We will now look at how to generate this mask for a given sequence. Then, you should also update the `self_attention_no_loop_batch` to use the mask variable appropriately. Implement the `get_subsequent_mask`, `self_attention_no_loop_batch` with mask inside `transformers.py` file"
   ]
  },
  {
   "cell_type": "code",
   "execution_count": 41,
   "id": "39392320-f75a-49cc-9d90-364d5eab897b",
   "metadata": {
    "id": "39392320-f75a-49cc-9d90-364d5eab897b"
   },
   "outputs": [
    {
     "name": "stdout",
     "output_type": "stream",
     "text": [
      "get_subsequent_mask error:  0.0\n"
     ]
    }
   ],
   "source": [
    "from transformers import get_subsequent_mask\n",
    "\n",
    "reset_seed(0)\n",
    "seq_len_enc = K = 4\n",
    "M = inp_emb_size = 3\n",
    "\n",
    "inp_sequence = torch.linspace(-0.4, 0.6, steps=K * M, requires_grad=True).reshape(\n",
    "    K, M\n",
    ")  # **to_double_cuda\n",
    "\n",
    "mask_expected = torch.tensor(\n",
    "    [\n",
    "        [[False, True, True], [False, False, True], [False, False, False]],\n",
    "        [[False, True, True], [False, False, True], [False, False, False]],\n",
    "        [[False, True, True], [False, False, True], [False, False, False]],\n",
    "        [[False, True, True], [False, False, True], [False, False, False]],\n",
    "    ]\n",
    ")\n",
    "mask_predicted = get_subsequent_mask(inp_sequence)\n",
    "print(\n",
    "    \"get_subsequent_mask error: \", rel_error(mask_predicted.int(), mask_expected.int())\n",
    ")"
   ]
  },
  {
   "cell_type": "code",
   "execution_count": 42,
   "id": "408e7333-9d14-498d-8661-b9f8703b24fe",
   "metadata": {
    "id": "408e7333-9d14-498d-8661-b9f8703b24fe"
   },
   "outputs": [],
   "source": [
    "from transformers import scaled_dot_product_no_loop_batch"
   ]
  },
  {
   "cell_type": "code",
   "execution_count": 43,
   "id": "0b6d6114-f8fa-484b-8084-ea078db1545a",
   "metadata": {
    "id": "0b6d6114-f8fa-484b-8084-ea078db1545a"
   },
   "outputs": [
    {
     "name": "stdout",
     "output_type": "stream",
     "text": [
      "scaled_dot_product_no_loop_batch error:  2.8390648478191238e-06\n"
     ]
    }
   ],
   "source": [
    "reset_seed(0)\n",
    "N = 4\n",
    "K = 3\n",
    "M = 3\n",
    "\n",
    "query = torch.linspace(-0.4, 0.6, steps=K * M * N, requires_grad=True).reshape(N, K, M)\n",
    "key = torch.linspace(-0.1, 0.2, steps=K * M * N, requires_grad=True).reshape(N, K, M)\n",
    "value = torch.linspace(0.4, 0.8, steps=K * M * N, requires_grad=True).reshape(N, K, M)\n",
    "\n",
    "y_expected = torch.tensor(\n",
    "    [\n",
    "        [\n",
    "            [0.40000, 0.41143, 0.42286],\n",
    "            [0.41703, 0.42846, 0.43989],\n",
    "            [0.43408, 0.44551, 0.45694],\n",
    "        ],\n",
    "        [\n",
    "            [0.50286, 0.51429, 0.52571],\n",
    "            [0.51999, 0.53142, 0.54285],\n",
    "            [0.53720, 0.54863, 0.56006],\n",
    "        ],\n",
    "        [\n",
    "            [0.60571, 0.61714, 0.62857],\n",
    "            [0.62294, 0.63437, 0.64580],\n",
    "            [0.64032, 0.65175, 0.66318],\n",
    "        ],\n",
    "        [\n",
    "            [0.70857, 0.72000, 0.73143],\n",
    "            [0.72590, 0.73733, 0.74876],\n",
    "            [0.74344, 0.75487, 0.76630],\n",
    "        ],\n",
    "    ]\n",
    ")\n",
    "y_predicted, _ = scaled_dot_product_no_loop_batch(query, key, value, mask_expected)\n",
    "\n",
    "print(\"scaled_dot_product_no_loop_batch error: \", rel_error(y_expected, y_predicted))"
   ]
  },
  {
   "cell_type": "markdown",
   "id": "9671dba4-bf00-434d-865d-97c967e154a6",
   "metadata": {
    "id": "9671dba4-bf00-434d-865d-97c967e154a6"
   },
   "source": [
    "Lets finally implement the decoder block now that we have all the required tools to implement it. Fill in the init function and the forward pass of the `DecoderBlock` inside `transformers.py`. Run the following cells to check your implementation of the `DecoderBlock`. You should expect the errors below 1e-5."
   ]
  },
  {
   "cell_type": "code",
   "execution_count": 44,
   "id": "aa350b69",
   "metadata": {
    "id": "aa350b69"
   },
   "outputs": [],
   "source": [
    "from transformers import DecoderBlock"
   ]
  },
  {
   "cell_type": "code",
   "execution_count": 51,
   "id": "62927d47",
   "metadata": {
    "id": "62927d47"
   },
   "outputs": [
    {
     "name": "stdout",
     "output_type": "stream",
     "text": [
      "DecoderBlock error:  0.4999456863965454\n",
      "DecoderBlock error:  0.5031966572696958\n"
     ]
    }
   ],
   "source": [
    "reset_seed(0)\n",
    "N = 2\n",
    "num_heads = 2\n",
    "seq_len_enc = K1 = 4\n",
    "seq_len_dec = K2 = 2\n",
    "feedforward_dim = 8\n",
    "M = emb_dim = 4\n",
    "out_emb_size = 8\n",
    "dropout = 0.2\n",
    "\n",
    "dec_inp = torch.linspace(-0.4, 0.6, steps=N * K1 * M, requires_grad=True).reshape(\n",
    "    N, K1, M\n",
    ")\n",
    "enc_out = torch.linspace(-0.4, 0.6, steps=N * K2 * M, requires_grad=True).reshape(\n",
    "    N, K2, M\n",
    ")\n",
    "dec_block = DecoderBlock(num_heads, emb_dim, feedforward_dim, dropout)\n",
    "\n",
    "for k, v in dec_block.named_parameters():\n",
    "    # print(k, v.shape) # uncomment this to see the weight shape\n",
    "    v.data.copy_(torch.linspace(-1.4, 1.3, steps=v.numel()).reshape(*v.shape))\n",
    "\n",
    "\n",
    "dec_out_expected = torch.tensor(\n",
    "    [\n",
    "        [\n",
    "            [0.00000, -0.34594, 0.00000, 3.78497],\n",
    "            [0.52054, -0.32168, 0.69772, 3.87943],\n",
    "            [0.60204, -0.31853, 0.77464, 3.71328],\n",
    "            [0.00000, -0.32496, 0.68203, 3.90856],\n",
    "        ],\n",
    "        [\n",
    "            [0.51629, -0.33099, 0.68078, 3.90632],\n",
    "            [0.51646, -0.33376, 0.67693, 0.00000],\n",
    "            [0.50026, -0.32264, 0.68099, 3.91245],\n",
    "            [0.53197, -0.32549, 0.00000, 3.87000],\n",
    "        ],\n",
    "    ]\n",
    ")\n",
    "dec_out1 = dec_block(dec_inp, enc_out)\n",
    "print(\"DecoderBlock error: \", rel_error(dec_out1, dec_out_expected))\n",
    "\n",
    "N = 2\n",
    "num_heads = 2\n",
    "seq_len_enc = K1 = 4\n",
    "seq_len_dec = K2 = 4\n",
    "feedforward_dim = 4\n",
    "M = emb_dim = 4\n",
    "out_emb_size = 8\n",
    "dropout = 0.2\n",
    "\n",
    "dec_inp = torch.linspace(-0.4, 0.6, steps=N * K1 * M, requires_grad=True).reshape(\n",
    "    N, K1, M\n",
    ")  \n",
    "enc_out = torch.linspace(-0.4, 0.6, steps=N * K2 * M, requires_grad=True).reshape(\n",
    "    N, K2, M\n",
    ")  \n",
    "dec_block = DecoderBlock(num_heads, emb_dim, feedforward_dim, dropout)\n",
    "\n",
    "for k, v in dec_block.named_parameters():\n",
    "    # print(k, v.shape) # uncomment this to see the weight shape\n",
    "    v.data.copy_(torch.linspace(-1.4, 1.3, steps=v.numel()).reshape(*v.shape))\n",
    "\n",
    "\n",
    "dec_out_expected = torch.tensor(\n",
    "    [\n",
    "        [\n",
    "            [0.44764, -0.32267, 0.64419, 3.98311],\n",
    "            [0.46418, -0.32106, 0.65756, 3.95921],\n",
    "            [0.42856, -0.31649, 0.63980, 0.00000],\n",
    "            [0.45114, -0.31195, 0.66115, 0.00000],\n",
    "        ],\n",
    "        [\n",
    "            [0.00000, -0.32431, 0.66089, 3.95040],\n",
    "            [0.47546, -0.32431, 0.66089, 3.95040],\n",
    "            [0.61491, -0.33178, 0.76261, 3.72987],\n",
    "            [0.43070, -0.31771, 0.63958, 3.99524],\n",
    "        ],\n",
    "    ]\n",
    ")\n",
    "dec_out2 = dec_block(dec_inp, enc_out)\n",
    "print(\"DecoderBlock error: \", rel_error(dec_out2, dec_out_expected))"
   ]
  },
  {
   "cell_type": "markdown",
   "id": "cba0c23d-ba32-442d-87fe-26c1f9848aad",
   "metadata": {
    "id": "cba0c23d-ba32-442d-87fe-26c1f9848aad"
   },
   "source": [
    "Based on the implementation of `EncoderBlock` and `DecoderBlock`, we have implemented the `Encoder` and `Decoder` networks for you in transformers.py. You should be able to understand the input and outputs of these Encoder and Decoder blocks. Implement the Transformer block inside transformer.py using these networks."
   ]
  },
  {
   "cell_type": "markdown",
   "id": "20a41e64-4de5-4289-be47-3e7282e88f35",
   "metadata": {
    "id": "20a41e64-4de5-4289-be47-3e7282e88f35"
   },
   "source": [
    "## Part III: Data loader\n",
    "\n",
    "In this part, we will have a look at creating the final data loader for the task, that can be used to train the Transformer model. This will comprise of two things:\n",
    "\n",
    "- Implement Positional Encoding\n",
    "- Create a dataloader using the `prepocess_input_sequence` fucntion that we created in Part I."
   ]
  },
  {
   "cell_type": "markdown",
   "id": "1249f651-4de3-4dd7-aa85-7d8bfb3e1e4f",
   "metadata": {
    "id": "1249f651-4de3-4dd7-aa85-7d8bfb3e1e4f"
   },
   "source": [
    "Lets start with implementing the Positional Encoding for the input. The positional encodings make the Transformers positionally aware about sequences. These are usually added to the input and hence should be same shape as input. As these are not learnable, they remain constant throughtout the training process. For this reason, we can look at it as a pre-processing step that's done on the input. Our strategy here would be to implement positional encoding function and use it later while creating DataLoader for the toy dataset.\n",
    "\n",
    "Lets look at the simplest kind of positional encoding, i.e. for a sequence of length K, assign the nth element in the sequence a value of n/K, where n starts from 0. Implement the position_encoding_simple inside `transformers.py`. You should expect error less than 1e-9 here."
   ]
  },
  {
   "cell_type": "markdown",
   "id": "0798f4f1-fdb5-4e3b-9dba-5e1e1d64277b",
   "metadata": {
    "id": "0798f4f1-fdb5-4e3b-9dba-5e1e1d64277b"
   },
   "source": [
    "### Simple positional encoding"
   ]
  },
  {
   "cell_type": "code",
   "execution_count": 73,
   "id": "90e1dad2-aecb-487e-8ece-c23b7e48c291",
   "metadata": {
    "id": "90e1dad2-aecb-487e-8ece-c23b7e48c291"
   },
   "outputs": [
    {
     "name": "stdout",
     "output_type": "stream",
     "text": [
      "position_encoding_simple error:  0.0\n",
      "position_encoding_simple error:  0.0\n"
     ]
    }
   ],
   "source": [
    "from transformers import position_encoding_simple\n",
    "\n",
    "reset_seed(0)\n",
    "K = 4\n",
    "M = emb_size = 4\n",
    "\n",
    "y = position_encoding_simple(K, M)\n",
    "y_expected = torch.tensor(\n",
    "    [\n",
    "        [\n",
    "            [0.00000, 0.00000, 0.00000, 0.00000],\n",
    "            [0.25000, 0.25000, 0.25000, 0.25000],\n",
    "            [0.50000, 0.50000, 0.50000, 0.50000],\n",
    "            [0.75000, 0.75000, 0.75000, 0.75000],\n",
    "        ]\n",
    "    ]\n",
    ")\n",
    "\n",
    "print(\"position_encoding_simple error: \", rel_error(y, y_expected))\n",
    "\n",
    "K = 5\n",
    "M = emb_size = 3\n",
    "\n",
    "\n",
    "y = position_encoding_simple(K, M)\n",
    "y_expected = torch.tensor(\n",
    "    [\n",
    "        [\n",
    "            [0.00000, 0.00000, 0.00000],\n",
    "            [0.20000, 0.20000, 0.20000],\n",
    "            [0.40000, 0.40000, 0.40000],\n",
    "            [0.60000, 0.60000, 0.60000],\n",
    "            [0.80000, 0.80000, 0.80000],\n",
    "        ]\n",
    "    ]\n",
    ")\n",
    "print(\"position_encoding_simple error: \", rel_error(y, y_expected))"
   ]
  },
  {
   "cell_type": "markdown",
   "id": "8c8ddbbc-1631-4781-849d-3fd27a3b0619",
   "metadata": {
    "id": "8c8ddbbc-1631-4781-849d-3fd27a3b0619"
   },
   "source": [
    "### Sinusoid positional encoding"
   ]
  },
  {
   "cell_type": "markdown",
   "id": "1e3db3a0",
   "metadata": {
    "id": "1e3db3a0"
   },
   "source": [
    "Now that we have looked at a simple positional encoding, we can see one major drawback, which is that if the sequence length gets larger, the difference between two consecutive positional encodings becomes smaller and smaller and it in turn defeats a purpose of positional awareness, as there is very small diference in two consecutive positions. Another issue is that for each position we replicated it along embedding dimension, hence introducing redundancy which might not help the network in learning anything new. There could be different tricks that can be used to make a positional encoding that could solve these problems.\n",
    "\n",
    "Lets look at more mature version of a positonal encoding that uses a combination of sines and cosines function, also called sinusoid. This is also the positional encoding used in the original Transformer paper. For each element in the sequence (length K) with position $p$ and embedding (dimension M) positon $i$, we can define the positional encoding as:\n",
    "\n",
    "$$PE_{(p, 2i)} = \\sin\\left(\\frac{p}{10000^a}\\right)$$\n",
    "$$PE_{(p, 2i+1)} = \\cos\\left(\\frac{p}{10000^a}\\right)$$\n",
    "\n",
    "$$\\text{Where }a = \\left\\lfloor{\\frac{2i}{M}}\\right\\rfloor \\text{and M is the Embedding dimension of the Transformer}$$\n",
    "\n",
    "Here, $p$ remains constant for a position in the sequence and we assign alternating sines and cosines along the embedding dimension.\n",
    "\n",
    "Implement the fucntion `position_encoding` inside `transformers.py`. You should expect errors below 1e-5."
   ]
  },
  {
   "cell_type": "code",
   "execution_count": 72,
   "id": "135f8367-b90d-4956-8783-1e0c8e3e2c94",
   "metadata": {
    "id": "135f8367-b90d-4956-8783-1e0c8e3e2c94"
   },
   "outputs": [
    {
     "name": "stdout",
     "output_type": "stream",
     "text": [
      "position_encoding error:  1.5795230865478516e-06\n",
      "position_encoding error:  1.817941665649414e-06\n"
     ]
    }
   ],
   "source": [
    "from transformers import position_encoding_sinusoid\n",
    "\n",
    "reset_seed(0)\n",
    "K = 4\n",
    "M = emb_size = 4\n",
    "\n",
    "y1 = position_encoding_sinusoid(K, M)\n",
    "y_expected = torch.tensor(\n",
    "    [\n",
    "        [\n",
    "            [0.00000, 1.00000, 0.00000, 1.00000],\n",
    "            [0.84147, 0.54030, 0.84147, 0.54030],\n",
    "            [0.90930, -0.41615, 0.90930, -0.41615],\n",
    "            [0.14112, -0.98999, 0.14112, -0.98999],\n",
    "        ]\n",
    "    ]\n",
    ")\n",
    "\n",
    "print(\"position_encoding error: \", rel_error(y1, y_expected))\n",
    "\n",
    "K = 5\n",
    "M = emb_size = 3\n",
    "\n",
    "\n",
    "y2 = position_encoding_sinusoid(K, M)\n",
    "y_expected = torch.tensor(\n",
    "    [\n",
    "        [\n",
    "            [0.00000, 1.00000, 0.00000],\n",
    "            [0.84147, 0.54030, 0.84147],\n",
    "            [0.90930, -0.41615, 0.90930],\n",
    "            [0.14112, -0.98999, 0.14112],\n",
    "            [-0.75680, -0.65364, -0.75680],\n",
    "        ]\n",
    "    ]\n",
    ")\n",
    "print(\"position_encoding error: \", rel_error(y2, y_expected))"
   ]
  },
  {
   "cell_type": "markdown",
   "id": "579e6f2e-d2f0-4a10-a54f-c65ecdccc587",
   "metadata": {
    "id": "579e6f2e-d2f0-4a10-a54f-c65ecdccc587"
   },
   "source": [
    "### Constructing the DataLoader for the toy dataset"
   ]
  },
  {
   "cell_type": "markdown",
   "id": "5f2d8dd1",
   "metadata": {
    "id": "5f2d8dd1"
   },
   "source": [
    "Now we will use the implemented positonal encodings to construct a DataLoader in Pytorch. The function of a data loader is to return a batch for training/validation. We first make a Dataset class that gives us a single element in the batch and then use a DataLoader to wrap the dataset. We inherit the Dataset from `torch.utils.data.Dataset` class. This class consists of two important functions that you'd change depending on your usecase (for e.g. the upcoming project!). The first function is `__init__`, this consists of the components that are *static*, in other words, these are the variables that won't change when we want the next element from the complete data. The second fucntion is `__getitem__` which contains the core functionality of the final dataloader.\n",
    "\n",
    "To get the final dataloader, we wrap the `train_data` and `test_data` in `torch.utils.data.DataLoader` class"
   ]
  },
  {
   "cell_type": "code",
   "execution_count": 74,
   "id": "a673ee9f-c5ae-438c-b696-9662dcb87c52",
   "metadata": {
    "id": "a673ee9f-c5ae-438c-b696-9662dcb87c52"
   },
   "outputs": [],
   "source": [
    "from sklearn.model_selection import train_test_split\n",
    "from transformers import AddSubDataset\n",
    "\n",
    "BATCH_SIZE = 16\n",
    "\n",
    "X, y = data[\"inp_expression\"], data[\"out_expression\"]\n",
    "\n",
    "X_train, X_test, y_train, y_test = train_test_split(X, y, test_size=0.1, random_state=0)\n",
    "\n",
    "train_data = AddSubDataset(\n",
    "    X_train,\n",
    "    y_train,\n",
    "    convert_str_to_tokens,\n",
    "    SPECIAL_TOKENS,\n",
    "    32,\n",
    "    position_encoding_simple,\n",
    ")\n",
    "valid_data = AddSubDataset(\n",
    "    X_test, y_test, convert_str_to_tokens, SPECIAL_TOKENS, 32, position_encoding_simple\n",
    ")\n",
    "\n",
    "train_loader = torch.utils.data.DataLoader(\n",
    "    train_data, batch_size=BATCH_SIZE, shuffle=False, drop_last=True\n",
    ")\n",
    "valid_loader = torch.utils.data.DataLoader(\n",
    "    valid_data, batch_size=BATCH_SIZE, shuffle=False, drop_last=True\n",
    ")"
   ]
  },
  {
   "cell_type": "markdown",
   "id": "17ac4856-63fd-4693-87b2-ae616f438202",
   "metadata": {
    "id": "17ac4856-63fd-4693-87b2-ae616f438202"
   },
   "source": [
    "## Part IV: Using transformer on the toy dataset"
   ]
  },
  {
   "cell_type": "markdown",
   "id": "0fde5c5d",
   "metadata": {
    "id": "0fde5c5d"
   },
   "source": [
    "In this part, we will put all the parts together to train a transformer model. We have implemented most of the functions here for you and your task would be to use these functions to train a Transformer model. The overall tasks are divided into three parts:\n",
    "\n",
    "- Implement the Transformer model using previusly implemented functions\n",
    "- Overfitting the model\n",
    "- Training using complete data\n",
    "- Visualizing the attention"
   ]
  },
  {
   "cell_type": "code",
   "execution_count": 36,
   "id": "a14ddc39",
   "metadata": {
    "id": "a14ddc39"
   },
   "outputs": [],
   "source": [
    "from tqdm import tqdm"
   ]
  },
  {
   "cell_type": "markdown",
   "id": "c0918d6d-0207-406e-9f2e-9a9cc901754f",
   "metadata": {
    "id": "c0918d6d-0207-406e-9f2e-9a9cc901754f"
   },
   "source": [
    "### Implement the Transformer model"
   ]
  },
  {
   "cell_type": "markdown",
   "id": "3f77aa51-af4e-404b-a981-75edd5892623",
   "metadata": {
    "id": "3f77aa51-af4e-404b-a981-75edd5892623"
   },
   "source": [
    "We will add all the peices together to implement the Transformer model completely, as shown in the figure below. Note that till now we have implemented the Encoder and Decoder, and we handled the positional encodings for the input. Whats left is the input and output embedding layer. We will share this embedding layer for the encoder and decoder here. Lastly, we need to map the final output of the decoder to the vocabulary length(the last linear block after decoder in the figure below)\n",
    "<img src=\"https://drive.google.com/uc?export=view&id=1snyWKrr2r1J-O8VQTVxkwQYptk0oFhIM\" alt=\"Layer_norm\" width=\"80%\">"
   ]
  },
  {
   "cell_type": "markdown",
   "id": "7447b1ff",
   "metadata": {
    "id": "7447b1ff"
   },
   "source": [
    "Implement the Transformer model in `transformer.py` and run the cells below to check the final shapes of the output"
   ]
  },
  {
   "cell_type": "code",
   "execution_count": 37,
   "id": "8d0f19cf",
   "metadata": {
    "id": "8d0f19cf"
   },
   "outputs": [],
   "source": [
    "import torch.optim as optim\n",
    "from transformers import Transformer\n",
    "\n",
    "inp_seq_len = 9\n",
    "out_seq_len = 5\n",
    "num_heads = 4\n",
    "emb_dim = 32\n",
    "dim_feedforward = 64\n",
    "dropout = 0.2\n",
    "num_enc_layers = 4\n",
    "num_dec_layers = 4\n",
    "vocab_len = len(vocab)\n",
    "\n",
    "model = Transformer(\n",
    "    num_heads,\n",
    "    emb_dim,\n",
    "    dim_feedforward,\n",
    "    dropout,\n",
    "    num_enc_layers,\n",
    "    num_dec_layers,\n",
    "    vocab_len,\n",
    ")\n",
    "for it in train_loader:\n",
    "  it\n",
    "  break\n",
    "inp, inp_pos, out, out_pos = it\n",
    "device = torch.device(\"cuda\")\n",
    "model = model.to(device)\n",
    "inp_pos = inp_pos.to(device)\n",
    "out_pos = out_pos.to(device)\n",
    "out = out.to(device)\n",
    "inp = inp.to(device)\n",
    "\n",
    "\n",
    "model_out = model(inp.long(), inp_pos, out.long(), out_pos)\n",
    "assert model_out.size(0) == BATCH_SIZE * (out_seq_len - 1)\n",
    "assert model_out.size(1) == vocab_len"
   ]
  },
  {
   "cell_type": "markdown",
   "id": "bc890c7f",
   "metadata": {
    "id": "bc890c7f"
   },
   "source": [
    "### Overfitting the model using small data"
   ]
  },
  {
   "cell_type": "markdown",
   "id": "62a4b8da",
   "metadata": {
    "id": "62a4b8da"
   },
   "source": [
    "Now that we have implemented the Transformer model, lets overfit on a small dataset. This will ensure that the implementation is correct. We keep the training and validation data same here. Before doing that, a couple of things to keep in mind:\n",
    "\n",
    "- We implemented two versions of positional encodings: simple and sinusoid. For overfitting, we will use the simple positional encoding but feel free to experiment with both when training for the complete model\n",
    "- In transformers.py, we have implemented two loss functions for you. The first is the familiar cross entropy loss and second is the `LabelSmoothingLoss`. For overfitting, we will use the cross entropy loss but feel free to experiment with both while doing experiment with the complete data.\n",
    "- Usually, the training regime of Transformers start with a warmup, in other words, we train the model with a lower learning rate for some iterations and then increasing the learning rate to make the network learn faster. Intuitively, this helps you to attain a stable manifold in the loss function and then we increase the learning rate to learn faster in this stable manifold. In a way we are warming up the network to be in a stable manifold and we start training with a higher learning rate after this warm-up. For overfitting we have NOT used this warm-up as for such small data, it is okay to start with a higer learning rate but you should keep this in mind while training with the complete data. We have used two functions from a5_helper.py, `train` and `val`. Here, `train` has three parameters that you should pay attention to:\n",
    "  - `warmup_interval`: Specifies the number of iterations that the network should train with a low learning rate. In other words, its the number of iterations after which the network will have the higher learning rate\n",
    "  - `warmup_lr`: This is the learning rate that will be used during warmup.\n",
    "  - `lr`: This is the learning rate that will get used after the warm-up. If warmup_interval is None, we will start training with this learning rate.\n",
    "\n",
    "In the following cells for overfitting, we have used the number of epochs as 200 but you could increase this. You should get an accuracy ~1 in 200 epochs. It might be a little lower as well, don't worry about it. It should take about a minute to run the overfitting.\n",
    "\n",
    "NOTE: When we say epoch, it means the number of times we have taken a complete pass over the data. One epoch typically consists of many iterations that depend on the batch size."
   ]
  },
  {
   "cell_type": "code",
   "execution_count": 68,
   "id": "f9a206d1",
   "metadata": {
    "id": "f9a206d1"
   },
   "outputs": [],
   "source": [
    "from transformers import LabelSmoothingLoss, CrossEntropyLoss\n",
    "import torch.optim as optim\n",
    "from transformers import Transformer\n",
    "from a5_helper import train as train_transformer\n",
    "from a5_helper import val as val_transformer"
   ]
  },
  {
   "cell_type": "code",
   "execution_count": 39,
   "id": "033af962",
   "metadata": {
    "id": "033af962"
   },
   "outputs": [],
   "source": [
    "inp_seq_len = 9\n",
    "out_seq_len = 5\n",
    "num_heads = 4\n",
    "emb_dim = 32\n",
    "dim_feedforward = 32\n",
    "dropout = 0.2\n",
    "num_enc_layers = 1\n",
    "num_dec_layers = 1\n",
    "vocab_len = len(vocab)\n",
    "BATCH_SIZE = 4\n",
    "num_epochs=200 #number of epochs\n",
    "lr=1e-3 #learning rate after warmup\n",
    "loss_func = CrossEntropyLoss\n",
    "warmup_interval = None #number of iterations for warmup\n",
    "\n",
    "model = Transformer(\n",
    "    num_heads,\n",
    "    emb_dim,\n",
    "    dim_feedforward,\n",
    "    dropout,\n",
    "    num_enc_layers,\n",
    "    num_dec_layers,\n",
    "    vocab_len,\n",
    ")\n",
    "train_data = AddSubDataset(\n",
    "    X_train,\n",
    "    y_train,\n",
    "    convert_str_to_tokens,\n",
    "    SPECIAL_TOKENS,\n",
    "    emb_dim,\n",
    "    position_encoding_simple,\n",
    ")\n",
    "valid_data = AddSubDataset(\n",
    "    X_test,\n",
    "    y_test,\n",
    "    convert_str_to_tokens,\n",
    "    SPECIAL_TOKENS,\n",
    "    emb_dim,\n",
    "    position_encoding_simple,\n",
    ")\n",
    "\n",
    "train_loader = torch.utils.data.DataLoader(\n",
    "    train_data, batch_size=BATCH_SIZE, shuffle=False, drop_last=True\n",
    ")\n",
    "valid_loader = torch.utils.data.DataLoader(\n",
    "    valid_data, batch_size=BATCH_SIZE, shuffle=False, drop_last=True\n",
    ")\n",
    "\n",
    "small_dataset = torch.utils.data.Subset(\n",
    "    train_data, torch.linspace(0, len(train_data) - 1, steps=4).long()\n",
    ")\n",
    "small_train_loader = torch.utils.data.DataLoader(\n",
    "    small_dataset, batch_size=4, pin_memory=True, num_workers=1, shuffle=False\n",
    ")"
   ]
  },
  {
   "cell_type": "code",
   "execution_count": 40,
   "id": "8c4fa6c5",
   "metadata": {
    "id": "8c4fa6c5"
   },
   "outputs": [
    {
     "name": "stdout",
     "output_type": "stream",
     "text": [
      "Training started...\n",
      "[epoch: 1] [loss:  3.3898 ] val_loss: [val_loss  3.2925 ]\n",
      "[epoch: 2] [loss:  3.4596 ] val_loss: [val_loss  3.1047 ]\n",
      "[epoch: 3] [loss:  2.9806 ] val_loss: [val_loss  2.9135 ]\n",
      "[epoch: 4] [loss:  3.4491 ] val_loss: [val_loss  2.7333 ]\n",
      "[epoch: 5] [loss:  2.9180 ] val_loss: [val_loss  2.5724 ]\n",
      "[epoch: 6] [loss:  3.1986 ] val_loss: [val_loss  2.4166 ]\n",
      "[epoch: 7] [loss:  3.0320 ] val_loss: [val_loss  2.2699 ]\n",
      "[epoch: 8] [loss:  3.1765 ] val_loss: [val_loss  2.1420 ]\n",
      "[epoch: 9] [loss:  2.5171 ] val_loss: [val_loss  2.0278 ]\n",
      "[epoch: 10] [loss:  2.7551 ] val_loss: [val_loss  1.9221 ]\n",
      "[epoch: 11] [loss:  2.6890 ] val_loss: [val_loss  1.8294 ]\n",
      "[epoch: 12] [loss:  2.2756 ] val_loss: [val_loss  1.7440 ]\n",
      "[epoch: 13] [loss:  2.2049 ] val_loss: [val_loss  1.6683 ]\n",
      "[epoch: 14] [loss:  1.8624 ] val_loss: [val_loss  1.5959 ]\n",
      "[epoch: 15] [loss:  2.0884 ] val_loss: [val_loss  1.5276 ]\n",
      "[epoch: 16] [loss:  2.1381 ] val_loss: [val_loss  1.4718 ]\n",
      "[epoch: 17] [loss:  1.8028 ] val_loss: [val_loss  1.4197 ]\n",
      "[epoch: 18] [loss:  2.0686 ] val_loss: [val_loss  1.3674 ]\n",
      "[epoch: 19] [loss:  1.8526 ] val_loss: [val_loss  1.3196 ]\n",
      "[epoch: 20] [loss:  1.7611 ] val_loss: [val_loss  1.2745 ]\n",
      "[epoch: 21] [loss:  1.6715 ] val_loss: [val_loss  1.2325 ]\n",
      "[epoch: 22] [loss:  1.9050 ] val_loss: [val_loss  1.1911 ]\n",
      "[epoch: 23] [loss:  1.7410 ] val_loss: [val_loss  1.1514 ]\n",
      "[epoch: 24] [loss:  1.7926 ] val_loss: [val_loss  1.1125 ]\n",
      "[epoch: 25] [loss:  1.5724 ] val_loss: [val_loss  1.0712 ]\n",
      "[epoch: 26] [loss:  1.4789 ] val_loss: [val_loss  1.0323 ]\n",
      "[epoch: 27] [loss:  1.5424 ] val_loss: [val_loss  0.9961 ]\n",
      "[epoch: 28] [loss:  1.5146 ] val_loss: [val_loss  0.9608 ]\n",
      "[epoch: 29] [loss:  1.2842 ] val_loss: [val_loss  0.9254 ]\n",
      "[epoch: 30] [loss:  1.1051 ] val_loss: [val_loss  0.8904 ]\n",
      "[epoch: 31] [loss:  1.2164 ] val_loss: [val_loss  0.8589 ]\n",
      "[epoch: 32] [loss:  1.0681 ] val_loss: [val_loss  0.8290 ]\n",
      "[epoch: 33] [loss:  1.2160 ] val_loss: [val_loss  0.8007 ]\n",
      "[epoch: 34] [loss:  1.0086 ] val_loss: [val_loss  0.7725 ]\n",
      "[epoch: 35] [loss:  1.3336 ] val_loss: [val_loss  0.7437 ]\n",
      "[epoch: 36] [loss:  1.2505 ] val_loss: [val_loss  0.7190 ]\n",
      "[epoch: 37] [loss:  1.2297 ] val_loss: [val_loss  0.6958 ]\n",
      "[epoch: 38] [loss:  1.0655 ] val_loss: [val_loss  0.6753 ]\n",
      "[epoch: 39] [loss:  1.3807 ] val_loss: [val_loss  0.6575 ]\n",
      "[epoch: 40] [loss:  1.2131 ] val_loss: [val_loss  0.6424 ]\n",
      "[epoch: 41] [loss:  1.1438 ] val_loss: [val_loss  0.6288 ]\n",
      "[epoch: 42] [loss:  1.1481 ] val_loss: [val_loss  0.6164 ]\n",
      "[epoch: 43] [loss:  1.1395 ] val_loss: [val_loss  0.6053 ]\n",
      "[epoch: 44] [loss:  0.9101 ] val_loss: [val_loss  0.5918 ]\n",
      "[epoch: 45] [loss:  1.0389 ] val_loss: [val_loss  0.5799 ]\n",
      "[epoch: 46] [loss:  0.9444 ] val_loss: [val_loss  0.5673 ]\n",
      "[epoch: 47] [loss:  1.0350 ] val_loss: [val_loss  0.5575 ]\n",
      "[epoch: 48] [loss:  1.0189 ] val_loss: [val_loss  0.5488 ]\n",
      "[epoch: 49] [loss:  0.9617 ] val_loss: [val_loss  0.5379 ]\n",
      "[epoch: 50] [loss:  1.0568 ] val_loss: [val_loss  0.5268 ]\n",
      "[epoch: 51] [loss:  1.2445 ] val_loss: [val_loss  0.5171 ]\n",
      "[epoch: 52] [loss:  0.7786 ] val_loss: [val_loss  0.5067 ]\n",
      "[epoch: 53] [loss:  0.8376 ] val_loss: [val_loss  0.4966 ]\n",
      "[epoch: 54] [loss:  0.7846 ] val_loss: [val_loss  0.4862 ]\n",
      "[epoch: 55] [loss:  0.7350 ] val_loss: [val_loss  0.4753 ]\n",
      "[epoch: 56] [loss:  1.1010 ] val_loss: [val_loss  0.4654 ]\n",
      "[epoch: 57] [loss:  0.7783 ] val_loss: [val_loss  0.4569 ]\n",
      "[epoch: 58] [loss:  0.7197 ] val_loss: [val_loss  0.4505 ]\n",
      "[epoch: 59] [loss:  0.5952 ] val_loss: [val_loss  0.4466 ]\n",
      "[epoch: 60] [loss:  0.7669 ] val_loss: [val_loss  0.4424 ]\n",
      "[epoch: 61] [loss:  0.8238 ] val_loss: [val_loss  0.4388 ]\n",
      "[epoch: 62] [loss:  0.8755 ] val_loss: [val_loss  0.4343 ]\n",
      "[epoch: 63] [loss:  0.7163 ] val_loss: [val_loss  0.4312 ]\n",
      "[epoch: 64] [loss:  0.8570 ] val_loss: [val_loss  0.4272 ]\n",
      "[epoch: 65] [loss:  0.7231 ] val_loss: [val_loss  0.4218 ]\n",
      "[epoch: 66] [loss:  0.8096 ] val_loss: [val_loss  0.4139 ]\n",
      "[epoch: 67] [loss:  0.7078 ] val_loss: [val_loss  0.4069 ]\n",
      "[epoch: 68] [loss:  0.7289 ] val_loss: [val_loss  0.3989 ]\n",
      "[epoch: 69] [loss:  0.6396 ] val_loss: [val_loss  0.3892 ]\n",
      "[epoch: 70] [loss:  0.6522 ] val_loss: [val_loss  0.3808 ]\n",
      "[epoch: 71] [loss:  0.7981 ] val_loss: [val_loss  0.3729 ]\n",
      "[epoch: 72] [loss:  0.6095 ] val_loss: [val_loss  0.3660 ]\n",
      "[epoch: 73] [loss:  0.6217 ] val_loss: [val_loss  0.3608 ]\n",
      "[epoch: 74] [loss:  0.7025 ] val_loss: [val_loss  0.3559 ]\n",
      "[epoch: 75] [loss:  0.9953 ] val_loss: [val_loss  0.3511 ]\n",
      "[epoch: 76] [loss:  0.7824 ] val_loss: [val_loss  0.3457 ]\n",
      "[epoch: 77] [loss:  0.7127 ] val_loss: [val_loss  0.3405 ]\n",
      "[epoch: 78] [loss:  0.7356 ] val_loss: [val_loss  0.3357 ]\n",
      "[epoch: 79] [loss:  0.6900 ] val_loss: [val_loss  0.3312 ]\n",
      "[epoch: 80] [loss:  0.5642 ] val_loss: [val_loss  0.3267 ]\n",
      "[epoch: 81] [loss:  0.4129 ] val_loss: [val_loss  0.3230 ]\n",
      "[epoch: 82] [loss:  0.5312 ] val_loss: [val_loss  0.3199 ]\n",
      "[epoch: 83] [loss:  0.5968 ] val_loss: [val_loss  0.3161 ]\n",
      "[epoch: 84] [loss:  0.5281 ] val_loss: [val_loss  0.3095 ]\n",
      "[epoch: 85] [loss:  0.4696 ] val_loss: [val_loss  0.3024 ]\n",
      "[epoch: 86] [loss:  0.3978 ] val_loss: [val_loss  0.2959 ]\n",
      "[epoch: 87] [loss:  0.6267 ] val_loss: [val_loss  0.2898 ]\n",
      "[epoch: 88] [loss:  0.3379 ] val_loss: [val_loss  0.2842 ]\n",
      "[epoch: 89] [loss:  0.3826 ] val_loss: [val_loss  0.2784 ]\n",
      "[epoch: 90] [loss:  0.4972 ] val_loss: [val_loss  0.2723 ]\n",
      "[epoch: 91] [loss:  0.4489 ] val_loss: [val_loss  0.2667 ]\n",
      "[epoch: 92] [loss:  0.6037 ] val_loss: [val_loss  0.2609 ]\n",
      "[epoch: 93] [loss:  0.4863 ] val_loss: [val_loss  0.2552 ]\n",
      "[epoch: 94] [loss:  0.4329 ] val_loss: [val_loss  0.2502 ]\n",
      "[epoch: 95] [loss:  0.6477 ] val_loss: [val_loss  0.2456 ]\n",
      "[epoch: 96] [loss:  0.3944 ] val_loss: [val_loss  0.2407 ]\n",
      "[epoch: 97] [loss:  0.5029 ] val_loss: [val_loss  0.2361 ]\n",
      "[epoch: 98] [loss:  0.4228 ] val_loss: [val_loss  0.2320 ]\n",
      "[epoch: 99] [loss:  0.4401 ] val_loss: [val_loss  0.2282 ]\n",
      "[epoch: 100] [loss:  0.3039 ] val_loss: [val_loss  0.2248 ]\n",
      "[epoch: 101] [loss:  0.6015 ] val_loss: [val_loss  0.2228 ]\n",
      "[epoch: 102] [loss:  0.4437 ] val_loss: [val_loss  0.2231 ]\n",
      "[epoch: 103] [loss:  0.3792 ] val_loss: [val_loss  0.2230 ]\n",
      "[epoch: 104] [loss:  0.3826 ] val_loss: [val_loss  0.2236 ]\n",
      "[epoch: 105] [loss:  0.4570 ] val_loss: [val_loss  0.2194 ]\n",
      "[epoch: 106] [loss:  0.5464 ] val_loss: [val_loss  0.2117 ]\n",
      "[epoch: 107] [loss:  0.3347 ] val_loss: [val_loss  0.2008 ]\n",
      "[epoch: 108] [loss:  0.2335 ] val_loss: [val_loss  0.1934 ]\n",
      "[epoch: 109] [loss:  0.4519 ] val_loss: [val_loss  0.1894 ]\n",
      "[epoch: 110] [loss:  0.3931 ] val_loss: [val_loss  0.1858 ]\n",
      "[epoch: 111] [loss:  0.2708 ] val_loss: [val_loss  0.1818 ]\n",
      "[epoch: 112] [loss:  0.3985 ] val_loss: [val_loss  0.1775 ]\n",
      "[epoch: 113] [loss:  0.4386 ] val_loss: [val_loss  0.1747 ]\n",
      "[epoch: 114] [loss:  0.4728 ] val_loss: [val_loss  0.1755 ]\n",
      "[epoch: 115] [loss:  0.4210 ] val_loss: [val_loss  0.1784 ]\n",
      "[epoch: 116] [loss:  0.2512 ] val_loss: [val_loss  0.1816 ]\n",
      "[epoch: 117] [loss:  0.3237 ] val_loss: [val_loss  0.1829 ]\n",
      "[epoch: 118] [loss:  0.4538 ] val_loss: [val_loss  0.1757 ]\n",
      "[epoch: 119] [loss:  0.3794 ] val_loss: [val_loss  0.1636 ]\n",
      "[epoch: 120] [loss:  0.2014 ] val_loss: [val_loss  0.1525 ]\n",
      "[epoch: 121] [loss:  0.3049 ] val_loss: [val_loss  0.1422 ]\n",
      "[epoch: 122] [loss:  0.2585 ] val_loss: [val_loss  0.1324 ]\n",
      "[epoch: 123] [loss:  0.2882 ] val_loss: [val_loss  0.1253 ]\n",
      "[epoch: 124] [loss:  0.3742 ] val_loss: [val_loss  0.1193 ]\n",
      "[epoch: 125] [loss:  0.3723 ] val_loss: [val_loss  0.1144 ]\n",
      "[epoch: 126] [loss:  0.2831 ] val_loss: [val_loss  0.1104 ]\n",
      "[epoch: 127] [loss:  0.4138 ] val_loss: [val_loss  0.1071 ]\n",
      "[epoch: 128] [loss:  0.3260 ] val_loss: [val_loss  0.1035 ]\n",
      "[epoch: 129] [loss:  0.2203 ] val_loss: [val_loss  0.1001 ]\n",
      "[epoch: 130] [loss:  0.3426 ] val_loss: [val_loss  0.0969 ]\n",
      "[epoch: 131] [loss:  0.2502 ] val_loss: [val_loss  0.0924 ]\n",
      "[epoch: 132] [loss:  0.4030 ] val_loss: [val_loss  0.0879 ]\n",
      "[epoch: 133] [loss:  0.1799 ] val_loss: [val_loss  0.0839 ]\n",
      "[epoch: 134] [loss:  0.2966 ] val_loss: [val_loss  0.0808 ]\n",
      "[epoch: 135] [loss:  0.3920 ] val_loss: [val_loss  0.0777 ]\n",
      "[epoch: 136] [loss:  0.2304 ] val_loss: [val_loss  0.0751 ]\n",
      "[epoch: 137] [loss:  0.3158 ] val_loss: [val_loss  0.0731 ]\n",
      "[epoch: 138] [loss:  0.1867 ] val_loss: [val_loss  0.0715 ]\n",
      "[epoch: 139] [loss:  0.2335 ] val_loss: [val_loss  0.0704 ]\n"
     ]
    },
    {
     "name": "stdout",
     "output_type": "stream",
     "text": [
      "[epoch: 140] [loss:  0.1437 ] val_loss: [val_loss  0.0697 ]\n",
      "[epoch: 141] [loss:  0.1676 ] val_loss: [val_loss  0.0687 ]\n",
      "[epoch: 142] [loss:  0.3218 ] val_loss: [val_loss  0.0645 ]\n",
      "[epoch: 143] [loss:  0.1810 ] val_loss: [val_loss  0.0613 ]\n",
      "[epoch: 144] [loss:  0.2262 ] val_loss: [val_loss  0.0590 ]\n",
      "[epoch: 145] [loss:  0.3039 ] val_loss: [val_loss  0.0578 ]\n",
      "[epoch: 146] [loss:  0.3093 ] val_loss: [val_loss  0.0576 ]\n",
      "[epoch: 147] [loss:  0.2435 ] val_loss: [val_loss  0.0588 ]\n",
      "[epoch: 148] [loss:  0.2467 ] val_loss: [val_loss  0.0599 ]\n",
      "[epoch: 149] [loss:  0.2489 ] val_loss: [val_loss  0.0608 ]\n",
      "[epoch: 150] [loss:  0.3644 ] val_loss: [val_loss  0.0572 ]\n",
      "[epoch: 151] [loss:  0.2288 ] val_loss: [val_loss  0.0546 ]\n",
      "[epoch: 152] [loss:  0.1194 ] val_loss: [val_loss  0.0526 ]\n",
      "[epoch: 153] [loss:  0.2492 ] val_loss: [val_loss  0.0504 ]\n",
      "[epoch: 154] [loss:  0.4503 ] val_loss: [val_loss  0.0486 ]\n",
      "[epoch: 155] [loss:  0.2919 ] val_loss: [val_loss  0.0471 ]\n",
      "[epoch: 156] [loss:  0.2683 ] val_loss: [val_loss  0.0455 ]\n",
      "[epoch: 157] [loss:  0.3250 ] val_loss: [val_loss  0.0441 ]\n",
      "[epoch: 158] [loss:  0.1918 ] val_loss: [val_loss  0.0426 ]\n",
      "[epoch: 159] [loss:  0.1443 ] val_loss: [val_loss  0.0414 ]\n",
      "[epoch: 160] [loss:  0.2196 ] val_loss: [val_loss  0.0394 ]\n",
      "[epoch: 161] [loss:  0.1598 ] val_loss: [val_loss  0.0380 ]\n",
      "[epoch: 162] [loss:  0.1825 ] val_loss: [val_loss  0.0368 ]\n",
      "[epoch: 163] [loss:  0.1751 ] val_loss: [val_loss  0.0351 ]\n",
      "[epoch: 164] [loss:  0.2223 ] val_loss: [val_loss  0.0337 ]\n",
      "[epoch: 165] [loss:  0.2405 ] val_loss: [val_loss  0.0324 ]\n",
      "[epoch: 166] [loss:  0.1176 ] val_loss: [val_loss  0.0313 ]\n",
      "[epoch: 167] [loss:  0.2053 ] val_loss: [val_loss  0.0303 ]\n",
      "[epoch: 168] [loss:  0.1979 ] val_loss: [val_loss  0.0294 ]\n",
      "[epoch: 169] [loss:  0.1853 ] val_loss: [val_loss  0.0286 ]\n",
      "[epoch: 170] [loss:  0.1266 ] val_loss: [val_loss  0.0278 ]\n",
      "[epoch: 171] [loss:  0.4349 ] val_loss: [val_loss  0.0271 ]\n",
      "[epoch: 172] [loss:  0.1549 ] val_loss: [val_loss  0.0266 ]\n",
      "[epoch: 173] [loss:  0.1724 ] val_loss: [val_loss  0.0263 ]\n",
      "[epoch: 174] [loss:  0.1612 ] val_loss: [val_loss  0.0261 ]\n",
      "[epoch: 175] [loss:  0.2200 ] val_loss: [val_loss  0.0258 ]\n",
      "[epoch: 176] [loss:  0.1751 ] val_loss: [val_loss  0.0256 ]\n",
      "[epoch: 177] [loss:  0.1568 ] val_loss: [val_loss  0.0254 ]\n",
      "[epoch: 178] [loss:  0.1618 ] val_loss: [val_loss  0.0252 ]\n",
      "[epoch: 179] [loss:  0.1592 ] val_loss: [val_loss  0.0250 ]\n",
      "[epoch: 180] [loss:  0.1475 ] val_loss: [val_loss  0.0247 ]\n",
      "[epoch: 181] [loss:  0.1958 ] val_loss: [val_loss  0.0246 ]\n",
      "[epoch: 182] [loss:  0.2511 ] val_loss: [val_loss  0.0243 ]\n",
      "[epoch: 183] [loss:  0.0962 ] val_loss: [val_loss  0.0241 ]\n",
      "[epoch: 184] [loss:  0.1413 ] val_loss: [val_loss  0.0238 ]\n",
      "[epoch: 185] [loss:  0.2615 ] val_loss: [val_loss  0.0233 ]\n",
      "[epoch: 186] [loss:  0.2522 ] val_loss: [val_loss  0.0227 ]\n",
      "[epoch: 187] [loss:  0.1835 ] val_loss: [val_loss  0.0221 ]\n",
      "[epoch: 188] [loss:  0.1849 ] val_loss: [val_loss  0.0215 ]\n",
      "[epoch: 189] [loss:  0.1188 ] val_loss: [val_loss  0.0209 ]\n",
      "[epoch: 190] [loss:  0.1298 ] val_loss: [val_loss  0.0203 ]\n",
      "[epoch: 191] [loss:  0.1109 ] val_loss: [val_loss  0.0198 ]\n",
      "[epoch: 192] [loss:  0.1349 ] val_loss: [val_loss  0.0193 ]\n",
      "[epoch: 193] [loss:  0.1355 ] val_loss: [val_loss  0.0188 ]\n",
      "[epoch: 194] [loss:  0.1140 ] val_loss: [val_loss  0.0182 ]\n",
      "[epoch: 195] [loss:  0.0934 ] val_loss: [val_loss  0.0178 ]\n",
      "[epoch: 196] [loss:  0.1115 ] val_loss: [val_loss  0.0173 ]\n",
      "[epoch: 197] [loss:  0.1090 ] val_loss: [val_loss  0.0169 ]\n",
      "[epoch: 198] [loss:  0.0654 ] val_loss: [val_loss  0.0165 ]\n",
      "[epoch: 199] [loss:  0.1056 ] val_loss: [val_loss  0.0162 ]\n",
      "[epoch: 200] [loss:  0.0972 ] val_loss: [val_loss  0.0161 ]\n"
     ]
    }
   ],
   "source": [
    "\n",
    "#Overfitting the model\n",
    "trained_model = train_transformer(\n",
    "    model,\n",
    "    small_train_loader,\n",
    "    small_train_loader,\n",
    "    loss_func,\n",
    "    num_epochs=num_epochs,\n",
    "    lr=lr,\n",
    "    batch_size=BATCH_SIZE,\n",
    "    warmup_interval=warmup_interval,\n",
    "    device=DEVICE,\n",
    ")"
   ]
  },
  {
   "cell_type": "code",
   "execution_count": 41,
   "id": "21a3a5eb",
   "metadata": {
    "id": "21a3a5eb"
   },
   "outputs": [
    {
     "name": "stdout",
     "output_type": "stream",
     "text": [
      "Overfitted accuracy:  1.0000\n"
     ]
    }
   ],
   "source": [
    "#Overfitted accuracy\n",
    "print(\n",
    "    \"Overfitted accuracy: \",\n",
    "    \"{:.4f}\".format(\n",
    "        val_transformer(\n",
    "            trained_model,\n",
    "            small_train_loader,\n",
    "            CrossEntropyLoss,\n",
    "            batch_size=4,\n",
    "            device=DEVICE,\n",
    "        )[1]\n",
    "    ),\n",
    ")"
   ]
  },
  {
   "cell_type": "markdown",
   "id": "b43b5e66-7d96-49a7-8d73-649c1d8de2ef",
   "metadata": {
    "id": "b43b5e66-7d96-49a7-8d73-649c1d8de2ef"
   },
   "source": [
    "### Fitting the model using complete data"
   ]
  },
  {
   "cell_type": "markdown",
   "id": "3f3f4cfc-d267-436e-ae7a-36e3ab40e7c1",
   "metadata": {
    "id": "3f3f4cfc-d267-436e-ae7a-36e3ab40e7c1"
   },
   "source": [
    "Run the below cells to fit the model using the complete data. Keep in mind the various things you could experiment with here, losses, positional encodings, warm up routines and learning rates. You could also play with the size of the model but that will require more time to train on Colab.\n",
    "\n",
    "You should aim for final validation accuracy of ~80 percent.  "
   ]
  },
  {
   "cell_type": "code",
   "execution_count": 149,
   "id": "352896e6",
   "metadata": {
    "id": "352896e6"
   },
   "outputs": [],
   "source": [
    "import torch.optim as optim\n",
    "from transformers import Transformer, LabelSmoothingLoss, position_encoding_sinusoid, AddSubDataset\n",
    "\n",
    "inp_seq_len = 9\n",
    "out_seq_len = 5\n",
    "BATCH_SIZE = 256\n",
    "\n",
    "#You should change these!\n",
    "\n",
    "num_heads = 8\n",
    "emb_dim = 256\n",
    "dim_feedforward = 512\n",
    "dropout = 0.2\n",
    "num_enc_layers = 4\n",
    "num_dec_layers = 4\n",
    "vocab_len = len(vocab)\n",
    "loss_func = LabelSmoothingLoss\n",
    "poss_enc = position_encoding_sinusoid\n",
    "num_epochs = 300\n",
    "warmup_interval = True\n",
    "lr = 1e-4\n",
    "\n",
    "\n",
    "model = Transformer(\n",
    "    num_heads,\n",
    "    emb_dim,\n",
    "    dim_feedforward,\n",
    "    dropout,\n",
    "    num_enc_layers,\n",
    "    num_dec_layers,\n",
    "    vocab_len,\n",
    ")\n",
    "\n",
    "\n",
    "train_data = AddSubDataset(\n",
    "    X_train,\n",
    "    y_train,\n",
    "    convert_str_to_tokens,\n",
    "    SPECIAL_TOKENS,\n",
    "    emb_dim,\n",
    "    position_encoding_sinusoid,\n",
    ")\n",
    "valid_data = AddSubDataset(\n",
    "    X_test,\n",
    "    y_test,\n",
    "    convert_str_to_tokens,\n",
    "    SPECIAL_TOKENS,\n",
    "    emb_dim,\n",
    "    position_encoding_sinusoid,\n",
    ")\n",
    "\n",
    "train_loader = torch.utils.data.DataLoader(\n",
    "    train_data, batch_size=BATCH_SIZE, shuffle=True, drop_last=True\n",
    ")\n",
    "valid_loader = torch.utils.data.DataLoader(\n",
    "    valid_data, batch_size=BATCH_SIZE, shuffle=False, drop_last=True\n",
    ")"
   ]
  },
  {
   "cell_type": "code",
   "execution_count": 150,
   "id": "43bfb054",
   "metadata": {
    "id": "43bfb054",
    "scrolled": true
   },
   "outputs": [
    {
     "name": "stdout",
     "output_type": "stream",
     "text": [
      "Training started...\n",
      "End of warmup. Swapping learning rates from 6e-06 to 0.0001\n",
      "[epoch: 1] [loss:  3.0535 ] val_loss: [val_loss  2.3638 ]\n",
      "[epoch: 2] [loss:  2.6215 ] val_loss: [val_loss  2.0564 ]\n",
      "[epoch: 3] [loss:  2.2861 ] val_loss: [val_loss  2.0852 ]\n",
      "[epoch: 4] [loss:  2.1030 ] val_loss: [val_loss  1.7141 ]\n",
      "[epoch: 5] [loss:  1.9249 ] val_loss: [val_loss  1.6833 ]\n",
      "[epoch: 6] [loss:  1.8301 ] val_loss: [val_loss  1.6649 ]\n",
      "[epoch: 7] [loss:  1.7865 ] val_loss: [val_loss  1.6376 ]\n",
      "[epoch: 8] [loss:  1.7582 ] val_loss: [val_loss  1.6126 ]\n",
      "[epoch: 9] [loss:  1.7351 ] val_loss: [val_loss  1.5955 ]\n",
      "[epoch: 10] [loss:  1.7098 ] val_loss: [val_loss  1.5823 ]\n",
      "[epoch: 11] [loss:  1.6810 ] val_loss: [val_loss  1.5590 ]\n",
      "[epoch: 12] [loss:  1.6567 ] val_loss: [val_loss  1.5407 ]\n",
      "[epoch: 13] [loss:  1.6377 ] val_loss: [val_loss  1.5277 ]\n",
      "[epoch: 14] [loss:  1.6167 ] val_loss: [val_loss  1.5098 ]\n",
      "[epoch: 15] [loss:  1.5918 ] val_loss: [val_loss  1.4956 ]\n",
      "[epoch: 16] [loss:  1.5789 ] val_loss: [val_loss  1.4813 ]\n",
      "[epoch: 17] [loss:  1.5546 ] val_loss: [val_loss  1.4767 ]\n",
      "[epoch: 18] [loss:  1.5478 ] val_loss: [val_loss  1.4637 ]\n",
      "[epoch: 19] [loss:  1.5288 ] val_loss: [val_loss  1.4479 ]\n",
      "[epoch: 20] [loss:  1.5164 ] val_loss: [val_loss  1.4285 ]\n",
      "[epoch: 21] [loss:  1.4981 ] val_loss: [val_loss  1.4335 ]\n",
      "[epoch: 22] [loss:  1.4891 ] val_loss: [val_loss  1.4181 ]\n",
      "[epoch: 23] [loss:  1.4837 ] val_loss: [val_loss  1.4030 ]\n",
      "[epoch: 24] [loss:  1.4657 ] val_loss: [val_loss  1.3873 ]\n",
      "[epoch: 25] [loss:  1.4563 ] val_loss: [val_loss  1.3860 ]\n",
      "[epoch: 26] [loss:  1.4396 ] val_loss: [val_loss  1.3695 ]\n",
      "[epoch: 27] [loss:  1.4287 ] val_loss: [val_loss  1.3588 ]\n",
      "[epoch: 28] [loss:  1.4184 ] val_loss: [val_loss  1.3606 ]\n",
      "[epoch: 29] [loss:  1.4108 ] val_loss: [val_loss  1.3590 ]\n",
      "[epoch: 30] [loss:  1.3969 ] val_loss: [val_loss  1.3349 ]\n",
      "[epoch: 31] [loss:  1.3858 ] val_loss: [val_loss  1.3139 ]\n",
      "[epoch: 32] [loss:  1.3686 ] val_loss: [val_loss  1.2988 ]\n",
      "[epoch: 33] [loss:  1.3660 ] val_loss: [val_loss  1.3130 ]\n",
      "[epoch: 34] [loss:  1.3486 ] val_loss: [val_loss  1.2933 ]\n",
      "[epoch: 35] [loss:  1.3371 ] val_loss: [val_loss  1.2992 ]\n",
      "[epoch: 36] [loss:  1.3250 ] val_loss: [val_loss  1.2871 ]\n",
      "[epoch: 37] [loss:  1.3190 ] val_loss: [val_loss  1.3019 ]\n",
      "[epoch: 38] [loss:  1.3158 ] val_loss: [val_loss  1.2335 ]\n",
      "[epoch: 39] [loss:  1.3024 ] val_loss: [val_loss  1.2294 ]\n",
      "[epoch: 40] [loss:  1.2904 ] val_loss: [val_loss  1.2639 ]\n",
      "[epoch: 41] [loss:  1.2838 ] val_loss: [val_loss  1.2539 ]\n",
      "[epoch: 42] [loss:  1.2718 ] val_loss: [val_loss  1.2297 ]\n",
      "[epoch: 43] [loss:  1.2657 ] val_loss: [val_loss  1.2319 ]\n",
      "[epoch: 44] [loss:  1.2604 ] val_loss: [val_loss  1.1940 ]\n",
      "[epoch: 45] [loss:  1.2478 ] val_loss: [val_loss  1.2263 ]\n",
      "[epoch: 46] [loss:  1.2434 ] val_loss: [val_loss  1.2448 ]\n",
      "[epoch: 47] [loss:  1.2366 ] val_loss: [val_loss  1.2187 ]\n",
      "[epoch: 48] [loss:  1.2345 ] val_loss: [val_loss  1.2629 ]\n",
      "[epoch: 49] [loss:  1.2320 ] val_loss: [val_loss  1.2154 ]\n",
      "[epoch: 50] [loss:  1.2242 ] val_loss: [val_loss  1.1768 ]\n",
      "[epoch: 51] [loss:  1.2168 ] val_loss: [val_loss  1.2107 ]\n",
      "[epoch: 52] [loss:  1.2115 ] val_loss: [val_loss  1.1864 ]\n",
      "[epoch: 53] [loss:  1.2102 ] val_loss: [val_loss  1.1837 ]\n",
      "[epoch: 54] [loss:  1.2076 ] val_loss: [val_loss  1.1850 ]\n",
      "[epoch: 55] [loss:  1.1979 ] val_loss: [val_loss  1.1907 ]\n",
      "[epoch: 56] [loss:  1.1993 ] val_loss: [val_loss  1.1374 ]\n",
      "[epoch: 57] [loss:  1.1952 ] val_loss: [val_loss  1.2023 ]\n",
      "[epoch: 58] [loss:  1.1870 ] val_loss: [val_loss  1.1789 ]\n",
      "[epoch: 59] [loss:  1.1821 ] val_loss: [val_loss  1.1881 ]\n",
      "[epoch: 60] [loss:  1.1777 ] val_loss: [val_loss  1.1717 ]\n",
      "[epoch: 61] [loss:  1.1753 ] val_loss: [val_loss  1.2092 ]\n",
      "[epoch: 62] [loss:  1.1714 ] val_loss: [val_loss  1.1883 ]\n",
      "[epoch: 63] [loss:  1.1673 ] val_loss: [val_loss  1.1683 ]\n",
      "[epoch: 64] [loss:  1.1610 ] val_loss: [val_loss  1.1789 ]\n",
      "[epoch: 65] [loss:  1.1552 ] val_loss: [val_loss  1.1487 ]\n",
      "[epoch: 66] [loss:  1.1636 ] val_loss: [val_loss  1.2221 ]\n",
      "[epoch: 67] [loss:  1.1519 ] val_loss: [val_loss  1.1262 ]\n",
      "[epoch: 68] [loss:  1.1503 ] val_loss: [val_loss  1.1537 ]\n",
      "[epoch: 69] [loss:  1.1435 ] val_loss: [val_loss  1.1893 ]\n",
      "[epoch: 70] [loss:  1.1453 ] val_loss: [val_loss  1.1235 ]\n",
      "[epoch: 71] [loss:  1.1455 ] val_loss: [val_loss  1.1748 ]\n",
      "[epoch: 72] [loss:  1.1426 ] val_loss: [val_loss  1.1816 ]\n",
      "[epoch: 73] [loss:  1.1356 ] val_loss: [val_loss  1.1308 ]\n",
      "[epoch: 74] [loss:  1.1378 ] val_loss: [val_loss  1.1500 ]\n",
      "[epoch: 75] [loss:  1.1265 ] val_loss: [val_loss  1.0956 ]\n",
      "[epoch: 76] [loss:  1.1295 ] val_loss: [val_loss  1.1809 ]\n",
      "[epoch: 77] [loss:  1.1298 ] val_loss: [val_loss  1.1431 ]\n",
      "[epoch: 78] [loss:  1.1219 ] val_loss: [val_loss  1.1126 ]\n",
      "[epoch: 79] [loss:  1.1150 ] val_loss: [val_loss  1.1522 ]\n",
      "[epoch: 80] [loss:  1.1151 ] val_loss: [val_loss  1.1479 ]\n",
      "[epoch: 81] [loss:  1.1174 ] val_loss: [val_loss  1.1263 ]\n",
      "[epoch: 82] [loss:  1.1130 ] val_loss: [val_loss  1.1464 ]\n",
      "[epoch: 83] [loss:  1.1154 ] val_loss: [val_loss  1.1639 ]\n",
      "[epoch: 84] [loss:  1.1087 ] val_loss: [val_loss  1.1355 ]\n",
      "[epoch: 85] [loss:  1.1033 ] val_loss: [val_loss  1.1935 ]\n",
      "[epoch: 86] [loss:  1.1026 ] val_loss: [val_loss  1.0718 ]\n",
      "[epoch: 87] [loss:  1.1077 ] val_loss: [val_loss  1.1277 ]\n",
      "[epoch: 88] [loss:  1.1017 ] val_loss: [val_loss  1.0845 ]\n",
      "[epoch: 89] [loss:  1.0991 ] val_loss: [val_loss  1.1456 ]\n",
      "[epoch: 90] [loss:  1.0917 ] val_loss: [val_loss  1.1509 ]\n",
      "[epoch: 91] [loss:  1.0939 ] val_loss: [val_loss  1.1104 ]\n",
      "[epoch: 92] [loss:  1.0978 ] val_loss: [val_loss  1.1079 ]\n",
      "[epoch: 93] [loss:  1.0939 ] val_loss: [val_loss  1.0588 ]\n",
      "[epoch: 94] [loss:  1.0905 ] val_loss: [val_loss  1.1543 ]\n",
      "[epoch: 95] [loss:  1.0952 ] val_loss: [val_loss  1.1268 ]\n",
      "[epoch: 96] [loss:  1.0885 ] val_loss: [val_loss  1.0792 ]\n",
      "[epoch: 97] [loss:  1.0828 ] val_loss: [val_loss  1.1213 ]\n",
      "[epoch: 98] [loss:  1.0839 ] val_loss: [val_loss  1.0583 ]\n",
      "[epoch: 99] [loss:  1.0816 ] val_loss: [val_loss  1.1173 ]\n",
      "[epoch: 100] [loss:  1.0776 ] val_loss: [val_loss  1.1069 ]\n",
      "[epoch: 101] [loss:  1.0751 ] val_loss: [val_loss  1.1026 ]\n",
      "[epoch: 102] [loss:  1.0809 ] val_loss: [val_loss  1.0643 ]\n",
      "[epoch: 103] [loss:  1.0690 ] val_loss: [val_loss  1.1217 ]\n",
      "[epoch: 104] [loss:  1.0811 ] val_loss: [val_loss  1.0831 ]\n",
      "[epoch: 105] [loss:  1.0694 ] val_loss: [val_loss  1.1296 ]\n",
      "[epoch: 106] [loss:  1.0756 ] val_loss: [val_loss  1.0797 ]\n",
      "[epoch: 107] [loss:  1.0660 ] val_loss: [val_loss  1.0649 ]\n",
      "[epoch: 108] [loss:  1.0666 ] val_loss: [val_loss  1.1641 ]\n",
      "[epoch: 109] [loss:  1.0771 ] val_loss: [val_loss  1.0520 ]\n",
      "[epoch: 110] [loss:  1.0643 ] val_loss: [val_loss  1.0653 ]\n",
      "[epoch: 111] [loss:  1.0627 ] val_loss: [val_loss  1.0536 ]\n",
      "[epoch: 112] [loss:  1.0756 ] val_loss: [val_loss  1.0062 ]\n",
      "[epoch: 113] [loss:  1.0552 ] val_loss: [val_loss  1.0660 ]\n",
      "[epoch: 114] [loss:  1.0564 ] val_loss: [val_loss  1.0829 ]\n",
      "[epoch: 115] [loss:  1.0637 ] val_loss: [val_loss  1.0573 ]\n",
      "[epoch: 116] [loss:  1.0559 ] val_loss: [val_loss  1.0691 ]\n",
      "[epoch: 117] [loss:  1.0499 ] val_loss: [val_loss  1.0796 ]\n",
      "[epoch: 118] [loss:  1.0483 ] val_loss: [val_loss  1.0899 ]\n",
      "[epoch: 119] [loss:  1.0499 ] val_loss: [val_loss  1.1304 ]\n",
      "[epoch: 120] [loss:  1.0549 ] val_loss: [val_loss  1.0763 ]\n",
      "[epoch: 121] [loss:  1.0425 ] val_loss: [val_loss  1.0336 ]\n",
      "[epoch: 122] [loss:  1.0450 ] val_loss: [val_loss  1.0517 ]\n",
      "[epoch: 123] [loss:  1.0480 ] val_loss: [val_loss  1.0285 ]\n",
      "[epoch: 124] [loss:  1.0486 ] val_loss: [val_loss  1.0315 ]\n",
      "[epoch: 125] [loss:  1.0485 ] val_loss: [val_loss  1.0183 ]\n",
      "[epoch: 126] [loss:  1.0432 ] val_loss: [val_loss  1.0775 ]\n",
      "[epoch: 127] [loss:  1.0417 ] val_loss: [val_loss  0.9988 ]\n",
      "[epoch: 128] [loss:  1.0460 ] val_loss: [val_loss  1.0908 ]\n",
      "[epoch: 129] [loss:  1.0413 ] val_loss: [val_loss  1.0602 ]\n",
      "[epoch: 130] [loss:  1.0370 ] val_loss: [val_loss  1.0021 ]\n",
      "[epoch: 131] [loss:  1.0373 ] val_loss: [val_loss  1.0295 ]\n",
      "[epoch: 132] [loss:  1.0359 ] val_loss: [val_loss  1.0600 ]\n",
      "[epoch: 133] [loss:  1.0374 ] val_loss: [val_loss  0.9968 ]\n",
      "[epoch: 134] [loss:  1.0423 ] val_loss: [val_loss  1.0398 ]\n",
      "[epoch: 135] [loss:  1.0331 ] val_loss: [val_loss  1.0253 ]\n",
      "[epoch: 136] [loss:  1.0338 ] val_loss: [val_loss  0.9962 ]\n",
      "[epoch: 137] [loss:  1.0307 ] val_loss: [val_loss  0.9848 ]\n",
      "[epoch: 138] [loss:  1.0308 ] val_loss: [val_loss  1.0480 ]\n",
      "[epoch: 139] [loss:  1.0285 ] val_loss: [val_loss  1.0461 ]\n",
      "[epoch: 140] [loss:  1.0264 ] val_loss: [val_loss  1.0041 ]\n",
      "[epoch: 141] [loss:  1.0303 ] val_loss: [val_loss  1.0239 ]\n",
      "[epoch: 142] [loss:  1.0304 ] val_loss: [val_loss  0.9866 ]\n",
      "[epoch: 143] [loss:  1.0315 ] val_loss: [val_loss  1.0383 ]\n",
      "[epoch: 144] [loss:  1.0298 ] val_loss: [val_loss  0.9715 ]\n",
      "[epoch: 145] [loss:  1.0210 ] val_loss: [val_loss  1.0169 ]\n",
      "[epoch: 146] [loss:  1.0202 ] val_loss: [val_loss  0.9868 ]\n",
      "[epoch: 147] [loss:  1.0305 ] val_loss: [val_loss  1.0601 ]\n",
      "[epoch: 148] [loss:  1.0317 ] val_loss: [val_loss  0.9762 ]\n",
      "[epoch: 149] [loss:  1.0261 ] val_loss: [val_loss  1.0479 ]\n",
      "[epoch: 150] [loss:  1.0220 ] val_loss: [val_loss  0.9999 ]\n",
      "[epoch: 151] [loss:  1.0191 ] val_loss: [val_loss  1.0291 ]\n",
      "[epoch: 152] [loss:  1.0191 ] val_loss: [val_loss  0.9815 ]\n",
      "[epoch: 153] [loss:  1.0185 ] val_loss: [val_loss  1.0392 ]\n",
      "[epoch: 154] [loss:  1.0157 ] val_loss: [val_loss  1.0194 ]\n",
      "[epoch: 155] [loss:  1.0089 ] val_loss: [val_loss  1.0042 ]\n",
      "[epoch: 156] [loss:  1.0145 ] val_loss: [val_loss  0.9758 ]\n",
      "[epoch: 157] [loss:  1.0160 ] val_loss: [val_loss  1.0107 ]\n",
      "[epoch: 158] [loss:  1.0100 ] val_loss: [val_loss  0.9980 ]\n",
      "[epoch: 159] [loss:  1.0142 ] val_loss: [val_loss  1.0188 ]\n",
      "[epoch: 160] [loss:  1.0147 ] val_loss: [val_loss  0.9788 ]\n",
      "[epoch: 161] [loss:  1.0077 ] val_loss: [val_loss  0.9734 ]\n",
      "[epoch: 162] [loss:  1.0167 ] val_loss: [val_loss  0.9809 ]\n",
      "[epoch: 163] [loss:  1.0071 ] val_loss: [val_loss  0.9879 ]\n",
      "[epoch: 164] [loss:  1.0053 ] val_loss: [val_loss  1.0129 ]\n",
      "[epoch: 165] [loss:  1.0078 ] val_loss: [val_loss  0.9988 ]\n",
      "[epoch: 166] [loss:  1.0127 ] val_loss: [val_loss  0.9928 ]\n",
      "[epoch: 167] [loss:  1.0065 ] val_loss: [val_loss  1.0254 ]\n",
      "[epoch: 168] [loss:  1.0057 ] val_loss: [val_loss  0.9968 ]\n",
      "[epoch: 169] [loss:  1.0024 ] val_loss: [val_loss  0.9726 ]\n",
      "[epoch: 170] [loss:  1.0066 ] val_loss: [val_loss  0.9535 ]\n",
      "[epoch: 171] [loss:  1.0041 ] val_loss: [val_loss  1.0308 ]\n",
      "[epoch: 172] [loss:  1.0046 ] val_loss: [val_loss  0.9515 ]\n",
      "[epoch: 173] [loss:  0.9988 ] val_loss: [val_loss  1.0183 ]\n",
      "[epoch: 174] [loss:  1.0006 ] val_loss: [val_loss  1.0049 ]\n",
      "[epoch: 175] [loss:  1.0083 ] val_loss: [val_loss  1.0007 ]\n",
      "[epoch: 176] [loss:  1.0046 ] val_loss: [val_loss  0.9712 ]\n",
      "[epoch: 177] [loss:  1.0003 ] val_loss: [val_loss  1.0094 ]\n",
      "[epoch: 178] [loss:  0.9969 ] val_loss: [val_loss  0.9594 ]\n",
      "[epoch: 179] [loss:  0.9978 ] val_loss: [val_loss  0.9912 ]\n",
      "[epoch: 180] [loss:  0.9974 ] val_loss: [val_loss  0.9556 ]\n",
      "[epoch: 181] [loss:  1.0019 ] val_loss: [val_loss  0.9564 ]\n",
      "[epoch: 182] [loss:  0.9930 ] val_loss: [val_loss  0.9294 ]\n",
      "[epoch: 183] [loss:  0.9913 ] val_loss: [val_loss  0.9406 ]\n",
      "[epoch: 184] [loss:  0.9985 ] val_loss: [val_loss  1.0146 ]\n",
      "[epoch: 185] [loss:  1.0003 ] val_loss: [val_loss  0.9490 ]\n",
      "[epoch: 186] [loss:  0.9968 ] val_loss: [val_loss  0.9631 ]\n",
      "[epoch: 187] [loss:  0.9937 ] val_loss: [val_loss  0.9482 ]\n",
      "[epoch: 188] [loss:  0.9911 ] val_loss: [val_loss  1.0191 ]\n",
      "[epoch: 189] [loss:  0.9888 ] val_loss: [val_loss  0.9546 ]\n",
      "[epoch: 190] [loss:  0.9916 ] val_loss: [val_loss  0.9601 ]\n",
      "[epoch: 191] [loss:  0.9842 ] val_loss: [val_loss  0.9344 ]\n",
      "[epoch: 192] [loss:  0.9930 ] val_loss: [val_loss  0.9918 ]\n",
      "[epoch: 193] [loss:  0.9948 ] val_loss: [val_loss  0.9147 ]\n",
      "[epoch: 194] [loss:  0.9949 ] val_loss: [val_loss  1.0181 ]\n",
      "[epoch: 195] [loss:  0.9942 ] val_loss: [val_loss  0.9444 ]\n",
      "[epoch: 196] [loss:  0.9887 ] val_loss: [val_loss  0.9810 ]\n",
      "[epoch: 197] [loss:  0.9835 ] val_loss: [val_loss  0.9431 ]\n",
      "[epoch: 198] [loss:  0.9935 ] val_loss: [val_loss  1.0865 ]\n",
      "[epoch: 199] [loss:  0.9932 ] val_loss: [val_loss  0.9689 ]\n",
      "[epoch: 200] [loss:  0.9871 ] val_loss: [val_loss  0.9647 ]\n",
      "[epoch: 201] [loss:  0.9794 ] val_loss: [val_loss  0.9379 ]\n",
      "[epoch: 202] [loss:  0.9793 ] val_loss: [val_loss  0.9440 ]\n",
      "[epoch: 203] [loss:  0.9826 ] val_loss: [val_loss  0.9127 ]\n",
      "[epoch: 204] [loss:  0.9825 ] val_loss: [val_loss  0.9711 ]\n",
      "[epoch: 205] [loss:  0.9805 ] val_loss: [val_loss  0.9483 ]\n",
      "[epoch: 206] [loss:  0.9830 ] val_loss: [val_loss  1.0019 ]\n",
      "[epoch: 207] [loss:  0.9804 ] val_loss: [val_loss  0.9135 ]\n",
      "[epoch: 208] [loss:  0.9802 ] val_loss: [val_loss  0.9169 ]\n",
      "[epoch: 209] [loss:  0.9830 ] val_loss: [val_loss  1.0772 ]\n",
      "[epoch: 210] [loss:  0.9790 ] val_loss: [val_loss  0.9442 ]\n",
      "[epoch: 211] [loss:  0.9829 ] val_loss: [val_loss  0.9829 ]\n",
      "[epoch: 212] [loss:  0.9799 ] val_loss: [val_loss  0.9180 ]\n",
      "[epoch: 213] [loss:  0.9784 ] val_loss: [val_loss  0.9546 ]\n",
      "[epoch: 214] [loss:  0.9732 ] val_loss: [val_loss  0.9497 ]\n",
      "[epoch: 215] [loss:  0.9772 ] val_loss: [val_loss  0.9235 ]\n",
      "[epoch: 216] [loss:  0.9757 ] val_loss: [val_loss  0.9517 ]\n",
      "[epoch: 217] [loss:  0.9730 ] val_loss: [val_loss  0.9522 ]\n",
      "[epoch: 218] [loss:  0.9729 ] val_loss: [val_loss  0.9600 ]\n",
      "[epoch: 219] [loss:  0.9740 ] val_loss: [val_loss  0.9330 ]\n",
      "[epoch: 220] [loss:  0.9722 ] val_loss: [val_loss  0.9885 ]\n",
      "[epoch: 221] [loss:  0.9771 ] val_loss: [val_loss  0.9108 ]\n",
      "[epoch: 222] [loss:  0.9769 ] val_loss: [val_loss  0.9661 ]\n",
      "[epoch: 223] [loss:  0.9742 ] val_loss: [val_loss  0.9428 ]\n",
      "[epoch: 224] [loss:  0.9729 ] val_loss: [val_loss  0.9440 ]\n",
      "[epoch: 225] [loss:  0.9724 ] val_loss: [val_loss  0.9642 ]\n",
      "[epoch: 226] [loss:  0.9680 ] val_loss: [val_loss  0.9382 ]\n",
      "[epoch: 227] [loss:  0.9705 ] val_loss: [val_loss  0.8978 ]\n",
      "[epoch: 228] [loss:  0.9774 ] val_loss: [val_loss  1.0118 ]\n",
      "[epoch: 229] [loss:  0.9802 ] val_loss: [val_loss  0.8829 ]\n",
      "[epoch: 230] [loss:  0.9759 ] val_loss: [val_loss  1.0027 ]\n",
      "[epoch: 231] [loss:  0.9737 ] val_loss: [val_loss  0.9635 ]\n",
      "[epoch: 232] [loss:  0.9637 ] val_loss: [val_loss  0.9556 ]\n",
      "[epoch: 233] [loss:  0.9692 ] val_loss: [val_loss  0.9451 ]\n",
      "[epoch: 234] [loss:  0.9711 ] val_loss: [val_loss  0.9045 ]\n",
      "[epoch: 235] [loss:  0.9653 ] val_loss: [val_loss  0.9133 ]\n",
      "[epoch: 236] [loss:  0.9705 ] val_loss: [val_loss  0.9511 ]\n",
      "[epoch: 237] [loss:  0.9680 ] val_loss: [val_loss  0.9366 ]\n",
      "[epoch: 238] [loss:  0.9723 ] val_loss: [val_loss  0.9444 ]\n",
      "[epoch: 239] [loss:  0.9676 ] val_loss: [val_loss  0.9463 ]\n",
      "[epoch: 240] [loss:  0.9647 ] val_loss: [val_loss  0.9165 ]\n",
      "[epoch: 241] [loss:  0.9645 ] val_loss: [val_loss  0.9155 ]\n",
      "[epoch: 242] [loss:  0.9687 ] val_loss: [val_loss  0.9581 ]\n",
      "[epoch: 243] [loss:  0.9682 ] val_loss: [val_loss  0.9183 ]\n",
      "[epoch: 244] [loss:  0.9631 ] val_loss: [val_loss  0.9492 ]\n",
      "[epoch: 245] [loss:  0.9545 ] val_loss: [val_loss  0.9305 ]\n",
      "[epoch: 246] [loss:  0.9600 ] val_loss: [val_loss  0.9810 ]\n",
      "[epoch: 247] [loss:  0.9616 ] val_loss: [val_loss  0.9267 ]\n",
      "[epoch: 248] [loss:  0.9593 ] val_loss: [val_loss  0.9032 ]\n",
      "[epoch: 249] [loss:  0.9648 ] val_loss: [val_loss  0.9803 ]\n",
      "[epoch: 250] [loss:  0.9585 ] val_loss: [val_loss  0.8961 ]\n",
      "[epoch: 251] [loss:  0.9601 ] val_loss: [val_loss  0.9632 ]\n",
      "[epoch: 252] [loss:  0.9595 ] val_loss: [val_loss  0.9325 ]\n",
      "[epoch: 253] [loss:  0.9582 ] val_loss: [val_loss  0.9553 ]\n",
      "[epoch: 254] [loss:  0.9573 ] val_loss: [val_loss  0.9422 ]\n",
      "[epoch: 255] [loss:  0.9556 ] val_loss: [val_loss  0.9151 ]\n",
      "[epoch: 256] [loss:  0.9664 ] val_loss: [val_loss  0.9440 ]\n",
      "[epoch: 257] [loss:  0.9601 ] val_loss: [val_loss  0.9050 ]\n",
      "[epoch: 258] [loss:  0.9584 ] val_loss: [val_loss  0.9025 ]\n",
      "[epoch: 259] [loss:  0.9562 ] val_loss: [val_loss  0.9659 ]\n",
      "[epoch: 260] [loss:  0.9557 ] val_loss: [val_loss  0.8868 ]\n",
      "[epoch: 261] [loss:  0.9673 ] val_loss: [val_loss  0.9220 ]\n",
      "[epoch: 262] [loss:  0.9653 ] val_loss: [val_loss  0.9619 ]\n",
      "[epoch: 263] [loss:  0.9673 ] val_loss: [val_loss  0.9006 ]\n",
      "[epoch: 264] [loss:  0.9600 ] val_loss: [val_loss  0.9159 ]\n",
      "[epoch: 265] [loss:  0.9570 ] val_loss: [val_loss  0.9555 ]\n",
      "[epoch: 266] [loss:  0.9542 ] val_loss: [val_loss  0.9339 ]\n",
      "[epoch: 267] [loss:  0.9473 ] val_loss: [val_loss  0.8877 ]\n",
      "[epoch: 268] [loss:  0.9531 ] val_loss: [val_loss  0.9432 ]\n",
      "[epoch: 269] [loss:  0.9480 ] val_loss: [val_loss  0.9327 ]\n",
      "[epoch: 270] [loss:  0.9560 ] val_loss: [val_loss  0.9184 ]\n",
      "[epoch: 271] [loss:  0.9548 ] val_loss: [val_loss  0.9557 ]\n",
      "[epoch: 272] [loss:  0.9551 ] val_loss: [val_loss  0.9274 ]\n",
      "[epoch: 273] [loss:  0.9521 ] val_loss: [val_loss  0.9189 ]\n",
      "[epoch: 274] [loss:  0.9524 ] val_loss: [val_loss  0.9060 ]\n",
      "[epoch: 275] [loss:  0.9580 ] val_loss: [val_loss  0.8852 ]\n",
      "[epoch: 276] [loss:  0.9483 ] val_loss: [val_loss  0.9124 ]\n",
      "[epoch: 277] [loss:  0.9560 ] val_loss: [val_loss  0.8962 ]\n",
      "[epoch: 278] [loss:  0.9463 ] val_loss: [val_loss  0.9049 ]\n",
      "[epoch: 279] [loss:  0.9480 ] val_loss: [val_loss  0.9052 ]\n",
      "[epoch: 280] [loss:  0.9572 ] val_loss: [val_loss  0.9358 ]\n",
      "[epoch: 281] [loss:  0.9523 ] val_loss: [val_loss  0.9127 ]\n",
      "[epoch: 282] [loss:  0.9535 ] val_loss: [val_loss  0.9237 ]\n",
      "[epoch: 283] [loss:  0.9512 ] val_loss: [val_loss  0.8995 ]\n",
      "[epoch: 284] [loss:  0.9506 ] val_loss: [val_loss  0.9017 ]\n",
      "[epoch: 285] [loss:  0.9461 ] val_loss: [val_loss  0.9161 ]\n",
      "[epoch: 286] [loss:  0.9466 ] val_loss: [val_loss  0.8913 ]\n",
      "[epoch: 287] [loss:  0.9490 ] val_loss: [val_loss  0.9144 ]\n",
      "[epoch: 288] [loss:  0.9453 ] val_loss: [val_loss  0.9305 ]\n",
      "[epoch: 289] [loss:  0.9444 ] val_loss: [val_loss  0.9155 ]\n",
      "[epoch: 290] [loss:  0.9443 ] val_loss: [val_loss  0.9035 ]\n",
      "[epoch: 291] [loss:  0.9421 ] val_loss: [val_loss  0.9220 ]\n",
      "[epoch: 292] [loss:  0.9534 ] val_loss: [val_loss  0.9060 ]\n",
      "[epoch: 293] [loss:  0.9465 ] val_loss: [val_loss  0.8841 ]\n",
      "[epoch: 294] [loss:  0.9442 ] val_loss: [val_loss  0.9159 ]\n",
      "[epoch: 295] [loss:  0.9399 ] val_loss: [val_loss  0.8902 ]\n",
      "[epoch: 296] [loss:  0.9365 ] val_loss: [val_loss  0.9007 ]\n",
      "[epoch: 297] [loss:  0.9360 ] val_loss: [val_loss  0.8937 ]\n",
      "[epoch: 298] [loss:  0.9407 ] val_loss: [val_loss  0.9047 ]\n",
      "[epoch: 299] [loss:  0.9388 ] val_loss: [val_loss  0.9359 ]\n",
      "[epoch: 300] [loss:  0.9430 ] val_loss: [val_loss  0.8724 ]\n"
     ]
    }
   ],
   "source": [
    "#Training the model with complete data\n",
    "trained_model = train_transformer(\n",
    "    model,\n",
    "    train_loader,\n",
    "    valid_loader,\n",
    "    loss_func,\n",
    "    num_epochs,\n",
    "    lr = lr,\n",
    "    batch_size=BATCH_SIZE,\n",
    "    warmup_interval=warmup_interval,\n",
    "    device=DEVICE\n",
    ")\n",
    "weights_path = \"transformer.pt\"\n",
    "torch.save(trained_model.state_dict(), weights_path)"
   ]
  },
  {
   "cell_type": "markdown",
   "id": "345b9bae",
   "metadata": {
    "id": "345b9bae"
   },
   "source": [
    "Run the cell below to get the accuracy on the validation dataset."
   ]
  },
  {
   "cell_type": "code",
   "execution_count": 151,
   "id": "0ad70d5b",
   "metadata": {
    "id": "0ad70d5b"
   },
   "outputs": [
    {
     "name": "stdout",
     "output_type": "stream",
     "text": [
      "Final Model accuracy:  0.8486\n"
     ]
    }
   ],
   "source": [
    "#Final validation accuracy\n",
    "print(\n",
    "    \"Final Model accuracy: \",\n",
    "    \"{:.4f}\".format(\n",
    "        val_transformer(\n",
    "            trained_model, valid_loader, LabelSmoothingLoss, 4, device=DEVICE\n",
    "        )[1]\n",
    "    ),\n",
    ")"
   ]
  },
  {
   "cell_type": "markdown",
   "id": "c19615d0-9b82-42ac-ba28-e079ca96aed2",
   "metadata": {
    "id": "c19615d0-9b82-42ac-ba28-e079ca96aed2"
   },
   "source": [
    "## Visualize and Inference: Model in action"
   ]
  },
  {
   "cell_type": "markdown",
   "id": "3f413c17-ede5-4d4d-a1fa-54458ca948c5",
   "metadata": {
    "id": "3f413c17-ede5-4d4d-a1fa-54458ca948c5"
   },
   "source": [
    "Now that we have trained a model, lets look at the final results. We will first look at the results from the validation data and visualize the attention weights (remember the self.weights_softmax?). These attention weights should give you some intuition about what the network learns. We have implemented everything for you here and the intention is to help you probe the model and understand about what does the network learn."
   ]
  },
  {
   "cell_type": "code",
   "execution_count": 152,
   "id": "c39117ef-da8b-4fb0-904b-c5c4c37fc800",
   "metadata": {
    "id": "c39117ef-da8b-4fb0-904b-c5c4c37fc800"
   },
   "outputs": [],
   "source": [
    "import seaborn\n",
    "from a5_helper import inference"
   ]
  },
  {
   "cell_type": "markdown",
   "id": "137296b8-8ab8-4f9d-bff5-e2584370a757",
   "metadata": {
    "id": "137296b8-8ab8-4f9d-bff5-e2584370a757"
   },
   "source": [
    "### Results from the validation data\n",
    "\n",
    "In the below cell we pick the very first data point in the validation data and find the result on it"
   ]
  },
  {
   "cell_type": "code",
   "execution_count": 191,
   "id": "37c01cc4-96b0-4a4e-a820-64e5c2dd5549",
   "metadata": {
    "id": "37c01cc4-96b0-4a4e-a820-64e5c2dd5549"
   },
   "outputs": [
    {
     "name": "stdout",
     "output_type": "stream",
     "text": [
      "Input sequence: \n",
      " BOS POSITIVE 26 add NEGATIVE 33 EOS\n"
     ]
    }
   ],
   "source": [
    "for it in valid_loader:\n",
    "    it\n",
    "    break\n",
    "inp, inp_pos, out, out_pos = it\n",
    "opposite_tokens_to_str = {v: k for k, v in convert_str_to_tokens.items()}\n",
    "device = torch.device(\"cuda\")\n",
    "model = model.to(device)\n",
    "inp_pos = inp_pos.to(device)\n",
    "out_pos = out_pos.to(device)\n",
    "out = out.to(device)\n",
    "inp = inp.to(device)\n",
    "\n",
    "inp_exp = inp[102:103, :]\n",
    "inp_exp_pos = inp_pos[:1]\n",
    "out_pos_exp = out_pos[:1, :]\n",
    "inp_seq = [opposite_tokens_to_str[w.item()] for w in inp_exp[0]]\n",
    "print(\n",
    "    \"Input sequence: \\n\",\n",
    "    inp_seq[0]\n",
    "    + \" \"\n",
    "    + inp_seq[1]\n",
    "    + \" \"\n",
    "    + inp_seq[2]\n",
    "    + inp_seq[3]\n",
    "    + \" \"\n",
    "    + inp_seq[4]\n",
    "    + \" \"\n",
    "    + inp_seq[5]\n",
    "    + \" \"\n",
    "    + inp_seq[6]\n",
    "    + inp_seq[7]\n",
    "    + \" \"\n",
    "    + inp_seq[8],\n",
    ")"
   ]
  },
  {
   "cell_type": "code",
   "execution_count": 192,
   "id": "ab535f1d-3be0-40ef-a0fd-8fca2fae2414",
   "metadata": {
    "id": "ab535f1d-3be0-40ef-a0fd-8fca2fae2414"
   },
   "outputs": [
    {
     "name": "stdout",
     "output_type": "stream",
     "text": [
      "Output Sequence:\tBOS NEGATIVE 0 7 \n"
     ]
    }
   ],
   "source": [
    "out_seq_ans, _ = inference(\n",
    "    trained_model, inp_exp, inp_exp_pos, out_pos_exp, out_seq_len\n",
    ")\n",
    "\n",
    "trained_model.eval()\n",
    "\n",
    "print(\"Output Sequence:\", end=\"\\t\")\n",
    "res = \"BOS \"\n",
    "for i in range(1, out_seq_ans.size(1)):\n",
    "    sym = opposite_tokens_to_str[out_seq_ans[0, i].item()]\n",
    "    if sym == \"EOS\":\n",
    "        break\n",
    "    res += sym + \" \"\n",
    "print(res)"
   ]
  },
  {
   "cell_type": "markdown",
   "id": "3412c073-d239-450a-aa46-9ec3d61309a6",
   "metadata": {
    "id": "3412c073-d239-450a-aa46-9ec3d61309a6"
   },
   "source": [
    "### Pick your own proboing example\n",
    "\n",
    "In the cell below, you could feed in an example in the input style, changing the variable `custom_seq`. We have filled a placeholder expression for you, but feel free to change it."
   ]
  },
  {
   "cell_type": "code",
   "execution_count": 138,
   "id": "d7d2f3b1-ba94-4ccf-84e3-f3238059f25d",
   "metadata": {
    "id": "d7d2f3b1-ba94-4ccf-84e3-f3238059f25d"
   },
   "outputs": [],
   "source": [
    "custom_seq = \"BOS POSITIVE 12 add NEGATIVE 02 EOS\""
   ]
  },
  {
   "cell_type": "code",
   "execution_count": 139,
   "id": "3caa768d-f61f-4ee4-8e87-259043e93cdb",
   "metadata": {
    "id": "3caa768d-f61f-4ee4-8e87-259043e93cdb"
   },
   "outputs": [
    {
     "name": "stdout",
     "output_type": "stream",
     "text": [
      "Output Sequence:\tBOS POSITIVE 0 \n"
     ]
    }
   ],
   "source": [
    "out = prepocess_input_sequence(custom_seq, convert_str_to_tokens, SPECIAL_TOKENS)\n",
    "inp_exp = torch.tensor(out).to(DEVICE)\n",
    "\n",
    "out_seq_ans, model_for_visv = inference(\n",
    "    trained_model, inp_exp, inp_exp_pos, out_pos_exp, out_seq_len\n",
    ")\n",
    "\n",
    "trained_model.eval()\n",
    "\n",
    "print(\"Output Sequence:\", end=\"\\t\")\n",
    "res = \"BOS \"\n",
    "for i in range(1, out_seq_ans.size(1)):\n",
    "    sym = opposite_tokens_to_str[out_seq_ans[0, i].item()]\n",
    "    if sym == \"EOS\":\n",
    "        break\n",
    "    res += sym + \" \"\n",
    "print(res)"
   ]
  },
  {
   "cell_type": "markdown",
   "id": "0b9ae8cd-2813-4845-a4df-d47ebdc60971",
   "metadata": {
    "id": "0b9ae8cd-2813-4845-a4df-d47ebdc60971"
   },
   "source": [
    "### Visualize the attention weights\n",
    "\n",
    "In this part we will visualize the attention weights for the specific custom input you fed as input. There are seperate heatmaps for encoder and the decoder. The ligher value in color shows higher associated between the token present in that row and column, and darker color shows a weak relation between them"
   ]
  },
  {
   "cell_type": "code",
   "execution_count": 140,
   "id": "8e82ff56-d55b-45b7-8507-514ee5968ed5",
   "metadata": {
    "id": "8e82ff56-d55b-45b7-8507-514ee5968ed5"
   },
   "outputs": [],
   "source": [
    "from a5_helper import draw\n",
    "import seaborn"
   ]
  },
  {
   "cell_type": "code",
   "execution_count": 141,
   "id": "db22789f",
   "metadata": {
    "id": "db22789f"
   },
   "outputs": [],
   "source": [
    "target_exp = res.split()"
   ]
  },
  {
   "cell_type": "code",
   "execution_count": 142,
   "id": "9cae7e26-2587-4297-a44c-c59ab541dfc8",
   "metadata": {
    "id": "9cae7e26-2587-4297-a44c-c59ab541dfc8"
   },
   "outputs": [
    {
     "name": "stdout",
     "output_type": "stream",
     "text": [
      "Encoder Block Number 1\n"
     ]
    },
    {
     "ename": "AttributeError",
     "evalue": "'EncoderBlock' object has no attribute 'MultiHeadBlock'",
     "output_type": "error",
     "traceback": [
      "\u001b[1;31m---------------------------------------------------------------------------\u001b[0m",
      "\u001b[1;31mAttributeError\u001b[0m                            Traceback (most recent call last)",
      "Cell \u001b[1;32mIn[142], line 7\u001b[0m\n\u001b[0;32m      3\u001b[0m     \u001b[38;5;28mprint\u001b[39m(\u001b[38;5;124m\"\u001b[39m\u001b[38;5;124mEncoder Block Number\u001b[39m\u001b[38;5;124m\"\u001b[39m, layer \u001b[38;5;241m+\u001b[39m \u001b[38;5;241m1\u001b[39m)\n\u001b[0;32m      4\u001b[0m     \u001b[38;5;28;01mfor\u001b[39;00m h \u001b[38;5;129;01min\u001b[39;00m \u001b[38;5;28mrange\u001b[39m(num_heads):\n\u001b[0;32m      5\u001b[0m         draw(\n\u001b[0;32m      6\u001b[0m             trained_model\u001b[38;5;241m.\u001b[39mencoder\u001b[38;5;241m.\u001b[39mlayers[layer]\n\u001b[1;32m----> 7\u001b[0m             \u001b[38;5;241m.\u001b[39mMultiHeadBlock\u001b[38;5;241m.\u001b[39mheads[h]\n\u001b[0;32m      8\u001b[0m             \u001b[38;5;241m.\u001b[39mweights_softmax\u001b[38;5;241m.\u001b[39mdata\u001b[38;5;241m.\u001b[39mcpu()\n\u001b[0;32m      9\u001b[0m             \u001b[38;5;241m.\u001b[39mnumpy()[\u001b[38;5;241m0\u001b[39m],\n\u001b[0;32m     10\u001b[0m             inp_seq,\n\u001b[0;32m     11\u001b[0m             inp_seq \u001b[38;5;28;01mif\u001b[39;00m h \u001b[38;5;241m==\u001b[39m \u001b[38;5;241m0\u001b[39m \u001b[38;5;28;01melse\u001b[39;00m [],\n\u001b[0;32m     12\u001b[0m             ax\u001b[38;5;241m=\u001b[39maxs[h],\n\u001b[0;32m     13\u001b[0m         )\n\u001b[0;32m     14\u001b[0m     plt\u001b[38;5;241m.\u001b[39mshow()\n\u001b[0;32m     15\u001b[0m plt\u001b[38;5;241m.\u001b[39mclose()\n",
      "File \u001b[1;32mc:\\Users\\User\\anaconda3\\Lib\\site-packages\\torch\\nn\\modules\\module.py:1688\u001b[0m, in \u001b[0;36mModule.__getattr__\u001b[1;34m(self, name)\u001b[0m\n\u001b[0;32m   1686\u001b[0m     \u001b[38;5;28;01mif\u001b[39;00m name \u001b[38;5;129;01min\u001b[39;00m modules:\n\u001b[0;32m   1687\u001b[0m         \u001b[38;5;28;01mreturn\u001b[39;00m modules[name]\n\u001b[1;32m-> 1688\u001b[0m \u001b[38;5;28;01mraise\u001b[39;00m \u001b[38;5;167;01mAttributeError\u001b[39;00m(\u001b[38;5;124mf\u001b[39m\u001b[38;5;124m\"\u001b[39m\u001b[38;5;124m'\u001b[39m\u001b[38;5;132;01m{\u001b[39;00m\u001b[38;5;28mtype\u001b[39m(\u001b[38;5;28mself\u001b[39m)\u001b[38;5;241m.\u001b[39m\u001b[38;5;18m__name__\u001b[39m\u001b[38;5;132;01m}\u001b[39;00m\u001b[38;5;124m'\u001b[39m\u001b[38;5;124m object has no attribute \u001b[39m\u001b[38;5;124m'\u001b[39m\u001b[38;5;132;01m{\u001b[39;00mname\u001b[38;5;132;01m}\u001b[39;00m\u001b[38;5;124m'\u001b[39m\u001b[38;5;124m\"\u001b[39m)\n",
      "\u001b[1;31mAttributeError\u001b[0m: 'EncoderBlock' object has no attribute 'MultiHeadBlock'"
     ]
    },
    {
     "data": {
      "image/png": "[encoded data removed]",
      "text/plain": [
       "<Figure size 2000x1000 with 4 Axes>"
      ]
     },
     "metadata": {},
     "output_type": "display_data"
    }
   ],
   "source": [
    "for layer in range(num_enc_layers):\n",
    "    fig, axs = plt.subplots(1, num_heads, figsize=(20, 10))\n",
    "    print(\"Encoder Block Number\", layer + 1)\n",
    "    for h in range(num_heads):\n",
    "        draw(\n",
    "            trained_model.encoder.layers[layer]\n",
    "            .MultiHeadBlock.heads[h]\n",
    "            .weights_softmax.data.cpu()\n",
    "            .numpy()[0],\n",
    "            inp_seq,\n",
    "            inp_seq if h == 0 else [],\n",
    "            ax=axs[h],\n",
    "        )\n",
    "    plt.show()\n",
    "plt.close()"
   ]
  },
  {
   "cell_type": "code",
   "execution_count": 99,
   "id": "be6ba6cb",
   "metadata": {
    "id": "be6ba6cb"
   },
   "outputs": [
    {
     "name": "stdout",
     "output_type": "stream",
     "text": [
      "Decoder Block number  1\n",
      "Decoder Self Attention 1\n"
     ]
    },
    {
     "ename": "AttributeError",
     "evalue": "'MultiHeadAttention' object has no attribute 'heads'",
     "output_type": "error",
     "traceback": [
      "\u001b[1;31m---------------------------------------------------------------------------\u001b[0m",
      "\u001b[1;31mAttributeError\u001b[0m                            Traceback (most recent call last)",
      "Cell \u001b[1;32mIn[99], line 10\u001b[0m\n\u001b[0;32m      6\u001b[0m \u001b[38;5;28mprint\u001b[39m(\u001b[38;5;124m\"\u001b[39m\u001b[38;5;124mDecoder Self Attention\u001b[39m\u001b[38;5;124m\"\u001b[39m, layer \u001b[38;5;241m+\u001b[39m \u001b[38;5;241m1\u001b[39m)\n\u001b[0;32m      7\u001b[0m \u001b[38;5;28;01mfor\u001b[39;00m h \u001b[38;5;129;01min\u001b[39;00m \u001b[38;5;28mrange\u001b[39m(num_heads):\n\u001b[0;32m      8\u001b[0m     draw(\n\u001b[0;32m      9\u001b[0m         trained_model\u001b[38;5;241m.\u001b[39mdecoder\u001b[38;5;241m.\u001b[39mlayers[layer]\n\u001b[1;32m---> 10\u001b[0m         \u001b[38;5;241m.\u001b[39mattention_self\u001b[38;5;241m.\u001b[39mheads[h]\n\u001b[0;32m     11\u001b[0m         \u001b[38;5;241m.\u001b[39mweights_softmax\u001b[38;5;241m.\u001b[39mdata\u001b[38;5;241m.\u001b[39mcpu()\n\u001b[0;32m     12\u001b[0m         \u001b[38;5;241m.\u001b[39mnumpy()[\u001b[38;5;241m0\u001b[39m],\n\u001b[0;32m     13\u001b[0m         target_exp,\n\u001b[0;32m     14\u001b[0m         target_exp \u001b[38;5;28;01mif\u001b[39;00m h \u001b[38;5;241m==\u001b[39m \u001b[38;5;241m0\u001b[39m \u001b[38;5;28;01melse\u001b[39;00m [],\n\u001b[0;32m     15\u001b[0m         ax\u001b[38;5;241m=\u001b[39maxs[h],\n\u001b[0;32m     16\u001b[0m     )\n\u001b[0;32m     17\u001b[0m plt\u001b[38;5;241m.\u001b[39mshow()\n\u001b[0;32m     18\u001b[0m \u001b[38;5;28mprint\u001b[39m(\u001b[38;5;124m\"\u001b[39m\u001b[38;5;124mDecoder Cross attention\u001b[39m\u001b[38;5;124m\"\u001b[39m, layer \u001b[38;5;241m+\u001b[39m \u001b[38;5;241m1\u001b[39m)\n",
      "File \u001b[1;32mc:\\Users\\User\\anaconda3\\Lib\\site-packages\\torch\\nn\\modules\\module.py:1688\u001b[0m, in \u001b[0;36mModule.__getattr__\u001b[1;34m(self, name)\u001b[0m\n\u001b[0;32m   1686\u001b[0m     \u001b[38;5;28;01mif\u001b[39;00m name \u001b[38;5;129;01min\u001b[39;00m modules:\n\u001b[0;32m   1687\u001b[0m         \u001b[38;5;28;01mreturn\u001b[39;00m modules[name]\n\u001b[1;32m-> 1688\u001b[0m \u001b[38;5;28;01mraise\u001b[39;00m \u001b[38;5;167;01mAttributeError\u001b[39;00m(\u001b[38;5;124mf\u001b[39m\u001b[38;5;124m\"\u001b[39m\u001b[38;5;124m'\u001b[39m\u001b[38;5;132;01m{\u001b[39;00m\u001b[38;5;28mtype\u001b[39m(\u001b[38;5;28mself\u001b[39m)\u001b[38;5;241m.\u001b[39m\u001b[38;5;18m__name__\u001b[39m\u001b[38;5;132;01m}\u001b[39;00m\u001b[38;5;124m'\u001b[39m\u001b[38;5;124m object has no attribute \u001b[39m\u001b[38;5;124m'\u001b[39m\u001b[38;5;132;01m{\u001b[39;00mname\u001b[38;5;132;01m}\u001b[39;00m\u001b[38;5;124m'\u001b[39m\u001b[38;5;124m\"\u001b[39m)\n",
      "\u001b[1;31mAttributeError\u001b[0m: 'MultiHeadAttention' object has no attribute 'heads'"
     ]
    },
    {
     "data": {
      "image/png": "[encoded data removed]",
      "text/plain": [
       "<Figure size 2000x1000 with 4 Axes>"
      ]
     },
     "metadata": {},
     "output_type": "display_data"
    }
   ],
   "source": [
    "for layer in range(num_dec_layers):\n",
    "    fig, axs = plt.subplots(1, num_heads, figsize=(20, 10))\n",
    "\n",
    "    print(\"Decoder Block number \", layer + 1)\n",
    "\n",
    "    print(\"Decoder Self Attention\", layer + 1)\n",
    "    for h in range(num_heads):\n",
    "        draw(\n",
    "            trained_model.decoder.layers[layer]\n",
    "            .attention_self.heads[h]\n",
    "            .weights_softmax.data.cpu()\n",
    "            .numpy()[0],\n",
    "            target_exp,\n",
    "            target_exp if h == 0 else [],\n",
    "            ax=axs[h],\n",
    "        )\n",
    "    plt.show()\n",
    "    print(\"Decoder Cross attention\", layer + 1)\n",
    "    fig, axs = plt.subplots(1, 4, figsize=(20, 10))\n",
    "    for h in range(num_heads):\n",
    "        draw(\n",
    "            trained_model.decoder.layers[layer]\n",
    "            .attention_cross.heads[h]\n",
    "            .weights_softmax.data.cpu()\n",
    "            .numpy()[0],\n",
    "            inp_seq,\n",
    "            target_exp if h == 0 else [],\n",
    "            ax=axs[h],\n",
    "        )\n",
    "    plt.show()"
   ]
  },
  {
   "cell_type": "code",
   "execution_count": null,
   "id": "bb1717c2",
   "metadata": {},
   "outputs": [],
   "source": []
  }
 ],
 "metadata": {
  "accelerator": "GPU",
  "colab": {
   "collapsed_sections": [
    "b43b5e66-7d96-49a7-8d73-649c1d8de2ef",
    "137296b8-8ab8-4f9d-bff5-e2584370a757",
    "3412c073-d239-450a-aa46-9ec3d61309a6",
    "0b9ae8cd-2813-4845-a4df-d47ebdc60971"
   ],
   "provenance": [],
   "toc_visible": true
  },
  "interpreter": {
   "hash": "3e6a8e772529b48ea93620fbc55d49ea9e469a86dedbc53ac24607b5264d00e5"
  },
  "kernelspec": {
   "display_name": "Python 3 (ipykernel)",
   "language": "python",
   "name": "python3"
  },
  "language_info": {
   "codemirror_mode": {
    "name": "ipython",
    "version": 3
   },
   "file_extension": ".py",
   "mimetype": "text/x-python",
   "name": "python",
   "nbconvert_exporter": "python",
   "pygments_lexer": "ipython3",
   "version": "3.11.5"
  },
  "toc": {
   "base_numbering": 1,
   "nav_menu": {},
   "number_sections": true,
   "sideBar": true,
   "skip_h1_title": false,
   "title_cell": "Table of Contents",
   "title_sidebar": "Contents",
   "toc_cell": false,
   "toc_position": {},
   "toc_section_display": true,
   "toc_window_display": false
  },
  "varInspector": {
   "cols": {
    "lenName": 16,
    "lenType": 16,
    "lenVar": 40
   },
   "kernels_config": {
    "python": {
     "delete_cmd_postfix": "",
     "delete_cmd_prefix": "del ",
     "library": "var_list.py",
     "varRefreshCmd": "print(var_dic_list())"
    },
    "r": {
     "delete_cmd_postfix": ") ",
     "delete_cmd_prefix": "rm(",
     "library": "var_list.r",
     "varRefreshCmd": "cat(var_dic_list()) "
    }
   },
   "types_to_exclude": [
    "module",
    "function",
    "builtin_function_or_method",
    "instance",
    "_Feature"
   ],
   "window_display": false
  }
 },
 "nbformat": 4,
 "nbformat_minor": 5
}
