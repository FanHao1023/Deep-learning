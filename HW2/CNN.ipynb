{
 "cells": [
  {
   "cell_type": "code",
   "execution_count": 1,
   "id": "8e79f2a3",
   "metadata": {},
   "outputs": [
    {
     "name": "stdout",
     "output_type": "stream",
     "text": [
      "WARNING:tensorflow:From C:\\Users\\User\\anaconda3\\Lib\\site-packages\\keras\\src\\losses.py:2976: The name tf.losses.sparse_softmax_cross_entropy is deprecated. Please use tf.compat.v1.losses.sparse_softmax_cross_entropy instead.\n",
      "\n"
     ]
    }
   ],
   "source": [
    "import numpy as np\n",
    "import matplotlib.pyplot as plt\n",
    "%matplotlib inline\n",
    "import keras\n",
    "import tensorflow as tf\n",
    "\n",
    "from tensorflow import keras\n",
    "from keras.models import Sequential\n",
    "from tensorflow.keras.layers import Input, Conv2D, Dense, Flatten, Dropout\n",
    "from tensorflow.keras.layers import GlobalMaxPooling2D, MaxPooling2D\n",
    "from tensorflow.keras.layers import BatchNormalization\n",
    "from tensorflow.keras.models import Model\n",
    "from tensorflow.keras import regularizers, optimizers\n",
    "from tensorflow.keras.utils import to_categorical\n",
    "from sklearn.metrics import accuracy_score\n",
    "(X_train, Y_train), (X_test, Y_test) = keras.datasets.cifar10.load_data()"
   ]
  },
  {
   "cell_type": "code",
   "execution_count": 2,
   "id": "67cf9770",
   "metadata": {},
   "outputs": [],
   "source": [
    "# Normalizing\n",
    "X_train = X_train/255\n",
    "X_test = X_test/255\n",
    "# One-Hot-Encoding\n",
    "Y_train_en = to_categorical(Y_train,10)\n",
    "Y_test_en = to_categorical(Y_test,10)"
   ]
  },
  {
   "cell_type": "code",
   "execution_count": 3,
   "id": "22ba2a00",
   "metadata": {},
   "outputs": [
    {
     "name": "stdout",
     "output_type": "stream",
     "text": [
      "WARNING:tensorflow:From C:\\Users\\User\\anaconda3\\Lib\\site-packages\\keras\\src\\backend.py:873: The name tf.get_default_graph is deprecated. Please use tf.compat.v1.get_default_graph instead.\n",
      "\n",
      "WARNING:tensorflow:From C:\\Users\\User\\anaconda3\\Lib\\site-packages\\keras\\src\\layers\\pooling\\max_pooling2d.py:161: The name tf.nn.max_pool is deprecated. Please use tf.nn.max_pool2d instead.\n",
      "\n",
      "WARNING:tensorflow:From C:\\Users\\User\\anaconda3\\Lib\\site-packages\\keras\\src\\optimizers\\__init__.py:309: The name tf.train.Optimizer is deprecated. Please use tf.compat.v1.train.Optimizer instead.\n",
      "\n"
     ]
    }
   ],
   "source": [
    "# Base Model\n",
    "model = Sequential()\n",
    "model.add(Conv2D(32,(4,4),input_shape = (32,32,3),activation='relu'))\n",
    "model.add(MaxPooling2D(pool_size = (2,2)))\n",
    "model.add(Conv2D(32,(4,4),input_shape = (32,32,3),activation='relu'))\n",
    "model.add(MaxPooling2D(pool_size = (2,2)))\n",
    "model.add(Flatten())\n",
    "model.add(Dense(128, activation ='relu'))\n",
    "model.add(Dense(10, activation ='softmax'))\n",
    "model.compile(loss ='categorical_crossentropy', optimizer ='adam', metrics =['accuracy'])"
   ]
  },
  {
   "cell_type": "code",
   "execution_count": 4,
   "id": "440ff45c",
   "metadata": {},
   "outputs": [
    {
     "name": "stdout",
     "output_type": "stream",
     "text": [
      "Epoch 1/20\n",
      "WARNING:tensorflow:From C:\\Users\\User\\anaconda3\\Lib\\site-packages\\keras\\src\\utils\\tf_utils.py:492: The name tf.ragged.RaggedTensorValue is deprecated. Please use tf.compat.v1.ragged.RaggedTensorValue instead.\n",
      "\n",
      "WARNING:tensorflow:From C:\\Users\\User\\anaconda3\\Lib\\site-packages\\keras\\src\\engine\\base_layer_utils.py:384: The name tf.executing_eagerly_outside_functions is deprecated. Please use tf.compat.v1.executing_eagerly_outside_functions instead.\n",
      "\n",
      "1563/1563 [==============================] - 6s 3ms/step - loss: 1.5219 - accuracy: 0.4505 - val_loss: 1.3958 - val_accuracy: 0.5039\n",
      "Epoch 2/20\n",
      "1563/1563 [==============================] - 5s 3ms/step - loss: 1.2231 - accuracy: 0.5671 - val_loss: 1.1952 - val_accuracy: 0.5810\n",
      "Epoch 3/20\n",
      "1563/1563 [==============================] - 5s 3ms/step - loss: 1.0918 - accuracy: 0.6175 - val_loss: 1.1090 - val_accuracy: 0.6060\n",
      "Epoch 4/20\n",
      "1563/1563 [==============================] - 5s 3ms/step - loss: 1.0020 - accuracy: 0.6481 - val_loss: 1.0970 - val_accuracy: 0.6186\n",
      "Epoch 5/20\n",
      "1563/1563 [==============================] - 5s 3ms/step - loss: 0.9290 - accuracy: 0.6740 - val_loss: 1.0528 - val_accuracy: 0.6360\n",
      "Epoch 6/20\n",
      "1563/1563 [==============================] - 5s 3ms/step - loss: 0.8754 - accuracy: 0.6947 - val_loss: 1.0051 - val_accuracy: 0.6507\n",
      "Epoch 7/20\n",
      "1563/1563 [==============================] - 5s 3ms/step - loss: 0.8243 - accuracy: 0.7112 - val_loss: 0.9963 - val_accuracy: 0.6533\n",
      "Epoch 8/20\n",
      "1563/1563 [==============================] - 5s 3ms/step - loss: 0.7829 - accuracy: 0.7271 - val_loss: 0.9891 - val_accuracy: 0.6577\n",
      "Epoch 9/20\n",
      "1563/1563 [==============================] - 5s 3ms/step - loss: 0.7396 - accuracy: 0.7421 - val_loss: 0.9762 - val_accuracy: 0.6642\n",
      "Epoch 10/20\n",
      "1563/1563 [==============================] - 5s 3ms/step - loss: 0.7014 - accuracy: 0.7544 - val_loss: 1.0010 - val_accuracy: 0.6726\n",
      "Epoch 11/20\n",
      "1563/1563 [==============================] - 5s 3ms/step - loss: 0.6698 - accuracy: 0.7641 - val_loss: 1.0479 - val_accuracy: 0.6560\n",
      "Epoch 12/20\n",
      "1563/1563 [==============================] - 5s 3ms/step - loss: 0.6397 - accuracy: 0.7746 - val_loss: 1.0185 - val_accuracy: 0.6742\n",
      "Epoch 13/20\n",
      "1563/1563 [==============================] - 5s 3ms/step - loss: 0.6093 - accuracy: 0.7845 - val_loss: 1.0326 - val_accuracy: 0.6680\n",
      "Epoch 14/20\n",
      "1563/1563 [==============================] - 5s 3ms/step - loss: 0.5819 - accuracy: 0.7944 - val_loss: 1.0540 - val_accuracy: 0.6692\n",
      "Epoch 15/20\n",
      "1563/1563 [==============================] - 5s 3ms/step - loss: 0.5507 - accuracy: 0.8057 - val_loss: 1.0902 - val_accuracy: 0.6638\n",
      "Epoch 16/20\n",
      "1563/1563 [==============================] - 5s 3ms/step - loss: 0.5308 - accuracy: 0.8117 - val_loss: 1.1161 - val_accuracy: 0.6580\n",
      "Epoch 17/20\n",
      "1563/1563 [==============================] - 5s 3ms/step - loss: 0.5065 - accuracy: 0.8199 - val_loss: 1.1660 - val_accuracy: 0.6600\n",
      "Epoch 18/20\n",
      "1563/1563 [==============================] - 5s 3ms/step - loss: 0.4816 - accuracy: 0.8307 - val_loss: 1.1748 - val_accuracy: 0.6583\n",
      "Epoch 19/20\n",
      "1563/1563 [==============================] - 5s 3ms/step - loss: 0.4614 - accuracy: 0.8375 - val_loss: 1.2112 - val_accuracy: 0.6637\n",
      "Epoch 20/20\n",
      "1563/1563 [==============================] - 5s 3ms/step - loss: 0.4433 - accuracy: 0.8428 - val_loss: 1.2429 - val_accuracy: 0.6603\n"
     ]
    }
   ],
   "source": [
    "history = model.fit(X_train, Y_train_en, epochs = 20, verbose=1,validation_data=(X_test,Y_test_en))"
   ]
  },
  {
   "cell_type": "code",
   "execution_count": 7,
   "id": "0b71afa0",
   "metadata": {
    "scrolled": false
   },
   "outputs": [
    {
     "name": "stdout",
     "output_type": "stream",
     "text": [
      "Epoch 1/40\n",
      "1563/1563 [==============================] - 43s 27ms/step - loss: 1.7046 - accuracy: 0.3640 - val_loss: 1.4547 - val_accuracy: 0.4655\n",
      "Epoch 2/40\n",
      "1563/1563 [==============================] - 44s 28ms/step - loss: 1.4128 - accuracy: 0.4888 - val_loss: 1.2668 - val_accuracy: 0.5467\n",
      "Epoch 3/40\n",
      "1563/1563 [==============================] - 43s 27ms/step - loss: 1.2863 - accuracy: 0.5403 - val_loss: 1.1425 - val_accuracy: 0.5927\n",
      "Epoch 4/40\n",
      "1563/1563 [==============================] - 43s 27ms/step - loss: 1.2001 - accuracy: 0.5726 - val_loss: 1.1528 - val_accuracy: 0.5998\n",
      "Epoch 5/40\n",
      "1563/1563 [==============================] - 43s 27ms/step - loss: 1.1357 - accuracy: 0.5966 - val_loss: 1.0955 - val_accuracy: 0.6160\n",
      "Epoch 6/40\n",
      "1563/1563 [==============================] - 43s 27ms/step - loss: 1.0866 - accuracy: 0.6184 - val_loss: 1.0048 - val_accuracy: 0.6507\n",
      "Epoch 7/40\n",
      "1563/1563 [==============================] - 43s 27ms/step - loss: 1.0486 - accuracy: 0.6303 - val_loss: 1.0488 - val_accuracy: 0.6326\n",
      "Epoch 8/40\n",
      "1563/1563 [==============================] - 43s 27ms/step - loss: 1.0087 - accuracy: 0.6435 - val_loss: 0.9819 - val_accuracy: 0.6614\n",
      "Epoch 9/40\n",
      "1563/1563 [==============================] - 43s 27ms/step - loss: 0.9766 - accuracy: 0.6555 - val_loss: 0.9863 - val_accuracy: 0.6612\n",
      "Epoch 10/40\n",
      "1563/1563 [==============================] - 43s 27ms/step - loss: 0.9502 - accuracy: 0.6670 - val_loss: 1.0166 - val_accuracy: 0.6454\n",
      "Epoch 11/40\n",
      "1563/1563 [==============================] - 43s 27ms/step - loss: 0.9280 - accuracy: 0.6751 - val_loss: 0.8870 - val_accuracy: 0.6907\n",
      "Epoch 12/40\n",
      "1563/1563 [==============================] - 43s 27ms/step - loss: 0.9023 - accuracy: 0.6820 - val_loss: 0.9227 - val_accuracy: 0.6853\n",
      "Epoch 13/40\n",
      "1563/1563 [==============================] - 43s 27ms/step - loss: 0.8862 - accuracy: 0.6907 - val_loss: 0.8954 - val_accuracy: 0.6890\n",
      "Epoch 14/40\n",
      "1563/1563 [==============================] - 43s 27ms/step - loss: 0.8711 - accuracy: 0.6956 - val_loss: 0.8608 - val_accuracy: 0.7035\n",
      "Epoch 15/40\n",
      "1563/1563 [==============================] - 43s 27ms/step - loss: 0.8548 - accuracy: 0.6996 - val_loss: 0.9059 - val_accuracy: 0.6899\n",
      "Epoch 16/40\n",
      "1563/1563 [==============================] - 43s 27ms/step - loss: 0.8382 - accuracy: 0.7068 - val_loss: 0.8949 - val_accuracy: 0.6951\n",
      "Epoch 17/40\n",
      "1563/1563 [==============================] - 43s 27ms/step - loss: 0.8244 - accuracy: 0.7117 - val_loss: 0.8899 - val_accuracy: 0.6974\n",
      "Epoch 18/40\n",
      "1563/1563 [==============================] - 43s 27ms/step - loss: 0.8142 - accuracy: 0.7144 - val_loss: 0.8517 - val_accuracy: 0.7107\n",
      "Epoch 19/40\n",
      "1563/1563 [==============================] - 43s 27ms/step - loss: 0.8045 - accuracy: 0.7180 - val_loss: 0.8260 - val_accuracy: 0.7163\n",
      "Epoch 20/40\n",
      "1563/1563 [==============================] - 43s 27ms/step - loss: 0.7887 - accuracy: 0.7241 - val_loss: 0.8795 - val_accuracy: 0.7070\n",
      "Epoch 21/40\n",
      "1563/1563 [==============================] - 43s 27ms/step - loss: 0.7835 - accuracy: 0.7274 - val_loss: 0.8257 - val_accuracy: 0.7235\n",
      "Epoch 22/40\n",
      "1563/1563 [==============================] - 43s 27ms/step - loss: 0.7751 - accuracy: 0.7281 - val_loss: 0.8772 - val_accuracy: 0.7006\n",
      "Epoch 23/40\n",
      "1563/1563 [==============================] - 43s 27ms/step - loss: 0.7650 - accuracy: 0.7317 - val_loss: 0.8231 - val_accuracy: 0.7225\n",
      "Epoch 24/40\n",
      "1563/1563 [==============================] - 43s 27ms/step - loss: 0.7603 - accuracy: 0.7336 - val_loss: 0.8625 - val_accuracy: 0.7095\n",
      "Epoch 25/40\n",
      "1563/1563 [==============================] - 43s 27ms/step - loss: 0.7440 - accuracy: 0.7386 - val_loss: 0.8661 - val_accuracy: 0.7120\n",
      "Epoch 26/40\n",
      "1563/1563 [==============================] - 43s 27ms/step - loss: 0.7395 - accuracy: 0.7400 - val_loss: 0.8244 - val_accuracy: 0.7187\n",
      "Epoch 27/40\n",
      "1563/1563 [==============================] - 43s 28ms/step - loss: 0.7286 - accuracy: 0.7459 - val_loss: 0.7885 - val_accuracy: 0.7297\n",
      "Epoch 28/40\n",
      "1563/1563 [==============================] - 43s 28ms/step - loss: 0.7211 - accuracy: 0.7451 - val_loss: 0.8111 - val_accuracy: 0.7241\n",
      "Epoch 29/40\n",
      "1563/1563 [==============================] - 43s 28ms/step - loss: 0.7163 - accuracy: 0.7479 - val_loss: 0.8033 - val_accuracy: 0.7330\n",
      "Epoch 30/40\n",
      "1563/1563 [==============================] - 43s 28ms/step - loss: 0.7109 - accuracy: 0.7506 - val_loss: 0.7828 - val_accuracy: 0.7390\n",
      "Epoch 31/40\n",
      "1563/1563 [==============================] - 44s 28ms/step - loss: 0.7004 - accuracy: 0.7572 - val_loss: 0.7795 - val_accuracy: 0.7391\n",
      "Epoch 32/40\n",
      "1563/1563 [==============================] - 43s 27ms/step - loss: 0.6998 - accuracy: 0.7550 - val_loss: 0.7712 - val_accuracy: 0.7403\n",
      "Epoch 33/40\n",
      "1563/1563 [==============================] - 43s 28ms/step - loss: 0.6899 - accuracy: 0.7597 - val_loss: 0.8295 - val_accuracy: 0.7258\n",
      "Epoch 34/40\n",
      "1563/1563 [==============================] - 43s 27ms/step - loss: 0.6802 - accuracy: 0.7613 - val_loss: 0.8505 - val_accuracy: 0.7211\n",
      "Epoch 35/40\n",
      "1563/1563 [==============================] - 43s 27ms/step - loss: 0.6717 - accuracy: 0.7648 - val_loss: 0.8003 - val_accuracy: 0.7291\n",
      "Epoch 36/40\n",
      "1563/1563 [==============================] - 43s 27ms/step - loss: 0.6740 - accuracy: 0.7651 - val_loss: 0.8117 - val_accuracy: 0.7326\n",
      "Epoch 37/40\n",
      "1563/1563 [==============================] - 43s 27ms/step - loss: 0.6624 - accuracy: 0.7687 - val_loss: 0.8366 - val_accuracy: 0.7214\n",
      "Epoch 38/40\n",
      "1563/1563 [==============================] - 43s 28ms/step - loss: 0.6617 - accuracy: 0.7697 - val_loss: 0.8148 - val_accuracy: 0.7266\n",
      "Epoch 39/40\n",
      "1563/1563 [==============================] - 43s 27ms/step - loss: 0.6574 - accuracy: 0.7742 - val_loss: 0.8149 - val_accuracy: 0.7290\n",
      "Epoch 40/40\n",
      "1563/1563 [==============================] - 43s 27ms/step - loss: 0.6562 - accuracy: 0.7707 - val_loss: 0.7833 - val_accuracy: 0.7386\n"
     ]
    }
   ],
   "source": [
    "# Model_2 with more filters\n",
    "model_2 = Sequential()\n",
    "model_2.add(Conv2D(64,(4,4),input_shape=(32,32,3),activation='relu'))\n",
    "model_2.add(Conv2D(64,(4,4),input_shape=(32,32,3),activation='relu'))\n",
    "model_2.add(MaxPooling2D(pool_size=(2,2)))\n",
    "model_2.add(Dropout(0.4))\n",
    "model_2.add(Conv2D(128,(4,4),input_shape=(32,32,3),activation='relu'))\n",
    "model_2.add(Conv2D(128,(4,4),input_shape=(32,32,3),activation='relu'))\n",
    "model_2.add(MaxPooling2D(pool_size=(2,2)))\n",
    "model_2.add(Dropout(0.4))\n",
    "model_2.add(Flatten())\n",
    "model_2.add(Dense(1024,activation='relu'))\n",
    "model_2.add(Dense(1024,activation='relu'))\n",
    "model_2.add(Dense(units = 10, activation = 'softmax'))\n",
    "model_2.compile(loss='categorical_crossentropy',optimizer='adam',metrics=['accuracy'])\n",
    "\n",
    "\n",
    "history_2 = model_2.fit(X_train, Y_train_en, epochs = 40, verbose=1,validation_data=(X_test,Y_test_en))"
   ]
  },
  {
   "cell_type": "code",
   "execution_count": 9,
   "id": "7effa899",
   "metadata": {},
   "outputs": [
    {
     "name": "stdout",
     "output_type": "stream",
     "text": [
      "Model: \"sequential_4\"\n",
      "_________________________________________________________________\n",
      " Layer (type)                Output Shape              Param #   \n",
      "=================================================================\n",
      " conv2d_16 (Conv2D)          (None, 29, 29, 64)        3136      \n",
      "                                                                 \n",
      " conv2d_17 (Conv2D)          (None, 26, 26, 64)        65600     \n",
      "                                                                 \n",
      " max_pooling2d_8 (MaxPoolin  (None, 13, 13, 64)        0         \n",
      " g2D)                                                            \n",
      "                                                                 \n",
      " dropout_8 (Dropout)         (None, 13, 13, 64)        0         \n",
      "                                                                 \n",
      " conv2d_18 (Conv2D)          (None, 10, 10, 128)       131200    \n",
      "                                                                 \n",
      " conv2d_19 (Conv2D)          (None, 7, 7, 128)         262272    \n",
      "                                                                 \n",
      " max_pooling2d_9 (MaxPoolin  (None, 3, 3, 128)         0         \n",
      " g2D)                                                            \n",
      "                                                                 \n",
      " dropout_9 (Dropout)         (None, 3, 3, 128)         0         \n",
      "                                                                 \n",
      " flatten_4 (Flatten)         (None, 1152)              0         \n",
      "                                                                 \n",
      " dense_12 (Dense)            (None, 1024)              1180672   \n",
      "                                                                 \n",
      " dense_13 (Dense)            (None, 1024)              1049600   \n",
      "                                                                 \n",
      " dense_14 (Dense)            (None, 10)                10250     \n",
      "                                                                 \n",
      "=================================================================\n",
      "Total params: 2702730 (10.31 MB)\n",
      "Trainable params: 2702730 (10.31 MB)\n",
      "Non-trainable params: 0 (0.00 Byte)\n",
      "_________________________________________________________________\n"
     ]
    }
   ],
   "source": [
    "model_2.summary()"
   ]
  },
  {
   "cell_type": "code",
   "execution_count": null,
   "id": "d2481971",
   "metadata": {},
   "outputs": [],
   "source": []
  }
 ],
 "metadata": {
  "kernelspec": {
   "display_name": "Python 3 (ipykernel)",
   "language": "python",
   "name": "python3"
  },
  "language_info": {
   "codemirror_mode": {
    "name": "ipython",
    "version": 3
   },
   "file_extension": ".py",
   "mimetype": "text/x-python",
   "name": "python",
   "nbconvert_exporter": "python",
   "pygments_lexer": "ipython3",
   "version": "3.11.5"
  },
  "toc": {
   "base_numbering": 1,
   "nav_menu": {},
   "number_sections": true,
   "sideBar": true,
   "skip_h1_title": false,
   "title_cell": "Table of Contents",
   "title_sidebar": "Contents",
   "toc_cell": false,
   "toc_position": {},
   "toc_section_display": true,
   "toc_window_display": false
  },
  "varInspector": {
   "cols": {
    "lenName": 16,
    "lenType": 16,
    "lenVar": 40
   },
   "kernels_config": {
    "python": {
     "delete_cmd_postfix": "",
     "delete_cmd_prefix": "del ",
     "library": "var_list.py",
     "varRefreshCmd": "print(var_dic_list())"
    },
    "r": {
     "delete_cmd_postfix": ") ",
     "delete_cmd_prefix": "rm(",
     "library": "var_list.r",
     "varRefreshCmd": "cat(var_dic_list()) "
    }
   },
   "types_to_exclude": [
    "module",
    "function",
    "builtin_function_or_method",
    "instance",
    "_Feature"
   ],
   "window_display": false
  }
 },
 "nbformat": 4,
 "nbformat_minor": 5
}
