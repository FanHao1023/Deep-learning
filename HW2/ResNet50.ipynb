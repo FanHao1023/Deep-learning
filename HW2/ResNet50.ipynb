{
 "cells": [
  {
   "cell_type": "code",
   "execution_count": 1,
   "id": "df63da7b",
   "metadata": {},
   "outputs": [
    {
     "name": "stdout",
     "output_type": "stream",
     "text": [
      "WARNING:tensorflow:From C:\\Users\\User\\anaconda3\\Lib\\site-packages\\keras\\src\\losses.py:2976: The name tf.losses.sparse_softmax_cross_entropy is deprecated. Please use tf.compat.v1.losses.sparse_softmax_cross_entropy instead.\n",
      "\n"
     ]
    }
   ],
   "source": [
    "from tensorflow import keras\n",
    "import tensorflow as tf\n",
    "from tensorflow.keras import layers\n",
    "(X_train, Y_train), (X_test, Y_test) = keras.datasets.cifar10.load_data()"
   ]
  },
  {
   "cell_type": "code",
   "execution_count": 2,
   "id": "4ba3cb4a",
   "metadata": {},
   "outputs": [],
   "source": [
    "def preprocess_data(X, Y):\n",
    "    \"\"\"\n",
    "    Preprocess data for use in model keras\n",
    "    \"\"\"\n",
    "    X_p = keras.applications.resnet50.preprocess_input(X)\n",
    "    Y_p = keras.utils.to_categorical(Y, num_classes=10)\n",
    "    return X_p, Y_p\n",
    "X_train, Y_train = preprocess_data(X_train, Y_train)\n",
    "X_test, Y_test = preprocess_data(X_test, Y_test)"
   ]
  },
  {
   "cell_type": "code",
   "execution_count": 3,
   "id": "d595636f",
   "metadata": {},
   "outputs": [
    {
     "name": "stdout",
     "output_type": "stream",
     "text": [
      "WARNING:tensorflow:From C:\\Users\\User\\anaconda3\\Lib\\site-packages\\keras\\src\\backend.py:1398: The name tf.executing_eagerly_outside_functions is deprecated. Please use tf.compat.v1.executing_eagerly_outside_functions instead.\n",
      "\n"
     ]
    }
   ],
   "source": [
    "inputs = keras.Input(shape=(32, 32, 3))"
   ]
  },
  {
   "cell_type": "code",
   "execution_count": 4,
   "id": "acd969fb",
   "metadata": {},
   "outputs": [
    {
     "name": "stdout",
     "output_type": "stream",
     "text": [
      "WARNING:tensorflow:From C:\\Users\\User\\anaconda3\\Lib\\site-packages\\keras\\src\\layers\\normalization\\batch_normalization.py:979: The name tf.nn.fused_batch_norm is deprecated. Please use tf.compat.v1.nn.fused_batch_norm instead.\n",
      "\n"
     ]
    }
   ],
   "source": [
    "base_model = keras.applications.resnet50.ResNet50(\n",
    "    include_top=False,\n",
    "    input_shape=(32, 32, 3))"
   ]
  },
  {
   "cell_type": "code",
   "execution_count": 5,
   "id": "c87f67a1",
   "metadata": {},
   "outputs": [],
   "source": [
    "x = base_model(inputs, training=False)\n",
    "x = keras.layers.GlobalAveragePooling2D()(x)\n",
    "x = keras.layers.Dense(1000, activation='relu')(x)\n",
    "x = keras.layers.Dropout(0.5)(x)\n",
    "outputs = keras.layers.Dense(10, activation='softmax')(x)\n",
    "\n",
    "model = keras.models.Model(inputs=inputs, outputs=outputs)\n",
    "base_model.trainable = False\n",
    "\n",
    "optimizer = keras.optimizers.Adam()\n",
    "model.compile(loss='categorical_crossentropy',\n",
    "                 optimizer=optimizer,\n",
    "                 metrics=['accuracy'])"
   ]
  },
  {
   "cell_type": "code",
   "execution_count": 6,
   "id": "33a13eb6",
   "metadata": {},
   "outputs": [
    {
     "name": "stdout",
     "output_type": "stream",
     "text": [
      "Epoch 1/20\n",
      "WARNING:tensorflow:From C:\\Users\\User\\anaconda3\\Lib\\site-packages\\keras\\src\\utils\\tf_utils.py:492: The name tf.ragged.RaggedTensorValue is deprecated. Please use tf.compat.v1.ragged.RaggedTensorValue instead.\n",
      "\n",
      "WARNING:tensorflow:From C:\\Users\\User\\anaconda3\\Lib\\site-packages\\keras\\src\\engine\\base_layer_utils.py:384: The name tf.executing_eagerly_outside_functions is deprecated. Please use tf.compat.v1.executing_eagerly_outside_functions instead.\n",
      "\n",
      "391/391 [==============================] - 38s 91ms/step - loss: 1.3987 - accuracy: 0.5637 - val_loss: 1.0189 - val_accuracy: 0.6399\n",
      "Epoch 2/20\n",
      "391/391 [==============================] - 34s 88ms/step - loss: 1.0366 - accuracy: 0.6384 - val_loss: 0.9805 - val_accuracy: 0.6556\n",
      "Epoch 3/20\n",
      "391/391 [==============================] - 34s 87ms/step - loss: 0.9574 - accuracy: 0.6641 - val_loss: 0.9667 - val_accuracy: 0.6591\n",
      "Epoch 4/20\n",
      "391/391 [==============================] - 34s 88ms/step - loss: 0.8950 - accuracy: 0.6855 - val_loss: 0.9792 - val_accuracy: 0.6596\n",
      "Epoch 5/20\n",
      "391/391 [==============================] - 34s 88ms/step - loss: 0.8359 - accuracy: 0.7058 - val_loss: 0.9767 - val_accuracy: 0.6740\n",
      "Epoch 6/20\n",
      "391/391 [==============================] - 35s 89ms/step - loss: 0.7891 - accuracy: 0.7214 - val_loss: 0.9572 - val_accuracy: 0.6733\n",
      "Epoch 7/20\n",
      "391/391 [==============================] - 34s 88ms/step - loss: 0.7491 - accuracy: 0.7343 - val_loss: 0.9676 - val_accuracy: 0.6768\n",
      "Epoch 8/20\n",
      "391/391 [==============================] - 35s 88ms/step - loss: 0.7023 - accuracy: 0.7507 - val_loss: 0.9741 - val_accuracy: 0.6797\n",
      "Epoch 9/20\n",
      "391/391 [==============================] - 35s 90ms/step - loss: 0.6560 - accuracy: 0.7667 - val_loss: 0.9908 - val_accuracy: 0.6828\n",
      "Epoch 10/20\n",
      "391/391 [==============================] - 35s 89ms/step - loss: 0.6218 - accuracy: 0.7792 - val_loss: 1.0252 - val_accuracy: 0.6770\n",
      "Epoch 11/20\n",
      "391/391 [==============================] - 34s 88ms/step - loss: 0.5847 - accuracy: 0.7905 - val_loss: 1.0412 - val_accuracy: 0.6795\n",
      "Epoch 12/20\n",
      "391/391 [==============================] - 34s 88ms/step - loss: 0.5544 - accuracy: 0.8015 - val_loss: 1.0780 - val_accuracy: 0.6817\n",
      "Epoch 13/20\n",
      "391/391 [==============================] - 34s 88ms/step - loss: 0.5309 - accuracy: 0.8094 - val_loss: 1.0961 - val_accuracy: 0.6806\n",
      "Epoch 14/20\n",
      "391/391 [==============================] - 35s 89ms/step - loss: 0.4912 - accuracy: 0.8230 - val_loss: 1.1327 - val_accuracy: 0.6760\n",
      "Epoch 15/20\n",
      "391/391 [==============================] - 34s 88ms/step - loss: 0.4712 - accuracy: 0.8309 - val_loss: 1.1538 - val_accuracy: 0.6786\n",
      "Epoch 16/20\n",
      "391/391 [==============================] - 34s 87ms/step - loss: 0.4464 - accuracy: 0.8402 - val_loss: 1.1686 - val_accuracy: 0.6796\n",
      "Epoch 17/20\n",
      "391/391 [==============================] - 35s 88ms/step - loss: 0.4301 - accuracy: 0.8455 - val_loss: 1.2071 - val_accuracy: 0.6802\n",
      "Epoch 18/20\n",
      "391/391 [==============================] - 35s 90ms/step - loss: 0.4186 - accuracy: 0.8513 - val_loss: 1.2024 - val_accuracy: 0.6852\n",
      "Epoch 19/20\n",
      "391/391 [==============================] - 36s 91ms/step - loss: 0.4012 - accuracy: 0.8558 - val_loss: 1.2452 - val_accuracy: 0.6816\n",
      "Epoch 20/20\n",
      "391/391 [==============================] - 35s 90ms/step - loss: 0.3835 - accuracy: 0.8621 - val_loss: 1.2916 - val_accuracy: 0.6779\n"
     ]
    },
    {
     "data": {
      "text/plain": [
       "<keras.src.callbacks.History at 0x19bdec8d190>"
      ]
     },
     "execution_count": 6,
     "metadata": {},
     "output_type": "execute_result"
    }
   ],
   "source": [
    "model.fit(X_train, Y_train,\n",
    "          validation_data=(X_test, Y_test),\n",
    "          batch_size=128,             \n",
    "          epochs=20,\n",
    "          verbose=1)"
   ]
  },
  {
   "cell_type": "code",
   "execution_count": null,
   "id": "caca7fd3",
   "metadata": {},
   "outputs": [],
   "source": []
  }
 ],
 "metadata": {
  "kernelspec": {
   "display_name": "Python 3 (ipykernel)",
   "language": "python",
   "name": "python3"
  },
  "language_info": {
   "codemirror_mode": {
    "name": "ipython",
    "version": 3
   },
   "file_extension": ".py",
   "mimetype": "text/x-python",
   "name": "python",
   "nbconvert_exporter": "python",
   "pygments_lexer": "ipython3",
   "version": "3.11.5"
  },
  "toc": {
   "base_numbering": 1,
   "nav_menu": {},
   "number_sections": true,
   "sideBar": true,
   "skip_h1_title": false,
   "title_cell": "Table of Contents",
   "title_sidebar": "Contents",
   "toc_cell": false,
   "toc_position": {},
   "toc_section_display": true,
   "toc_window_display": false
  },
  "varInspector": {
   "cols": {
    "lenName": 16,
    "lenType": 16,
    "lenVar": 40
   },
   "kernels_config": {
    "python": {
     "delete_cmd_postfix": "",
     "delete_cmd_prefix": "del ",
     "library": "var_list.py",
     "varRefreshCmd": "print(var_dic_list())"
    },
    "r": {
     "delete_cmd_postfix": ") ",
     "delete_cmd_prefix": "rm(",
     "library": "var_list.r",
     "varRefreshCmd": "cat(var_dic_list()) "
    }
   },
   "types_to_exclude": [
    "module",
    "function",
    "builtin_function_or_method",
    "instance",
    "_Feature"
   ],
   "window_display": false
  }
 },
 "nbformat": 4,
 "nbformat_minor": 5
}
